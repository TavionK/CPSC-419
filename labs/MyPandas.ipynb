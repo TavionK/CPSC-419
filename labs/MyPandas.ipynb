{
  "nbformat": 4,
  "nbformat_minor": 0,
  "metadata": {
    "anaconda-cloud": {},
    "kernelspec": {
      "display_name": "Python 3",
      "language": "python",
      "name": "python3"
    },
    "language_info": {
      "codemirror_mode": {
        "name": "ipython",
        "version": 3
      },
      "file_extension": ".py",
      "mimetype": "text/x-python",
      "name": "python",
      "nbconvert_exporter": "python",
      "pygments_lexer": "ipython3",
      "version": "3.8.3"
    },
    "colab": {
      "name": "MyPandas.ipynb",
      "provenance": [],
      "include_colab_link": true
    }
  },
  "cells": [
    {
      "cell_type": "markdown",
      "metadata": {
        "id": "view-in-github",
        "colab_type": "text"
      },
      "source": [
        "<a href=\"https://colab.research.google.com/github/TavionK/CPSC-419/blob/main/labs/MyPandas.ipynb\" target=\"_parent\"><img src=\"https://colab.research.google.com/assets/colab-badge.svg\" alt=\"Open In Colab\"/></a>"
      ]
    },
    {
      "cell_type": "markdown",
      "metadata": {
        "id": "exqrDFD_DzPP"
      },
      "source": [
        "# Intro to Pandas\n",
        "![](https://raw.githubusercontent.com/zacharski/ml-class/master/labs/pics/Pandas_logo.svg)\n",
        "\n",
        "(logo by [Marc Garcia](https://github.com/pandas-dev/pandas/blob/master/web/pandas/static/img/pandas.svg))\n",
        "\n",
        "The Pandas Library is built on top of Numpy and is designed to make working with data fast and easy. Like Numpy, the library includes data structures and functions to manipulate that data.\n",
        "\n",
        "As we learned in the Numpy Notebook, we need to load in the library before we can use it."
      ]
    },
    {
      "cell_type": "code",
      "metadata": {
        "id": "rT4X1QYEDzPU"
      },
      "source": [
        "from pandas import Series, DataFrame\n",
        "import numpy as np\n",
        "import pandas as pd"
      ],
      "execution_count": 3,
      "outputs": []
    },
    {
      "cell_type": "markdown",
      "metadata": {
        "id": "LJiDHWMzDzPV"
      },
      "source": [
        "Let's dissect the code above.\n",
        "\n",
        "The `Series` and `DataFrame` datatypes are commonly used so we import them directly with\n",
        "\n",
        "```\n",
        "from pandas import Series, DataFrame\n",
        "```\n",
        "\n",
        "For all other datatypes and functions in the library the `pd` prefix is commonly used so we import that with\n",
        "\n",
        "```\n",
        "import pandas as pd\n",
        "```\n",
        "\n",
        "## Series\n",
        "A series is a 1d array-like object\n",
        "\n",
        "Let's consider the heights (in cm) of Japan's Women's Basketball Team at the 2016 Olympics.      \n",
        "\n",
        "We can create a series in a number of ways.\n",
        "\n",
        "##### directly from a Python list"
      ]
    },
    {
      "cell_type": "code",
      "metadata": {
        "id": "MX_8cyvMDzPV"
      },
      "source": [
        "japan = [173, 182, 185, 176, 183, 165, 191, 177, 165, 161, 175, 189]\n",
        "athletesHeight = Series(japan)"
      ],
      "execution_count": 4,
      "outputs": []
    },
    {
      "cell_type": "markdown",
      "metadata": {
        "id": "xmYHzzDGDzPV"
      },
      "source": [
        "We could also have done"
      ]
    },
    {
      "cell_type": "code",
      "metadata": {
        "id": "DMPpeKQJDzPW"
      },
      "source": [
        "athletesHeight = Series([173, 182, 185, 176, 183, 165, 191, 177, 165, 161, 175, 189])"
      ],
      "execution_count": 5,
      "outputs": []
    },
    {
      "cell_type": "markdown",
      "metadata": {
        "id": "l5FOR2HSDzPW"
      },
      "source": [
        "In either case we can see the value of the Series athletesHeight"
      ]
    },
    {
      "cell_type": "code",
      "metadata": {
        "id": "9UH3dUlPDzPW",
        "colab": {
          "base_uri": "https://localhost:8080/"
        },
        "outputId": "71134605-2545-43c9-e292-41fa671e5856"
      },
      "source": [
        " athletesHeight"
      ],
      "execution_count": 6,
      "outputs": [
        {
          "output_type": "execute_result",
          "data": {
            "text/plain": [
              "0     173\n",
              "1     182\n",
              "2     185\n",
              "3     176\n",
              "4     183\n",
              "5     165\n",
              "6     191\n",
              "7     177\n",
              "8     165\n",
              "9     161\n",
              "10    175\n",
              "11    189\n",
              "dtype: int64"
            ]
          },
          "metadata": {
            "tags": []
          },
          "execution_count": 6
        }
      ]
    },
    {
      "cell_type": "markdown",
      "metadata": {
        "id": "39SG9QUqDzPZ"
      },
      "source": [
        "As like arrays you are familiar with, the left number is the index and the right the value. And we can find the value at a particular index by the usual:"
      ]
    },
    {
      "cell_type": "code",
      "metadata": {
        "id": "0D0WoI7RDzPZ",
        "colab": {
          "base_uri": "https://localhost:8080/"
        },
        "outputId": "ece7bb69-b3b0-4d7c-df15-edf73382894f"
      },
      "source": [
        "athletesHeight[3]"
      ],
      "execution_count": 7,
      "outputs": [
        {
          "output_type": "execute_result",
          "data": {
            "text/plain": [
              "176"
            ]
          },
          "metadata": {
            "tags": []
          },
          "execution_count": 7
        }
      ]
    },
    {
      "cell_type": "markdown",
      "metadata": {
        "collapsed": true,
        "id": "N231SCpoDzPa"
      },
      "source": [
        "#### specifying indices\n",
        "Instead of the index 0, 1, 2, 3 ... you can specify your own index values. For example, we can label them 'Aiko'. 'Ayumi', \"Fujiko\" ... etc. "
      ]
    },
    {
      "cell_type": "code",
      "metadata": {
        "id": "2gEtxIATDzPa",
        "colab": {
          "base_uri": "https://localhost:8080/"
        },
        "outputId": "e7148465-dc90-46e1-b8fe-d89e56456d2e"
      },
      "source": [
        "athletes2 = Series(japan, index = ['Aiko', 'Ayumi', 'Fujiko', 'Hiroko', 'Itsumi', 'Junko', 'Kanae','Kotori', 'Mieko', 'Momoko', 'Nao', 'Rei'])\n",
        "athletes2"
      ],
      "execution_count": 8,
      "outputs": [
        {
          "output_type": "execute_result",
          "data": {
            "text/plain": [
              "Aiko      173\n",
              "Ayumi     182\n",
              "Fujiko    185\n",
              "Hiroko    176\n",
              "Itsumi    183\n",
              "Junko     165\n",
              "Kanae     191\n",
              "Kotori    177\n",
              "Mieko     165\n",
              "Momoko    161\n",
              "Nao       175\n",
              "Rei       189\n",
              "dtype: int64"
            ]
          },
          "metadata": {
            "tags": []
          },
          "execution_count": 8
        }
      ]
    },
    {
      "cell_type": "markdown",
      "metadata": {
        "id": "d800QLtBDzPb"
      },
      "source": [
        "The names we see are not another column of the data. We can see the shape of athletes2 by:"
      ]
    },
    {
      "cell_type": "code",
      "metadata": {
        "id": "yi25hIsJDzPc",
        "colab": {
          "base_uri": "https://localhost:8080/"
        },
        "outputId": "0a9788a8-c0cc-4617-f104-147fede11d92"
      },
      "source": [
        "athletes2.shape"
      ],
      "execution_count": 9,
      "outputs": [
        {
          "output_type": "execute_result",
          "data": {
            "text/plain": [
              "(12,)"
            ]
          },
          "metadata": {
            "tags": []
          },
          "execution_count": 9
        }
      ]
    },
    {
      "cell_type": "markdown",
      "metadata": {
        "id": "ykhEFqm0DzPc"
      },
      "source": [
        "This shows that athletes2 is a one dimensional matrix and that dimension has a length of 12. So the names we see are not values in a column but rather the indices.\n",
        "\n",
        "\n",
        "Let's use the index to get the Height of Junko:"
      ]
    },
    {
      "cell_type": "code",
      "metadata": {
        "id": "OrIbPVxFDzPc",
        "colab": {
          "base_uri": "https://localhost:8080/"
        },
        "outputId": "d969466d-2b1a-46a5-f40d-7c2991c2b2aa"
      },
      "source": [
        "athletes2['Junko']"
      ],
      "execution_count": 10,
      "outputs": [
        {
          "output_type": "execute_result",
          "data": {
            "text/plain": [
              "165"
            ]
          },
          "metadata": {
            "tags": []
          },
          "execution_count": 10
        }
      ]
    },
    {
      "cell_type": "markdown",
      "metadata": {
        "id": "MGjv8yaFDzPd"
      },
      "source": [
        "How would you get the height of Nao?\n"
      ]
    },
    {
      "cell_type": "code",
      "metadata": {
        "id": "hhVCGQ1uDzPe",
        "colab": {
          "base_uri": "https://localhost:8080/"
        },
        "outputId": "951904ff-788d-481d-ad3f-cd99e42c441a"
      },
      "source": [
        "athletes2['Nao']"
      ],
      "execution_count": 11,
      "outputs": [
        {
          "output_type": "execute_result",
          "data": {
            "text/plain": [
              "175"
            ]
          },
          "metadata": {
            "tags": []
          },
          "execution_count": 11
        }
      ]
    },
    {
      "cell_type": "markdown",
      "metadata": {
        "id": "oGOrvNd9DzPe"
      },
      "source": [
        "\n",
        "## DataFrame\n",
        "DataFrames are the most important data structure of Pandas and are simply\n",
        "a table or spreadsheet like structure.  A DataFrame represents a table like:\n",
        "\n",
        "make | mpg | cylinders | HP | 0-60 \n",
        ":---- | :---: | :---: | :---: | :---: \n",
        "Fiat | 38 | 4 | 157   | 6.9 \n",
        "Ford F150 | 19 | 6 | 386 | 6.3 \n",
        "Mazda 3 | 37 | 4 | 155 |  7.5 \n",
        "Ford Escape | 27 | 4 | 245 | 7.1 \n",
        "Kia Soul | 31 | 4 | 164 | 8.5 \n",
        "\n",
        "A common way to create a DataFrame is to use a python dictionary as follows:"
      ]
    },
    {
      "cell_type": "code",
      "metadata": {
        "id": "98zsHuOHDzPe"
      },
      "source": [
        "cars = {'make': ['Fiat 500', 'Ford F-150', 'Mazda 3', 'Ford Escape', 'Kia Soul'],\n",
        "        'mpg': [38, 19, 37, 27, 31],\n",
        "        'cylinders': [4, 6, 4, 4, 4],\n",
        "        'HP': [157, 386, 155, 245, 164],\n",
        "        '0-60': [6.9, 6.3, 7.5, 7.1, 8.5]}\n"
      ],
      "execution_count": 12,
      "outputs": []
    },
    {
      "cell_type": "markdown",
      "metadata": {
        "id": "ZwR_UKYKDzPe"
      },
      "source": [
        "Just to check that you are paying attention, what is the code to show the MPG of a Ford F-150? (so `cars['make'][3]` will print out something, what will print out the MPG of a Ford F-150?"
      ]
    },
    {
      "cell_type": "code",
      "metadata": {
        "id": "AKqd75hxDzPe",
        "colab": {
          "base_uri": "https://localhost:8080/"
        },
        "outputId": "2dd4f38c-0e96-4f9a-a585-ecf5d63ee0d4"
      },
      "source": [
        "cars['mpg'][1]"
      ],
      "execution_count": 17,
      "outputs": [
        {
          "output_type": "execute_result",
          "data": {
            "text/plain": [
              "19"
            ]
          },
          "metadata": {
            "tags": []
          },
          "execution_count": 17
        }
      ]
    },
    {
      "cell_type": "markdown",
      "metadata": {
        "id": "kb21Y1mlDzPf"
      },
      "source": [
        "and now we will create a DataFrame from the `cars` Python dictionary:"
      ]
    },
    {
      "cell_type": "code",
      "metadata": {
        "id": "dN6kRXzFDzPf",
        "colab": {
          "base_uri": "https://localhost:8080/",
          "height": 204
        },
        "outputId": "8b4e88e1-6767-493a-9efc-78b9dfdec403"
      },
      "source": [
        "df = DataFrame(cars)\n",
        "df\n"
      ],
      "execution_count": 18,
      "outputs": [
        {
          "output_type": "execute_result",
          "data": {
            "text/html": [
              "<div>\n",
              "<style scoped>\n",
              "    .dataframe tbody tr th:only-of-type {\n",
              "        vertical-align: middle;\n",
              "    }\n",
              "\n",
              "    .dataframe tbody tr th {\n",
              "        vertical-align: top;\n",
              "    }\n",
              "\n",
              "    .dataframe thead th {\n",
              "        text-align: right;\n",
              "    }\n",
              "</style>\n",
              "<table border=\"1\" class=\"dataframe\">\n",
              "  <thead>\n",
              "    <tr style=\"text-align: right;\">\n",
              "      <th></th>\n",
              "      <th>make</th>\n",
              "      <th>mpg</th>\n",
              "      <th>cylinders</th>\n",
              "      <th>HP</th>\n",
              "      <th>0-60</th>\n",
              "    </tr>\n",
              "  </thead>\n",
              "  <tbody>\n",
              "    <tr>\n",
              "      <th>0</th>\n",
              "      <td>Fiat 500</td>\n",
              "      <td>38</td>\n",
              "      <td>4</td>\n",
              "      <td>157</td>\n",
              "      <td>6.9</td>\n",
              "    </tr>\n",
              "    <tr>\n",
              "      <th>1</th>\n",
              "      <td>Ford F-150</td>\n",
              "      <td>19</td>\n",
              "      <td>6</td>\n",
              "      <td>386</td>\n",
              "      <td>6.3</td>\n",
              "    </tr>\n",
              "    <tr>\n",
              "      <th>2</th>\n",
              "      <td>Mazda 3</td>\n",
              "      <td>37</td>\n",
              "      <td>4</td>\n",
              "      <td>155</td>\n",
              "      <td>7.5</td>\n",
              "    </tr>\n",
              "    <tr>\n",
              "      <th>3</th>\n",
              "      <td>Ford Escape</td>\n",
              "      <td>27</td>\n",
              "      <td>4</td>\n",
              "      <td>245</td>\n",
              "      <td>7.1</td>\n",
              "    </tr>\n",
              "    <tr>\n",
              "      <th>4</th>\n",
              "      <td>Kia Soul</td>\n",
              "      <td>31</td>\n",
              "      <td>4</td>\n",
              "      <td>164</td>\n",
              "      <td>8.5</td>\n",
              "    </tr>\n",
              "  </tbody>\n",
              "</table>\n",
              "</div>"
            ],
            "text/plain": [
              "          make  mpg  cylinders   HP  0-60\n",
              "0     Fiat 500   38          4  157   6.9\n",
              "1   Ford F-150   19          6  386   6.3\n",
              "2      Mazda 3   37          4  155   7.5\n",
              "3  Ford Escape   27          4  245   7.1\n",
              "4     Kia Soul   31          4  164   8.5"
            ]
          },
          "metadata": {
            "tags": []
          },
          "execution_count": 18
        }
      ]
    },
    {
      "cell_type": "markdown",
      "metadata": {
        "id": "03HKRNHNDzPf"
      },
      "source": [
        "Prior to my life with Pandas, I would represent a table like the above one as:"
      ]
    },
    {
      "cell_type": "code",
      "metadata": {
        "id": "XfuAM5LIDzPf",
        "colab": {
          "base_uri": "https://localhost:8080/",
          "height": 35
        },
        "outputId": "f04d3353-251d-4a40-9a61-117211b7874a"
      },
      "source": [
        "prePandas = [{'make': 'Fiat', 'mpg': 38, 'cylinders': 4, 'HP': 157, '0-60': 6.9},\n",
        "            {'make': 'Ford F-150', 'mpg': 19, 'cylinders': 6, 'HP': 386, '0-60': 6.3},\n",
        "            {'make': 'Mazda 3', 'mpg': 37, 'cylinders': 4, 'HP': 155, '0-60': 7.5},\n",
        "            {'make': 'Ford Escape', 'mpg': 27, 'cylinders': 4, 'HP': 245, '0-60': 7.1},\n",
        "            {'make': 'Kia Soul', 'mpg': 31, 'cylinders': 4, 'HP': 164, '0-60':8.5}]\n",
        "\n",
        "prePandas[0]['make']"
      ],
      "execution_count": 21,
      "outputs": [
        {
          "output_type": "execute_result",
          "data": {
            "application/vnd.google.colaboratory.intrinsic+json": {
              "type": "string"
            },
            "text/plain": [
              "'Fiat'"
            ]
          },
          "metadata": {
            "tags": []
          },
          "execution_count": 21
        }
      ]
    },
    {
      "cell_type": "markdown",
      "metadata": {
        "id": "7ZMxLhBvDzPg"
      },
      "source": [
        "In the prePandas scheme the data is organized first by rows. That seemed logical to me since each row represents an object and is how we organize data in an SQL database. In the Pandas representation the data is organized by columns. \n",
        "\n",
        "Perhaps you noticed that the columns are displayed in alphabetically sorted order. If we want to specify a column order we can do so:\n",
        "\n",
        "\n"
      ]
    },
    {
      "cell_type": "code",
      "metadata": {
        "id": "Odss0-4VDzPg",
        "colab": {
          "base_uri": "https://localhost:8080/",
          "height": 204
        },
        "outputId": "1de93a5e-363f-4af9-cf2c-948e30c198c7"
      },
      "source": [
        "df2 = DataFrame(cars, columns=['make', 'mpg', 'cylinders', 'HP', '0-60' ])\n",
        "df2"
      ],
      "execution_count": 22,
      "outputs": [
        {
          "output_type": "execute_result",
          "data": {
            "text/html": [
              "<div>\n",
              "<style scoped>\n",
              "    .dataframe tbody tr th:only-of-type {\n",
              "        vertical-align: middle;\n",
              "    }\n",
              "\n",
              "    .dataframe tbody tr th {\n",
              "        vertical-align: top;\n",
              "    }\n",
              "\n",
              "    .dataframe thead th {\n",
              "        text-align: right;\n",
              "    }\n",
              "</style>\n",
              "<table border=\"1\" class=\"dataframe\">\n",
              "  <thead>\n",
              "    <tr style=\"text-align: right;\">\n",
              "      <th></th>\n",
              "      <th>make</th>\n",
              "      <th>mpg</th>\n",
              "      <th>cylinders</th>\n",
              "      <th>HP</th>\n",
              "      <th>0-60</th>\n",
              "    </tr>\n",
              "  </thead>\n",
              "  <tbody>\n",
              "    <tr>\n",
              "      <th>0</th>\n",
              "      <td>Fiat 500</td>\n",
              "      <td>38</td>\n",
              "      <td>4</td>\n",
              "      <td>157</td>\n",
              "      <td>6.9</td>\n",
              "    </tr>\n",
              "    <tr>\n",
              "      <th>1</th>\n",
              "      <td>Ford F-150</td>\n",
              "      <td>19</td>\n",
              "      <td>6</td>\n",
              "      <td>386</td>\n",
              "      <td>6.3</td>\n",
              "    </tr>\n",
              "    <tr>\n",
              "      <th>2</th>\n",
              "      <td>Mazda 3</td>\n",
              "      <td>37</td>\n",
              "      <td>4</td>\n",
              "      <td>155</td>\n",
              "      <td>7.5</td>\n",
              "    </tr>\n",
              "    <tr>\n",
              "      <th>3</th>\n",
              "      <td>Ford Escape</td>\n",
              "      <td>27</td>\n",
              "      <td>4</td>\n",
              "      <td>245</td>\n",
              "      <td>7.1</td>\n",
              "    </tr>\n",
              "    <tr>\n",
              "      <th>4</th>\n",
              "      <td>Kia Soul</td>\n",
              "      <td>31</td>\n",
              "      <td>4</td>\n",
              "      <td>164</td>\n",
              "      <td>8.5</td>\n",
              "    </tr>\n",
              "  </tbody>\n",
              "</table>\n",
              "</div>"
            ],
            "text/plain": [
              "          make  mpg  cylinders   HP  0-60\n",
              "0     Fiat 500   38          4  157   6.9\n",
              "1   Ford F-150   19          6  386   6.3\n",
              "2      Mazda 3   37          4  155   7.5\n",
              "3  Ford Escape   27          4  245   7.1\n",
              "4     Kia Soul   31          4  164   8.5"
            ]
          },
          "metadata": {
            "tags": []
          },
          "execution_count": 22
        }
      ]
    },
    {
      "cell_type": "markdown",
      "metadata": {
        "id": "HNkg0njuDzPg"
      },
      "source": [
        "We can also create a DataFrame from a set of Series objects:"
      ]
    },
    {
      "cell_type": "code",
      "metadata": {
        "id": "6-Gn0mJZDzPg"
      },
      "source": [
        "cars2 = {'make': Series(['Fiat 500', 'Ford F-150', 'Mazda 3', 'Ford Escape', 'Kia Soul']),\n",
        "        'mpg': Series([38, 19, 37, 27, 31]),\n",
        "        'cylinders': Series([4, 6, 4, 4, 4]),\n",
        "        'HP': [157, 386, 155, 245, 164],\n",
        "        '0-60': Series([6.9, 6.3, 7.5, 7.1, 8.5])}\n",
        "        \n",
        "df3 = DataFrame(cars2)\n"
      ],
      "execution_count": 26,
      "outputs": []
    },
    {
      "cell_type": "markdown",
      "metadata": {
        "id": "UPwuGm8iDzPi"
      },
      "source": [
        "<h3 style=\"color:red\">Q1. You Try</h3>\n",
        "<span style=\"color:red\">Make a DataFrame representing the data in the following table:</span>\n",
        "\n",
        "Athlete | Sport | Height | Weight \n",
        "----: | :---: | :---: | :---:\n",
        "Aly Raisman |\tGymnastics | \t62 | 115\n",
        "Crystal Langhorne |\tBasketball |\t74 |\t190\n",
        "Diana Taurasi\t| Basketball\t| 72\t| 163\n",
        "Paula Radcliffe\t| Track\t| 68 |\t120\n",
        "Simone Biles | Gymnastics | 57 | 104\n",
        "Madison Kocian | Gymnastics |62 | 101\n",
        "Amy Cragg |Track | 64 | 99\n"
      ]
    },
    {
      "cell_type": "code",
      "metadata": {
        "collapsed": true,
        "id": "8HS5-ZuODzPi",
        "colab": {
          "base_uri": "https://localhost:8080/",
          "height": 266
        },
        "outputId": "de4b6281-4247-4308-bec3-6fdfbe21935b"
      },
      "source": [
        "people = {'Athlete': ['Aly Raisman', 'Crystal Langhorne', 'Diana Taurasi', 'Paula Radcliffe', 'Simone Biles', 'Madions Kocian', 'Amy Cragg'],\r\n",
        "        'Sport': ['Gymnastics', 'Basketball', 'Basketball', 'Track', 'Gymnastics', 'Gymnastics', 'Track'],\r\n",
        "        'Height': [62, 74, 72, 68, 57, 62, 64],\r\n",
        "        'Weight': [115, 190, 163, 120, 104, 101, 99]}\r\n",
        "df2 = DataFrame(people)\r\n",
        "df2"
      ],
      "execution_count": 25,
      "outputs": [
        {
          "output_type": "execute_result",
          "data": {
            "text/html": [
              "<div>\n",
              "<style scoped>\n",
              "    .dataframe tbody tr th:only-of-type {\n",
              "        vertical-align: middle;\n",
              "    }\n",
              "\n",
              "    .dataframe tbody tr th {\n",
              "        vertical-align: top;\n",
              "    }\n",
              "\n",
              "    .dataframe thead th {\n",
              "        text-align: right;\n",
              "    }\n",
              "</style>\n",
              "<table border=\"1\" class=\"dataframe\">\n",
              "  <thead>\n",
              "    <tr style=\"text-align: right;\">\n",
              "      <th></th>\n",
              "      <th>Athlete</th>\n",
              "      <th>Sport</th>\n",
              "      <th>Height</th>\n",
              "      <th>Weight</th>\n",
              "    </tr>\n",
              "  </thead>\n",
              "  <tbody>\n",
              "    <tr>\n",
              "      <th>0</th>\n",
              "      <td>Aly Raisman</td>\n",
              "      <td>Gymnastics</td>\n",
              "      <td>62</td>\n",
              "      <td>115</td>\n",
              "    </tr>\n",
              "    <tr>\n",
              "      <th>1</th>\n",
              "      <td>Crystal Langhorne</td>\n",
              "      <td>Basketball</td>\n",
              "      <td>74</td>\n",
              "      <td>190</td>\n",
              "    </tr>\n",
              "    <tr>\n",
              "      <th>2</th>\n",
              "      <td>Diana Taurasi</td>\n",
              "      <td>Basketball</td>\n",
              "      <td>72</td>\n",
              "      <td>163</td>\n",
              "    </tr>\n",
              "    <tr>\n",
              "      <th>3</th>\n",
              "      <td>Paula Radcliffe</td>\n",
              "      <td>Track</td>\n",
              "      <td>68</td>\n",
              "      <td>120</td>\n",
              "    </tr>\n",
              "    <tr>\n",
              "      <th>4</th>\n",
              "      <td>Simone Biles</td>\n",
              "      <td>Gymnastics</td>\n",
              "      <td>57</td>\n",
              "      <td>104</td>\n",
              "    </tr>\n",
              "    <tr>\n",
              "      <th>5</th>\n",
              "      <td>Madions Kocian</td>\n",
              "      <td>Gymnastics</td>\n",
              "      <td>62</td>\n",
              "      <td>101</td>\n",
              "    </tr>\n",
              "    <tr>\n",
              "      <th>6</th>\n",
              "      <td>Amy Cragg</td>\n",
              "      <td>Track</td>\n",
              "      <td>64</td>\n",
              "      <td>99</td>\n",
              "    </tr>\n",
              "  </tbody>\n",
              "</table>\n",
              "</div>"
            ],
            "text/plain": [
              "             Athlete       Sport  Height  Weight\n",
              "0        Aly Raisman  Gymnastics      62     115\n",
              "1  Crystal Langhorne  Basketball      74     190\n",
              "2      Diana Taurasi  Basketball      72     163\n",
              "3    Paula Radcliffe       Track      68     120\n",
              "4       Simone Biles  Gymnastics      57     104\n",
              "5     Madions Kocian  Gymnastics      62     101\n",
              "6          Amy Cragg       Track      64      99"
            ]
          },
          "metadata": {
            "tags": []
          },
          "execution_count": 25
        }
      ]
    },
    {
      "cell_type": "markdown",
      "metadata": {
        "id": "lB7dN0OpDzPi"
      },
      "source": [
        "## reading data from different sources.\n",
        "### csv file:\n",
        "We can create a DataFrame from a CSV file (comma separated values), which is a common format for datasets. \n",
        "\n",
        "\n",
        "We use the `pd.read_csv` function to do so.  `pd.read_csv` can read a csv file from either your local machine or the web. Let's start with the web.\n",
        "\n",
        "#### Reading a CSV file from the web.\n",
        "To read a file from the web, we simply provide a URL:\n"
      ]
    },
    {
      "cell_type": "code",
      "metadata": {
        "id": "7oceaxD9DzPj",
        "colab": {
          "base_uri": "https://localhost:8080/",
          "height": 917
        },
        "outputId": "bc8ffed1-0c78-49d6-ed5c-0410051bbac3"
      },
      "source": [
        "df4 = pd.read_csv('https://raw.githubusercontent.com/zacharski/ml-class/master/data/athletes.csv')\n",
        "df4"
      ],
      "execution_count": 29,
      "outputs": [
        {
          "output_type": "execute_result",
          "data": {
            "text/html": [
              "<div>\n",
              "<style scoped>\n",
              "    .dataframe tbody tr th:only-of-type {\n",
              "        vertical-align: middle;\n",
              "    }\n",
              "\n",
              "    .dataframe tbody tr th {\n",
              "        vertical-align: top;\n",
              "    }\n",
              "\n",
              "    .dataframe thead th {\n",
              "        text-align: right;\n",
              "    }\n",
              "</style>\n",
              "<table border=\"1\" class=\"dataframe\">\n",
              "  <thead>\n",
              "    <tr style=\"text-align: right;\">\n",
              "      <th></th>\n",
              "      <th>Name</th>\n",
              "      <th>Sport</th>\n",
              "      <th>Height</th>\n",
              "      <th>Weight</th>\n",
              "    </tr>\n",
              "  </thead>\n",
              "  <tbody>\n",
              "    <tr>\n",
              "      <th>0</th>\n",
              "      <td>Asuka Teramoto</td>\n",
              "      <td>Gymnastics</td>\n",
              "      <td>54</td>\n",
              "      <td>66</td>\n",
              "    </tr>\n",
              "    <tr>\n",
              "      <th>1</th>\n",
              "      <td>Brittainey Raven</td>\n",
              "      <td>Basketball</td>\n",
              "      <td>72</td>\n",
              "      <td>162</td>\n",
              "    </tr>\n",
              "    <tr>\n",
              "      <th>2</th>\n",
              "      <td>Chen Nan</td>\n",
              "      <td>Basketball</td>\n",
              "      <td>78</td>\n",
              "      <td>204</td>\n",
              "    </tr>\n",
              "    <tr>\n",
              "      <th>3</th>\n",
              "      <td>Gabby Douglas</td>\n",
              "      <td>Gymnastics</td>\n",
              "      <td>49</td>\n",
              "      <td>90</td>\n",
              "    </tr>\n",
              "    <tr>\n",
              "      <th>4</th>\n",
              "      <td>Helalia Johannes</td>\n",
              "      <td>Track</td>\n",
              "      <td>65</td>\n",
              "      <td>99</td>\n",
              "    </tr>\n",
              "    <tr>\n",
              "      <th>5</th>\n",
              "      <td>Irina Miketenko</td>\n",
              "      <td>Track</td>\n",
              "      <td>63</td>\n",
              "      <td>106</td>\n",
              "    </tr>\n",
              "    <tr>\n",
              "      <th>6</th>\n",
              "      <td>Jennifer Lacy</td>\n",
              "      <td>Basketball</td>\n",
              "      <td>75</td>\n",
              "      <td>175</td>\n",
              "    </tr>\n",
              "    <tr>\n",
              "      <th>7</th>\n",
              "      <td>Kara Goucher</td>\n",
              "      <td>Track</td>\n",
              "      <td>67</td>\n",
              "      <td>123</td>\n",
              "    </tr>\n",
              "    <tr>\n",
              "      <th>8</th>\n",
              "      <td>Linlin Deng</td>\n",
              "      <td>Gymnastics</td>\n",
              "      <td>54</td>\n",
              "      <td>68</td>\n",
              "    </tr>\n",
              "    <tr>\n",
              "      <th>9</th>\n",
              "      <td>Nakia Sanford</td>\n",
              "      <td>Basketball</td>\n",
              "      <td>76</td>\n",
              "      <td>200</td>\n",
              "    </tr>\n",
              "    <tr>\n",
              "      <th>10</th>\n",
              "      <td>Nikki Blue</td>\n",
              "      <td>Basketball</td>\n",
              "      <td>68</td>\n",
              "      <td>163</td>\n",
              "    </tr>\n",
              "    <tr>\n",
              "      <th>11</th>\n",
              "      <td>Qiushuang Huang</td>\n",
              "      <td>Gymnastics</td>\n",
              "      <td>61</td>\n",
              "      <td>95</td>\n",
              "    </tr>\n",
              "    <tr>\n",
              "      <th>12</th>\n",
              "      <td>Rebecca Tunney</td>\n",
              "      <td>Gymnastics</td>\n",
              "      <td>58</td>\n",
              "      <td>77</td>\n",
              "    </tr>\n",
              "    <tr>\n",
              "      <th>13</th>\n",
              "      <td>Rene Kalmer</td>\n",
              "      <td>Track</td>\n",
              "      <td>70</td>\n",
              "      <td>108</td>\n",
              "    </tr>\n",
              "    <tr>\n",
              "      <th>14</th>\n",
              "      <td>Shanna Crossley</td>\n",
              "      <td>Basketball</td>\n",
              "      <td>70</td>\n",
              "      <td>155</td>\n",
              "    </tr>\n",
              "    <tr>\n",
              "      <th>15</th>\n",
              "      <td>Shavonte Zellous</td>\n",
              "      <td>Basketball</td>\n",
              "      <td>70</td>\n",
              "      <td>155</td>\n",
              "    </tr>\n",
              "    <tr>\n",
              "      <th>16</th>\n",
              "      <td>Tatyana Petrova</td>\n",
              "      <td>Track</td>\n",
              "      <td>63</td>\n",
              "      <td>108</td>\n",
              "    </tr>\n",
              "    <tr>\n",
              "      <th>17</th>\n",
              "      <td>Tiki Gelana</td>\n",
              "      <td>Track</td>\n",
              "      <td>65</td>\n",
              "      <td>106</td>\n",
              "    </tr>\n",
              "    <tr>\n",
              "      <th>18</th>\n",
              "      <td>Valeria Straneo</td>\n",
              "      <td>Track</td>\n",
              "      <td>66</td>\n",
              "      <td>97</td>\n",
              "    </tr>\n",
              "    <tr>\n",
              "      <th>19</th>\n",
              "      <td>Viktoria Komova</td>\n",
              "      <td>Gymnastics</td>\n",
              "      <td>61</td>\n",
              "      <td>76</td>\n",
              "    </tr>\n",
              "    <tr>\n",
              "      <th>20</th>\n",
              "      <td>Amy Cragg</td>\n",
              "      <td>Track</td>\n",
              "      <td>64</td>\n",
              "      <td>99</td>\n",
              "    </tr>\n",
              "    <tr>\n",
              "      <th>21</th>\n",
              "      <td>Simone Biles</td>\n",
              "      <td>Gymnastics</td>\n",
              "      <td>57</td>\n",
              "      <td>104</td>\n",
              "    </tr>\n",
              "    <tr>\n",
              "      <th>22</th>\n",
              "      <td>Madison Kocian</td>\n",
              "      <td>Gymnastics</td>\n",
              "      <td>62</td>\n",
              "      <td>101</td>\n",
              "    </tr>\n",
              "    <tr>\n",
              "      <th>23</th>\n",
              "      <td>Elena Delle Donne</td>\n",
              "      <td>Basketball</td>\n",
              "      <td>77</td>\n",
              "      <td>188</td>\n",
              "    </tr>\n",
              "    <tr>\n",
              "      <th>24</th>\n",
              "      <td>Seimone Augustus</td>\n",
              "      <td>Basketball</td>\n",
              "      <td>72</td>\n",
              "      <td>166</td>\n",
              "    </tr>\n",
              "    <tr>\n",
              "      <th>25</th>\n",
              "      <td>Desiree Linden</td>\n",
              "      <td>Track</td>\n",
              "      <td>61</td>\n",
              "      <td>97</td>\n",
              "    </tr>\n",
              "    <tr>\n",
              "      <th>26</th>\n",
              "      <td>Shalane Flanagan</td>\n",
              "      <td>Track</td>\n",
              "      <td>65</td>\n",
              "      <td>106</td>\n",
              "    </tr>\n",
              "    <tr>\n",
              "      <th>27</th>\n",
              "      <td>Laurie Hernandez</td>\n",
              "      <td>Gymnastics</td>\n",
              "      <td>60</td>\n",
              "      <td>106</td>\n",
              "    </tr>\n",
              "  </tbody>\n",
              "</table>\n",
              "</div>"
            ],
            "text/plain": [
              "                 Name       Sport  Height  Weight\n",
              "0      Asuka Teramoto  Gymnastics      54      66\n",
              "1    Brittainey Raven  Basketball      72     162\n",
              "2            Chen Nan  Basketball      78     204\n",
              "3       Gabby Douglas  Gymnastics      49      90\n",
              "4    Helalia Johannes       Track      65      99\n",
              "5     Irina Miketenko       Track      63     106\n",
              "6       Jennifer Lacy  Basketball      75     175\n",
              "7        Kara Goucher       Track      67     123\n",
              "8         Linlin Deng  Gymnastics      54      68\n",
              "9       Nakia Sanford  Basketball      76     200\n",
              "10         Nikki Blue  Basketball      68     163\n",
              "11    Qiushuang Huang  Gymnastics      61      95\n",
              "12     Rebecca Tunney  Gymnastics      58      77\n",
              "13        Rene Kalmer       Track      70     108\n",
              "14    Shanna Crossley  Basketball      70     155\n",
              "15   Shavonte Zellous  Basketball      70     155\n",
              "16    Tatyana Petrova       Track      63     108\n",
              "17        Tiki Gelana       Track      65     106\n",
              "18    Valeria Straneo       Track      66      97\n",
              "19    Viktoria Komova  Gymnastics      61      76\n",
              "20          Amy Cragg       Track      64      99\n",
              "21       Simone Biles  Gymnastics      57     104\n",
              "22     Madison Kocian  Gymnastics      62     101\n",
              "23  Elena Delle Donne  Basketball      77     188\n",
              "24   Seimone Augustus  Basketball      72     166\n",
              "25     Desiree Linden       Track      61      97\n",
              "26   Shalane Flanagan       Track      65     106\n",
              "27   Laurie Hernandez  Gymnastics      60     106"
            ]
          },
          "metadata": {
            "tags": []
          },
          "execution_count": 29
        }
      ]
    },
    {
      "cell_type": "markdown",
      "metadata": {
        "id": "8-Wz_tjZDzPj"
      },
      "source": [
        "Sometimes the csv file has a header row as was the case in the example above. That file starts\n",
        "\n",
        "    Name,Sport,Height,Weight\n",
        "    Asuka Teramoto,Gymnastics,54,66\n",
        "    Brittainey Raven,Basketball,72,162\n",
        "    Chen Nan,Basketball,78,204\n",
        "    Gabby Douglas,Gymnastics,49,90\n",
        "    \n",
        "\n"
      ]
    },
    {
      "cell_type": "code",
      "metadata": {
        "id": "K6eSlceiDzPj",
        "colab": {
          "base_uri": "https://localhost:8080/"
        },
        "outputId": "5284b335-3fac-4bae-ee6d-86b3647e822d"
      },
      "source": [
        "!curl https://raw.githubusercontent.com/zacharski/ml-class/master/data/athletes.csv"
      ],
      "execution_count": 30,
      "outputs": [
        {
          "output_type": "stream",
          "text": [
            "Name,Sport,Height,Weight\n",
            "Asuka Teramoto,Gymnastics,54,66\n",
            "Brittainey Raven,Basketball,72,162\n",
            "Chen Nan,Basketball,78,204\n",
            "Gabby Douglas,Gymnastics,49,90\n",
            "Helalia Johannes,Track,65,99\n",
            "Irina Miketenko,Track,63,106\n",
            "Jennifer Lacy,Basketball,75,175\n",
            "Kara Goucher,Track,67,123\n",
            "Linlin Deng,Gymnastics,54,68\n",
            "Nakia Sanford,Basketball,76,200\n",
            "Nikki Blue,Basketball,68,163\n",
            "Qiushuang Huang,Gymnastics,61,95\n",
            "Rebecca Tunney,Gymnastics,58,77\n",
            "Rene Kalmer,Track,70,108\n",
            "Shanna Crossley,Basketball,70,155\n",
            "Shavonte Zellous,Basketball,70,155\n",
            "Tatyana Petrova,Track,63,108\n",
            "Tiki Gelana,Track,65,106\n",
            "Valeria Straneo,Track,66,97\n",
            "Viktoria Komova,Gymnastics,61,76\n",
            "Amy Cragg,Track,64,99\n",
            "Simone Biles,Gymnastics,57,104\n",
            "Madison Kocian,Gymnastics,62,101\n",
            "Elena Delle Donne,Basketball,77,188\n",
            "Seimone Augustus,Basketball,72,166\n",
            "Desiree Linden,Track,61,97\n",
            "Shalane Flanagan,Track,65,106\n",
            "Laurie Hernandez,Gymnastics,60,106"
          ],
          "name": "stdout"
        }
      ]
    },
    {
      "cell_type": "markdown",
      "metadata": {
        "id": "b490abnQDzPk"
      },
      "source": [
        "As you can see we can preface any Unix command with a bang (!) to have it execute in our Notebook.  This is amazingly handy:\n",
        "\n"
      ]
    },
    {
      "cell_type": "code",
      "metadata": {
        "id": "3p_xjozMDzPk",
        "colab": {
          "base_uri": "https://localhost:8080/"
        },
        "outputId": "e4dcc6ad-90b0-4b3d-e8d9-b2f8718e0d96"
      },
      "source": [
        "!ls"
      ],
      "execution_count": 31,
      "outputs": [
        {
          "output_type": "stream",
          "text": [
            "sample_data\n"
          ],
          "name": "stdout"
        }
      ]
    },
    {
      "cell_type": "code",
      "metadata": {
        "id": "lDYziRFiDzPk",
        "colab": {
          "base_uri": "https://localhost:8080/"
        },
        "outputId": "dd841c3b-22d4-46f8-8aaf-8e082a0dfa0d"
      },
      "source": [
        "!pwd"
      ],
      "execution_count": 32,
      "outputs": [
        {
          "output_type": "stream",
          "text": [
            "/content\n"
          ],
          "name": "stdout"
        }
      ]
    },
    {
      "cell_type": "markdown",
      "metadata": {
        "id": "EK7Do6yODzPk"
      },
      "source": [
        "Back to Pandas.\n",
        "\n",
        "Sometimes the csv file does not have a header row. So for example, a csv file might have the contents:\n",
        "\n",
        "Asuka Teramoto,Gymnastics,54,66\n",
        "Brittainey Raven,Basketball,72,162\n",
        "Chen Nan,Basketball,78,204\n",
        "Gabby Douglas,Gymnastics,49,90\n",
        "In that case you specify the names of the columns using the names attribute:"
      ]
    },
    {
      "cell_type": "code",
      "metadata": {
        "id": "DS-mBdgFDzPk",
        "colab": {
          "base_uri": "https://localhost:8080/",
          "height": 917
        },
        "outputId": "408c4475-9eb4-4c3b-90d7-2706a3c85134"
      },
      "source": [
        "athletes = pd.read_csv('https://raw.githubusercontent.com/zacharski/ml-class/master/data/athletesNoHeader.csv', names=['Name', 'Sport', 'Height', 'Weight'])\n",
        "athletes"
      ],
      "execution_count": 33,
      "outputs": [
        {
          "output_type": "execute_result",
          "data": {
            "text/html": [
              "<div>\n",
              "<style scoped>\n",
              "    .dataframe tbody tr th:only-of-type {\n",
              "        vertical-align: middle;\n",
              "    }\n",
              "\n",
              "    .dataframe tbody tr th {\n",
              "        vertical-align: top;\n",
              "    }\n",
              "\n",
              "    .dataframe thead th {\n",
              "        text-align: right;\n",
              "    }\n",
              "</style>\n",
              "<table border=\"1\" class=\"dataframe\">\n",
              "  <thead>\n",
              "    <tr style=\"text-align: right;\">\n",
              "      <th></th>\n",
              "      <th>Name</th>\n",
              "      <th>Sport</th>\n",
              "      <th>Height</th>\n",
              "      <th>Weight</th>\n",
              "    </tr>\n",
              "  </thead>\n",
              "  <tbody>\n",
              "    <tr>\n",
              "      <th>0</th>\n",
              "      <td>Asuka Teramoto</td>\n",
              "      <td>Gymnastics</td>\n",
              "      <td>54</td>\n",
              "      <td>66</td>\n",
              "    </tr>\n",
              "    <tr>\n",
              "      <th>1</th>\n",
              "      <td>Brittainey Raven</td>\n",
              "      <td>Basketball</td>\n",
              "      <td>72</td>\n",
              "      <td>162</td>\n",
              "    </tr>\n",
              "    <tr>\n",
              "      <th>2</th>\n",
              "      <td>Chen Nan</td>\n",
              "      <td>Basketball</td>\n",
              "      <td>78</td>\n",
              "      <td>204</td>\n",
              "    </tr>\n",
              "    <tr>\n",
              "      <th>3</th>\n",
              "      <td>Gabby Douglas</td>\n",
              "      <td>Gymnastics</td>\n",
              "      <td>49</td>\n",
              "      <td>90</td>\n",
              "    </tr>\n",
              "    <tr>\n",
              "      <th>4</th>\n",
              "      <td>Helalia Johannes</td>\n",
              "      <td>Track</td>\n",
              "      <td>65</td>\n",
              "      <td>99</td>\n",
              "    </tr>\n",
              "    <tr>\n",
              "      <th>5</th>\n",
              "      <td>Irina Miketenko</td>\n",
              "      <td>Track</td>\n",
              "      <td>63</td>\n",
              "      <td>106</td>\n",
              "    </tr>\n",
              "    <tr>\n",
              "      <th>6</th>\n",
              "      <td>Jennifer Lacy</td>\n",
              "      <td>Basketball</td>\n",
              "      <td>75</td>\n",
              "      <td>175</td>\n",
              "    </tr>\n",
              "    <tr>\n",
              "      <th>7</th>\n",
              "      <td>Kara Goucher</td>\n",
              "      <td>Track</td>\n",
              "      <td>67</td>\n",
              "      <td>123</td>\n",
              "    </tr>\n",
              "    <tr>\n",
              "      <th>8</th>\n",
              "      <td>Linlin Deng</td>\n",
              "      <td>Gymnastics</td>\n",
              "      <td>54</td>\n",
              "      <td>68</td>\n",
              "    </tr>\n",
              "    <tr>\n",
              "      <th>9</th>\n",
              "      <td>Nakia Sanford</td>\n",
              "      <td>Basketball</td>\n",
              "      <td>76</td>\n",
              "      <td>200</td>\n",
              "    </tr>\n",
              "    <tr>\n",
              "      <th>10</th>\n",
              "      <td>Nikki Blue</td>\n",
              "      <td>Basketball</td>\n",
              "      <td>68</td>\n",
              "      <td>163</td>\n",
              "    </tr>\n",
              "    <tr>\n",
              "      <th>11</th>\n",
              "      <td>Qiushuang Huang</td>\n",
              "      <td>Gymnastics</td>\n",
              "      <td>61</td>\n",
              "      <td>95</td>\n",
              "    </tr>\n",
              "    <tr>\n",
              "      <th>12</th>\n",
              "      <td>Rebecca Tunney</td>\n",
              "      <td>Gymnastics</td>\n",
              "      <td>58</td>\n",
              "      <td>77</td>\n",
              "    </tr>\n",
              "    <tr>\n",
              "      <th>13</th>\n",
              "      <td>Rene Kalmer</td>\n",
              "      <td>Track</td>\n",
              "      <td>70</td>\n",
              "      <td>108</td>\n",
              "    </tr>\n",
              "    <tr>\n",
              "      <th>14</th>\n",
              "      <td>Shanna Crossley</td>\n",
              "      <td>Basketball</td>\n",
              "      <td>70</td>\n",
              "      <td>155</td>\n",
              "    </tr>\n",
              "    <tr>\n",
              "      <th>15</th>\n",
              "      <td>Shavonte Zellous</td>\n",
              "      <td>Basketball</td>\n",
              "      <td>70</td>\n",
              "      <td>155</td>\n",
              "    </tr>\n",
              "    <tr>\n",
              "      <th>16</th>\n",
              "      <td>Tatyana Petrova</td>\n",
              "      <td>Track</td>\n",
              "      <td>63</td>\n",
              "      <td>108</td>\n",
              "    </tr>\n",
              "    <tr>\n",
              "      <th>17</th>\n",
              "      <td>Tiki Gelana</td>\n",
              "      <td>Track</td>\n",
              "      <td>65</td>\n",
              "      <td>106</td>\n",
              "    </tr>\n",
              "    <tr>\n",
              "      <th>18</th>\n",
              "      <td>Valeria Straneo</td>\n",
              "      <td>Track</td>\n",
              "      <td>66</td>\n",
              "      <td>97</td>\n",
              "    </tr>\n",
              "    <tr>\n",
              "      <th>19</th>\n",
              "      <td>Viktoria Komova</td>\n",
              "      <td>Gymnastics</td>\n",
              "      <td>61</td>\n",
              "      <td>76</td>\n",
              "    </tr>\n",
              "    <tr>\n",
              "      <th>20</th>\n",
              "      <td>Amy Cragg</td>\n",
              "      <td>Track</td>\n",
              "      <td>64</td>\n",
              "      <td>99</td>\n",
              "    </tr>\n",
              "    <tr>\n",
              "      <th>21</th>\n",
              "      <td>Simone Biles</td>\n",
              "      <td>Gymnastics</td>\n",
              "      <td>57</td>\n",
              "      <td>104</td>\n",
              "    </tr>\n",
              "    <tr>\n",
              "      <th>22</th>\n",
              "      <td>Madison Kocian</td>\n",
              "      <td>Gymnastics</td>\n",
              "      <td>62</td>\n",
              "      <td>101</td>\n",
              "    </tr>\n",
              "    <tr>\n",
              "      <th>23</th>\n",
              "      <td>Elena Delle Donne</td>\n",
              "      <td>Basketball</td>\n",
              "      <td>77</td>\n",
              "      <td>188</td>\n",
              "    </tr>\n",
              "    <tr>\n",
              "      <th>24</th>\n",
              "      <td>Seimone Augustus</td>\n",
              "      <td>Basketball</td>\n",
              "      <td>72</td>\n",
              "      <td>166</td>\n",
              "    </tr>\n",
              "    <tr>\n",
              "      <th>25</th>\n",
              "      <td>Desiree Linden</td>\n",
              "      <td>Track</td>\n",
              "      <td>61</td>\n",
              "      <td>97</td>\n",
              "    </tr>\n",
              "    <tr>\n",
              "      <th>26</th>\n",
              "      <td>Shalane Flanagan</td>\n",
              "      <td>Track</td>\n",
              "      <td>65</td>\n",
              "      <td>106</td>\n",
              "    </tr>\n",
              "    <tr>\n",
              "      <th>27</th>\n",
              "      <td>Laurie Hernandez</td>\n",
              "      <td>Gymnastics</td>\n",
              "      <td>60</td>\n",
              "      <td>106</td>\n",
              "    </tr>\n",
              "  </tbody>\n",
              "</table>\n",
              "</div>"
            ],
            "text/plain": [
              "                 Name       Sport  Height  Weight\n",
              "0      Asuka Teramoto  Gymnastics      54      66\n",
              "1    Brittainey Raven  Basketball      72     162\n",
              "2            Chen Nan  Basketball      78     204\n",
              "3       Gabby Douglas  Gymnastics      49      90\n",
              "4    Helalia Johannes       Track      65      99\n",
              "5     Irina Miketenko       Track      63     106\n",
              "6       Jennifer Lacy  Basketball      75     175\n",
              "7        Kara Goucher       Track      67     123\n",
              "8         Linlin Deng  Gymnastics      54      68\n",
              "9       Nakia Sanford  Basketball      76     200\n",
              "10         Nikki Blue  Basketball      68     163\n",
              "11    Qiushuang Huang  Gymnastics      61      95\n",
              "12     Rebecca Tunney  Gymnastics      58      77\n",
              "13        Rene Kalmer       Track      70     108\n",
              "14    Shanna Crossley  Basketball      70     155\n",
              "15   Shavonte Zellous  Basketball      70     155\n",
              "16    Tatyana Petrova       Track      63     108\n",
              "17        Tiki Gelana       Track      65     106\n",
              "18    Valeria Straneo       Track      66      97\n",
              "19    Viktoria Komova  Gymnastics      61      76\n",
              "20          Amy Cragg       Track      64      99\n",
              "21       Simone Biles  Gymnastics      57     104\n",
              "22     Madison Kocian  Gymnastics      62     101\n",
              "23  Elena Delle Donne  Basketball      77     188\n",
              "24   Seimone Augustus  Basketball      72     166\n",
              "25     Desiree Linden       Track      61      97\n",
              "26   Shalane Flanagan       Track      65     106\n",
              "27   Laurie Hernandez  Gymnastics      60     106"
            ]
          },
          "metadata": {
            "tags": []
          },
          "execution_count": 33
        }
      ]
    },
    {
      "cell_type": "markdown",
      "metadata": {
        "id": "TLAuR511DzPl"
      },
      "source": [
        "### Reading a CSV file the local machine\n",
        "First, let's get that file onto our local machine:"
      ]
    },
    {
      "cell_type": "code",
      "metadata": {
        "id": "0-xAoxVYDzPl",
        "colab": {
          "base_uri": "https://localhost:8080/"
        },
        "outputId": "2ee45dd8-0ffb-4c2e-fd8c-5d70d7ddd140"
      },
      "source": [
        "!curl https://raw.githubusercontent.com/zacharski/ml-class/master/data/athletes.csv > localAthletes.csv"
      ],
      "execution_count": 35,
      "outputs": [
        {
          "output_type": "stream",
          "text": [
            "  % Total    % Received % Xferd  Average Speed   Time    Time     Time  Current\n",
            "                                 Dload  Upload   Total   Spent    Left  Speed\n",
            "\r  0     0    0     0    0     0      0      0 --:--:-- --:--:-- --:--:--     0\r100   878  100   878    0     0  10578      0 --:--:-- --:--:-- --:--:-- 10578\n"
          ],
          "name": "stdout"
        }
      ]
    },
    {
      "cell_type": "markdown",
      "metadata": {
        "id": "m9q-jGH_DzPl"
      },
      "source": [
        "Hmm. That didn't work. Can you fix the error and rerun that cell?\n",
        "\n",
        "---\n",
        "Now we can specify the local file using `pd=read_csv`"
      ]
    },
    {
      "cell_type": "code",
      "metadata": {
        "scrolled": true,
        "id": "vBz0-SW5DzPl",
        "colab": {
          "base_uri": "https://localhost:8080/",
          "height": 917
        },
        "outputId": "743dd129-8296-414f-f418-7529fa29c98f"
      },
      "source": [
        "d6 = pd.read_csv('localAthletes.csv')\n",
        "d6"
      ],
      "execution_count": 36,
      "outputs": [
        {
          "output_type": "execute_result",
          "data": {
            "text/html": [
              "<div>\n",
              "<style scoped>\n",
              "    .dataframe tbody tr th:only-of-type {\n",
              "        vertical-align: middle;\n",
              "    }\n",
              "\n",
              "    .dataframe tbody tr th {\n",
              "        vertical-align: top;\n",
              "    }\n",
              "\n",
              "    .dataframe thead th {\n",
              "        text-align: right;\n",
              "    }\n",
              "</style>\n",
              "<table border=\"1\" class=\"dataframe\">\n",
              "  <thead>\n",
              "    <tr style=\"text-align: right;\">\n",
              "      <th></th>\n",
              "      <th>Name</th>\n",
              "      <th>Sport</th>\n",
              "      <th>Height</th>\n",
              "      <th>Weight</th>\n",
              "    </tr>\n",
              "  </thead>\n",
              "  <tbody>\n",
              "    <tr>\n",
              "      <th>0</th>\n",
              "      <td>Asuka Teramoto</td>\n",
              "      <td>Gymnastics</td>\n",
              "      <td>54</td>\n",
              "      <td>66</td>\n",
              "    </tr>\n",
              "    <tr>\n",
              "      <th>1</th>\n",
              "      <td>Brittainey Raven</td>\n",
              "      <td>Basketball</td>\n",
              "      <td>72</td>\n",
              "      <td>162</td>\n",
              "    </tr>\n",
              "    <tr>\n",
              "      <th>2</th>\n",
              "      <td>Chen Nan</td>\n",
              "      <td>Basketball</td>\n",
              "      <td>78</td>\n",
              "      <td>204</td>\n",
              "    </tr>\n",
              "    <tr>\n",
              "      <th>3</th>\n",
              "      <td>Gabby Douglas</td>\n",
              "      <td>Gymnastics</td>\n",
              "      <td>49</td>\n",
              "      <td>90</td>\n",
              "    </tr>\n",
              "    <tr>\n",
              "      <th>4</th>\n",
              "      <td>Helalia Johannes</td>\n",
              "      <td>Track</td>\n",
              "      <td>65</td>\n",
              "      <td>99</td>\n",
              "    </tr>\n",
              "    <tr>\n",
              "      <th>5</th>\n",
              "      <td>Irina Miketenko</td>\n",
              "      <td>Track</td>\n",
              "      <td>63</td>\n",
              "      <td>106</td>\n",
              "    </tr>\n",
              "    <tr>\n",
              "      <th>6</th>\n",
              "      <td>Jennifer Lacy</td>\n",
              "      <td>Basketball</td>\n",
              "      <td>75</td>\n",
              "      <td>175</td>\n",
              "    </tr>\n",
              "    <tr>\n",
              "      <th>7</th>\n",
              "      <td>Kara Goucher</td>\n",
              "      <td>Track</td>\n",
              "      <td>67</td>\n",
              "      <td>123</td>\n",
              "    </tr>\n",
              "    <tr>\n",
              "      <th>8</th>\n",
              "      <td>Linlin Deng</td>\n",
              "      <td>Gymnastics</td>\n",
              "      <td>54</td>\n",
              "      <td>68</td>\n",
              "    </tr>\n",
              "    <tr>\n",
              "      <th>9</th>\n",
              "      <td>Nakia Sanford</td>\n",
              "      <td>Basketball</td>\n",
              "      <td>76</td>\n",
              "      <td>200</td>\n",
              "    </tr>\n",
              "    <tr>\n",
              "      <th>10</th>\n",
              "      <td>Nikki Blue</td>\n",
              "      <td>Basketball</td>\n",
              "      <td>68</td>\n",
              "      <td>163</td>\n",
              "    </tr>\n",
              "    <tr>\n",
              "      <th>11</th>\n",
              "      <td>Qiushuang Huang</td>\n",
              "      <td>Gymnastics</td>\n",
              "      <td>61</td>\n",
              "      <td>95</td>\n",
              "    </tr>\n",
              "    <tr>\n",
              "      <th>12</th>\n",
              "      <td>Rebecca Tunney</td>\n",
              "      <td>Gymnastics</td>\n",
              "      <td>58</td>\n",
              "      <td>77</td>\n",
              "    </tr>\n",
              "    <tr>\n",
              "      <th>13</th>\n",
              "      <td>Rene Kalmer</td>\n",
              "      <td>Track</td>\n",
              "      <td>70</td>\n",
              "      <td>108</td>\n",
              "    </tr>\n",
              "    <tr>\n",
              "      <th>14</th>\n",
              "      <td>Shanna Crossley</td>\n",
              "      <td>Basketball</td>\n",
              "      <td>70</td>\n",
              "      <td>155</td>\n",
              "    </tr>\n",
              "    <tr>\n",
              "      <th>15</th>\n",
              "      <td>Shavonte Zellous</td>\n",
              "      <td>Basketball</td>\n",
              "      <td>70</td>\n",
              "      <td>155</td>\n",
              "    </tr>\n",
              "    <tr>\n",
              "      <th>16</th>\n",
              "      <td>Tatyana Petrova</td>\n",
              "      <td>Track</td>\n",
              "      <td>63</td>\n",
              "      <td>108</td>\n",
              "    </tr>\n",
              "    <tr>\n",
              "      <th>17</th>\n",
              "      <td>Tiki Gelana</td>\n",
              "      <td>Track</td>\n",
              "      <td>65</td>\n",
              "      <td>106</td>\n",
              "    </tr>\n",
              "    <tr>\n",
              "      <th>18</th>\n",
              "      <td>Valeria Straneo</td>\n",
              "      <td>Track</td>\n",
              "      <td>66</td>\n",
              "      <td>97</td>\n",
              "    </tr>\n",
              "    <tr>\n",
              "      <th>19</th>\n",
              "      <td>Viktoria Komova</td>\n",
              "      <td>Gymnastics</td>\n",
              "      <td>61</td>\n",
              "      <td>76</td>\n",
              "    </tr>\n",
              "    <tr>\n",
              "      <th>20</th>\n",
              "      <td>Amy Cragg</td>\n",
              "      <td>Track</td>\n",
              "      <td>64</td>\n",
              "      <td>99</td>\n",
              "    </tr>\n",
              "    <tr>\n",
              "      <th>21</th>\n",
              "      <td>Simone Biles</td>\n",
              "      <td>Gymnastics</td>\n",
              "      <td>57</td>\n",
              "      <td>104</td>\n",
              "    </tr>\n",
              "    <tr>\n",
              "      <th>22</th>\n",
              "      <td>Madison Kocian</td>\n",
              "      <td>Gymnastics</td>\n",
              "      <td>62</td>\n",
              "      <td>101</td>\n",
              "    </tr>\n",
              "    <tr>\n",
              "      <th>23</th>\n",
              "      <td>Elena Delle Donne</td>\n",
              "      <td>Basketball</td>\n",
              "      <td>77</td>\n",
              "      <td>188</td>\n",
              "    </tr>\n",
              "    <tr>\n",
              "      <th>24</th>\n",
              "      <td>Seimone Augustus</td>\n",
              "      <td>Basketball</td>\n",
              "      <td>72</td>\n",
              "      <td>166</td>\n",
              "    </tr>\n",
              "    <tr>\n",
              "      <th>25</th>\n",
              "      <td>Desiree Linden</td>\n",
              "      <td>Track</td>\n",
              "      <td>61</td>\n",
              "      <td>97</td>\n",
              "    </tr>\n",
              "    <tr>\n",
              "      <th>26</th>\n",
              "      <td>Shalane Flanagan</td>\n",
              "      <td>Track</td>\n",
              "      <td>65</td>\n",
              "      <td>106</td>\n",
              "    </tr>\n",
              "    <tr>\n",
              "      <th>27</th>\n",
              "      <td>Laurie Hernandez</td>\n",
              "      <td>Gymnastics</td>\n",
              "      <td>60</td>\n",
              "      <td>106</td>\n",
              "    </tr>\n",
              "  </tbody>\n",
              "</table>\n",
              "</div>"
            ],
            "text/plain": [
              "                 Name       Sport  Height  Weight\n",
              "0      Asuka Teramoto  Gymnastics      54      66\n",
              "1    Brittainey Raven  Basketball      72     162\n",
              "2            Chen Nan  Basketball      78     204\n",
              "3       Gabby Douglas  Gymnastics      49      90\n",
              "4    Helalia Johannes       Track      65      99\n",
              "5     Irina Miketenko       Track      63     106\n",
              "6       Jennifer Lacy  Basketball      75     175\n",
              "7        Kara Goucher       Track      67     123\n",
              "8         Linlin Deng  Gymnastics      54      68\n",
              "9       Nakia Sanford  Basketball      76     200\n",
              "10         Nikki Blue  Basketball      68     163\n",
              "11    Qiushuang Huang  Gymnastics      61      95\n",
              "12     Rebecca Tunney  Gymnastics      58      77\n",
              "13        Rene Kalmer       Track      70     108\n",
              "14    Shanna Crossley  Basketball      70     155\n",
              "15   Shavonte Zellous  Basketball      70     155\n",
              "16    Tatyana Petrova       Track      63     108\n",
              "17        Tiki Gelana       Track      65     106\n",
              "18    Valeria Straneo       Track      66      97\n",
              "19    Viktoria Komova  Gymnastics      61      76\n",
              "20          Amy Cragg       Track      64      99\n",
              "21       Simone Biles  Gymnastics      57     104\n",
              "22     Madison Kocian  Gymnastics      62     101\n",
              "23  Elena Delle Donne  Basketball      77     188\n",
              "24   Seimone Augustus  Basketball      72     166\n",
              "25     Desiree Linden       Track      61      97\n",
              "26   Shalane Flanagan       Track      65     106\n",
              "27   Laurie Hernandez  Gymnastics      60     106"
            ]
          },
          "metadata": {
            "tags": []
          },
          "execution_count": 36
        }
      ]
    },
    {
      "cell_type": "markdown",
      "metadata": {
        "id": "6CyRGCwRDzPm"
      },
      "source": [
        "Suppose we want that file in a data directory. Let's go ahead and create the directory and move the file there."
      ]
    },
    {
      "cell_type": "code",
      "metadata": {
        "id": "mIuUxWLwDzPm",
        "colab": {
          "base_uri": "https://localhost:8080/"
        },
        "outputId": "46b9c136-a0be-4a8f-c384-24506476e5d8"
      },
      "source": [
        "!mkdir data\n",
        "!mv localAthletes.csv data"
      ],
      "execution_count": 38,
      "outputs": [
        {
          "output_type": "stream",
          "text": [
            "mkdir: cannot create directory ‘data’: File exists\n",
            "mv: cannot stat 'localAthletes.csv': No such file or directory\n"
          ],
          "name": "stdout"
        }
      ]
    },
    {
      "cell_type": "markdown",
      "metadata": {
        "id": "iAmIZPLDDzPm"
      },
      "source": [
        "Now when we load the file we need to give more of a path:"
      ]
    },
    {
      "cell_type": "code",
      "metadata": {
        "id": "uG_7wJ_ZDzPm",
        "colab": {
          "base_uri": "https://localhost:8080/",
          "height": 917
        },
        "outputId": "d298ac1c-6145-4474-8aa2-e37687b0985f"
      },
      "source": [
        "d6 = pd.read_csv('data/localAthletes.csv')\n",
        "d6"
      ],
      "execution_count": 39,
      "outputs": [
        {
          "output_type": "execute_result",
          "data": {
            "text/html": [
              "<div>\n",
              "<style scoped>\n",
              "    .dataframe tbody tr th:only-of-type {\n",
              "        vertical-align: middle;\n",
              "    }\n",
              "\n",
              "    .dataframe tbody tr th {\n",
              "        vertical-align: top;\n",
              "    }\n",
              "\n",
              "    .dataframe thead th {\n",
              "        text-align: right;\n",
              "    }\n",
              "</style>\n",
              "<table border=\"1\" class=\"dataframe\">\n",
              "  <thead>\n",
              "    <tr style=\"text-align: right;\">\n",
              "      <th></th>\n",
              "      <th>Name</th>\n",
              "      <th>Sport</th>\n",
              "      <th>Height</th>\n",
              "      <th>Weight</th>\n",
              "    </tr>\n",
              "  </thead>\n",
              "  <tbody>\n",
              "    <tr>\n",
              "      <th>0</th>\n",
              "      <td>Asuka Teramoto</td>\n",
              "      <td>Gymnastics</td>\n",
              "      <td>54</td>\n",
              "      <td>66</td>\n",
              "    </tr>\n",
              "    <tr>\n",
              "      <th>1</th>\n",
              "      <td>Brittainey Raven</td>\n",
              "      <td>Basketball</td>\n",
              "      <td>72</td>\n",
              "      <td>162</td>\n",
              "    </tr>\n",
              "    <tr>\n",
              "      <th>2</th>\n",
              "      <td>Chen Nan</td>\n",
              "      <td>Basketball</td>\n",
              "      <td>78</td>\n",
              "      <td>204</td>\n",
              "    </tr>\n",
              "    <tr>\n",
              "      <th>3</th>\n",
              "      <td>Gabby Douglas</td>\n",
              "      <td>Gymnastics</td>\n",
              "      <td>49</td>\n",
              "      <td>90</td>\n",
              "    </tr>\n",
              "    <tr>\n",
              "      <th>4</th>\n",
              "      <td>Helalia Johannes</td>\n",
              "      <td>Track</td>\n",
              "      <td>65</td>\n",
              "      <td>99</td>\n",
              "    </tr>\n",
              "    <tr>\n",
              "      <th>5</th>\n",
              "      <td>Irina Miketenko</td>\n",
              "      <td>Track</td>\n",
              "      <td>63</td>\n",
              "      <td>106</td>\n",
              "    </tr>\n",
              "    <tr>\n",
              "      <th>6</th>\n",
              "      <td>Jennifer Lacy</td>\n",
              "      <td>Basketball</td>\n",
              "      <td>75</td>\n",
              "      <td>175</td>\n",
              "    </tr>\n",
              "    <tr>\n",
              "      <th>7</th>\n",
              "      <td>Kara Goucher</td>\n",
              "      <td>Track</td>\n",
              "      <td>67</td>\n",
              "      <td>123</td>\n",
              "    </tr>\n",
              "    <tr>\n",
              "      <th>8</th>\n",
              "      <td>Linlin Deng</td>\n",
              "      <td>Gymnastics</td>\n",
              "      <td>54</td>\n",
              "      <td>68</td>\n",
              "    </tr>\n",
              "    <tr>\n",
              "      <th>9</th>\n",
              "      <td>Nakia Sanford</td>\n",
              "      <td>Basketball</td>\n",
              "      <td>76</td>\n",
              "      <td>200</td>\n",
              "    </tr>\n",
              "    <tr>\n",
              "      <th>10</th>\n",
              "      <td>Nikki Blue</td>\n",
              "      <td>Basketball</td>\n",
              "      <td>68</td>\n",
              "      <td>163</td>\n",
              "    </tr>\n",
              "    <tr>\n",
              "      <th>11</th>\n",
              "      <td>Qiushuang Huang</td>\n",
              "      <td>Gymnastics</td>\n",
              "      <td>61</td>\n",
              "      <td>95</td>\n",
              "    </tr>\n",
              "    <tr>\n",
              "      <th>12</th>\n",
              "      <td>Rebecca Tunney</td>\n",
              "      <td>Gymnastics</td>\n",
              "      <td>58</td>\n",
              "      <td>77</td>\n",
              "    </tr>\n",
              "    <tr>\n",
              "      <th>13</th>\n",
              "      <td>Rene Kalmer</td>\n",
              "      <td>Track</td>\n",
              "      <td>70</td>\n",
              "      <td>108</td>\n",
              "    </tr>\n",
              "    <tr>\n",
              "      <th>14</th>\n",
              "      <td>Shanna Crossley</td>\n",
              "      <td>Basketball</td>\n",
              "      <td>70</td>\n",
              "      <td>155</td>\n",
              "    </tr>\n",
              "    <tr>\n",
              "      <th>15</th>\n",
              "      <td>Shavonte Zellous</td>\n",
              "      <td>Basketball</td>\n",
              "      <td>70</td>\n",
              "      <td>155</td>\n",
              "    </tr>\n",
              "    <tr>\n",
              "      <th>16</th>\n",
              "      <td>Tatyana Petrova</td>\n",
              "      <td>Track</td>\n",
              "      <td>63</td>\n",
              "      <td>108</td>\n",
              "    </tr>\n",
              "    <tr>\n",
              "      <th>17</th>\n",
              "      <td>Tiki Gelana</td>\n",
              "      <td>Track</td>\n",
              "      <td>65</td>\n",
              "      <td>106</td>\n",
              "    </tr>\n",
              "    <tr>\n",
              "      <th>18</th>\n",
              "      <td>Valeria Straneo</td>\n",
              "      <td>Track</td>\n",
              "      <td>66</td>\n",
              "      <td>97</td>\n",
              "    </tr>\n",
              "    <tr>\n",
              "      <th>19</th>\n",
              "      <td>Viktoria Komova</td>\n",
              "      <td>Gymnastics</td>\n",
              "      <td>61</td>\n",
              "      <td>76</td>\n",
              "    </tr>\n",
              "    <tr>\n",
              "      <th>20</th>\n",
              "      <td>Amy Cragg</td>\n",
              "      <td>Track</td>\n",
              "      <td>64</td>\n",
              "      <td>99</td>\n",
              "    </tr>\n",
              "    <tr>\n",
              "      <th>21</th>\n",
              "      <td>Simone Biles</td>\n",
              "      <td>Gymnastics</td>\n",
              "      <td>57</td>\n",
              "      <td>104</td>\n",
              "    </tr>\n",
              "    <tr>\n",
              "      <th>22</th>\n",
              "      <td>Madison Kocian</td>\n",
              "      <td>Gymnastics</td>\n",
              "      <td>62</td>\n",
              "      <td>101</td>\n",
              "    </tr>\n",
              "    <tr>\n",
              "      <th>23</th>\n",
              "      <td>Elena Delle Donne</td>\n",
              "      <td>Basketball</td>\n",
              "      <td>77</td>\n",
              "      <td>188</td>\n",
              "    </tr>\n",
              "    <tr>\n",
              "      <th>24</th>\n",
              "      <td>Seimone Augustus</td>\n",
              "      <td>Basketball</td>\n",
              "      <td>72</td>\n",
              "      <td>166</td>\n",
              "    </tr>\n",
              "    <tr>\n",
              "      <th>25</th>\n",
              "      <td>Desiree Linden</td>\n",
              "      <td>Track</td>\n",
              "      <td>61</td>\n",
              "      <td>97</td>\n",
              "    </tr>\n",
              "    <tr>\n",
              "      <th>26</th>\n",
              "      <td>Shalane Flanagan</td>\n",
              "      <td>Track</td>\n",
              "      <td>65</td>\n",
              "      <td>106</td>\n",
              "    </tr>\n",
              "    <tr>\n",
              "      <th>27</th>\n",
              "      <td>Laurie Hernandez</td>\n",
              "      <td>Gymnastics</td>\n",
              "      <td>60</td>\n",
              "      <td>106</td>\n",
              "    </tr>\n",
              "  </tbody>\n",
              "</table>\n",
              "</div>"
            ],
            "text/plain": [
              "                 Name       Sport  Height  Weight\n",
              "0      Asuka Teramoto  Gymnastics      54      66\n",
              "1    Brittainey Raven  Basketball      72     162\n",
              "2            Chen Nan  Basketball      78     204\n",
              "3       Gabby Douglas  Gymnastics      49      90\n",
              "4    Helalia Johannes       Track      65      99\n",
              "5     Irina Miketenko       Track      63     106\n",
              "6       Jennifer Lacy  Basketball      75     175\n",
              "7        Kara Goucher       Track      67     123\n",
              "8         Linlin Deng  Gymnastics      54      68\n",
              "9       Nakia Sanford  Basketball      76     200\n",
              "10         Nikki Blue  Basketball      68     163\n",
              "11    Qiushuang Huang  Gymnastics      61      95\n",
              "12     Rebecca Tunney  Gymnastics      58      77\n",
              "13        Rene Kalmer       Track      70     108\n",
              "14    Shanna Crossley  Basketball      70     155\n",
              "15   Shavonte Zellous  Basketball      70     155\n",
              "16    Tatyana Petrova       Track      63     108\n",
              "17        Tiki Gelana       Track      65     106\n",
              "18    Valeria Straneo       Track      66      97\n",
              "19    Viktoria Komova  Gymnastics      61      76\n",
              "20          Amy Cragg       Track      64      99\n",
              "21       Simone Biles  Gymnastics      57     104\n",
              "22     Madison Kocian  Gymnastics      62     101\n",
              "23  Elena Delle Donne  Basketball      77     188\n",
              "24   Seimone Augustus  Basketball      72     166\n",
              "25     Desiree Linden       Track      61      97\n",
              "26   Shalane Flanagan       Track      65     106\n",
              "27   Laurie Hernandez  Gymnastics      60     106"
            ]
          },
          "metadata": {
            "tags": []
          },
          "execution_count": 39
        }
      ]
    },
    {
      "cell_type": "markdown",
      "metadata": {
        "id": "KLChypn2DzPm"
      },
      "source": [
        "## Missing Data\n",
        "\n",
        "In real machine learning tasks, we often encounter missing values.\n",
        "\n",
        "For example, suppose we didn't know Brittainey Raven's height. In that case our CSV file would start\n",
        "\n",
        "    Name,Sport,Height,Weight\n",
        "    Asuka Teramoto,Gymnastics,54,66\n",
        "    Brittainey Raven,Basketball,,162\n",
        "    Chen Nan,Basketball,78,204\n",
        "\n",
        "with the double comma on the Brittainey line representing the missing data. When we read that file.\n",
        "\n"
      ]
    },
    {
      "cell_type": "code",
      "metadata": {
        "id": "ZMC1y9jcDzPm",
        "colab": {
          "base_uri": "https://localhost:8080/",
          "height": 917
        },
        "outputId": "ab231106-181c-4ea7-e004-7be34560aff9"
      },
      "source": [
        "df7 = pd.read_csv('https://raw.githubusercontent.com/zacharski/ml-class/master/data/athletesMissingValue.csv')\n",
        "df7"
      ],
      "execution_count": 51,
      "outputs": [
        {
          "output_type": "execute_result",
          "data": {
            "text/html": [
              "<div>\n",
              "<style scoped>\n",
              "    .dataframe tbody tr th:only-of-type {\n",
              "        vertical-align: middle;\n",
              "    }\n",
              "\n",
              "    .dataframe tbody tr th {\n",
              "        vertical-align: top;\n",
              "    }\n",
              "\n",
              "    .dataframe thead th {\n",
              "        text-align: right;\n",
              "    }\n",
              "</style>\n",
              "<table border=\"1\" class=\"dataframe\">\n",
              "  <thead>\n",
              "    <tr style=\"text-align: right;\">\n",
              "      <th></th>\n",
              "      <th>Name</th>\n",
              "      <th>Sport</th>\n",
              "      <th>Height</th>\n",
              "      <th>Weight</th>\n",
              "    </tr>\n",
              "  </thead>\n",
              "  <tbody>\n",
              "    <tr>\n",
              "      <th>0</th>\n",
              "      <td>Asuka Teramoto</td>\n",
              "      <td>Gymnastics</td>\n",
              "      <td>54.0</td>\n",
              "      <td>66</td>\n",
              "    </tr>\n",
              "    <tr>\n",
              "      <th>1</th>\n",
              "      <td>Brittainey Raven</td>\n",
              "      <td>Basketball</td>\n",
              "      <td>NaN</td>\n",
              "      <td>162</td>\n",
              "    </tr>\n",
              "    <tr>\n",
              "      <th>2</th>\n",
              "      <td>Chen Nan</td>\n",
              "      <td>Basketball</td>\n",
              "      <td>78.0</td>\n",
              "      <td>204</td>\n",
              "    </tr>\n",
              "    <tr>\n",
              "      <th>3</th>\n",
              "      <td>Gabby Douglas</td>\n",
              "      <td>Gymnastics</td>\n",
              "      <td>49.0</td>\n",
              "      <td>90</td>\n",
              "    </tr>\n",
              "    <tr>\n",
              "      <th>4</th>\n",
              "      <td>Helalia Johannes</td>\n",
              "      <td>Track</td>\n",
              "      <td>65.0</td>\n",
              "      <td>99</td>\n",
              "    </tr>\n",
              "    <tr>\n",
              "      <th>5</th>\n",
              "      <td>Irina Miketenko</td>\n",
              "      <td>Track</td>\n",
              "      <td>NaN</td>\n",
              "      <td>106</td>\n",
              "    </tr>\n",
              "    <tr>\n",
              "      <th>6</th>\n",
              "      <td>Jennifer Lacy</td>\n",
              "      <td>Basketball</td>\n",
              "      <td>75.0</td>\n",
              "      <td>175</td>\n",
              "    </tr>\n",
              "    <tr>\n",
              "      <th>7</th>\n",
              "      <td>Kara Goucher</td>\n",
              "      <td>Track</td>\n",
              "      <td>67.0</td>\n",
              "      <td>123</td>\n",
              "    </tr>\n",
              "    <tr>\n",
              "      <th>8</th>\n",
              "      <td>Linlin Deng</td>\n",
              "      <td>Gymnastics</td>\n",
              "      <td>54.0</td>\n",
              "      <td>68</td>\n",
              "    </tr>\n",
              "    <tr>\n",
              "      <th>9</th>\n",
              "      <td>Nakia Sanford</td>\n",
              "      <td>Basketball</td>\n",
              "      <td>76.0</td>\n",
              "      <td>200</td>\n",
              "    </tr>\n",
              "    <tr>\n",
              "      <th>10</th>\n",
              "      <td>Nikki Blue</td>\n",
              "      <td>Basketball</td>\n",
              "      <td>68.0</td>\n",
              "      <td>163</td>\n",
              "    </tr>\n",
              "    <tr>\n",
              "      <th>11</th>\n",
              "      <td>Qiushuang Huang</td>\n",
              "      <td>Gymnastics</td>\n",
              "      <td>61.0</td>\n",
              "      <td>95</td>\n",
              "    </tr>\n",
              "    <tr>\n",
              "      <th>12</th>\n",
              "      <td>Rebecca Tunney</td>\n",
              "      <td>Gymnastics</td>\n",
              "      <td>NaN</td>\n",
              "      <td>77</td>\n",
              "    </tr>\n",
              "    <tr>\n",
              "      <th>13</th>\n",
              "      <td>Rene Kalmer</td>\n",
              "      <td>Track</td>\n",
              "      <td>70.0</td>\n",
              "      <td>108</td>\n",
              "    </tr>\n",
              "    <tr>\n",
              "      <th>14</th>\n",
              "      <td>Shanna Crossley</td>\n",
              "      <td>Basketball</td>\n",
              "      <td>70.0</td>\n",
              "      <td>155</td>\n",
              "    </tr>\n",
              "    <tr>\n",
              "      <th>15</th>\n",
              "      <td>Shavonte Zellous</td>\n",
              "      <td>Basketball</td>\n",
              "      <td>70.0</td>\n",
              "      <td>155</td>\n",
              "    </tr>\n",
              "    <tr>\n",
              "      <th>16</th>\n",
              "      <td>Tatyana Petrova</td>\n",
              "      <td>Track</td>\n",
              "      <td>63.0</td>\n",
              "      <td>108</td>\n",
              "    </tr>\n",
              "    <tr>\n",
              "      <th>17</th>\n",
              "      <td>Tiki Gelana</td>\n",
              "      <td>Track</td>\n",
              "      <td>65.0</td>\n",
              "      <td>106</td>\n",
              "    </tr>\n",
              "    <tr>\n",
              "      <th>18</th>\n",
              "      <td>Valeria Straneo</td>\n",
              "      <td>Track</td>\n",
              "      <td>66.0</td>\n",
              "      <td>97</td>\n",
              "    </tr>\n",
              "    <tr>\n",
              "      <th>19</th>\n",
              "      <td>Viktoria Komova</td>\n",
              "      <td>Gymnastics</td>\n",
              "      <td>61.0</td>\n",
              "      <td>76</td>\n",
              "    </tr>\n",
              "    <tr>\n",
              "      <th>20</th>\n",
              "      <td>Amy Cragg</td>\n",
              "      <td>NaN</td>\n",
              "      <td>64.0</td>\n",
              "      <td>99</td>\n",
              "    </tr>\n",
              "    <tr>\n",
              "      <th>21</th>\n",
              "      <td>Simone Biles</td>\n",
              "      <td>Gymnastics</td>\n",
              "      <td>57.0</td>\n",
              "      <td>104</td>\n",
              "    </tr>\n",
              "    <tr>\n",
              "      <th>22</th>\n",
              "      <td>Madison Kocian</td>\n",
              "      <td>Gymnastics</td>\n",
              "      <td>62.0</td>\n",
              "      <td>101</td>\n",
              "    </tr>\n",
              "    <tr>\n",
              "      <th>23</th>\n",
              "      <td>Elena Delle Donne</td>\n",
              "      <td>Basketball</td>\n",
              "      <td>77.0</td>\n",
              "      <td>188</td>\n",
              "    </tr>\n",
              "    <tr>\n",
              "      <th>24</th>\n",
              "      <td>Seimone Augustus</td>\n",
              "      <td>Basketball</td>\n",
              "      <td>72.0</td>\n",
              "      <td>166</td>\n",
              "    </tr>\n",
              "    <tr>\n",
              "      <th>25</th>\n",
              "      <td>Desiree Linden</td>\n",
              "      <td>Track</td>\n",
              "      <td>61.0</td>\n",
              "      <td>97</td>\n",
              "    </tr>\n",
              "    <tr>\n",
              "      <th>26</th>\n",
              "      <td>Shalane Flanagan</td>\n",
              "      <td>Track</td>\n",
              "      <td>65.0</td>\n",
              "      <td>106</td>\n",
              "    </tr>\n",
              "    <tr>\n",
              "      <th>27</th>\n",
              "      <td>Laurie Hernandez</td>\n",
              "      <td>Gymnastics</td>\n",
              "      <td>60.0</td>\n",
              "      <td>106</td>\n",
              "    </tr>\n",
              "  </tbody>\n",
              "</table>\n",
              "</div>"
            ],
            "text/plain": [
              "                 Name       Sport  Height  Weight\n",
              "0      Asuka Teramoto  Gymnastics    54.0      66\n",
              "1    Brittainey Raven  Basketball     NaN     162\n",
              "2            Chen Nan  Basketball    78.0     204\n",
              "3       Gabby Douglas  Gymnastics    49.0      90\n",
              "4    Helalia Johannes       Track    65.0      99\n",
              "5     Irina Miketenko       Track     NaN     106\n",
              "6       Jennifer Lacy  Basketball    75.0     175\n",
              "7        Kara Goucher       Track    67.0     123\n",
              "8         Linlin Deng  Gymnastics    54.0      68\n",
              "9       Nakia Sanford  Basketball    76.0     200\n",
              "10         Nikki Blue  Basketball    68.0     163\n",
              "11    Qiushuang Huang  Gymnastics    61.0      95\n",
              "12     Rebecca Tunney  Gymnastics     NaN      77\n",
              "13        Rene Kalmer       Track    70.0     108\n",
              "14    Shanna Crossley  Basketball    70.0     155\n",
              "15   Shavonte Zellous  Basketball    70.0     155\n",
              "16    Tatyana Petrova       Track    63.0     108\n",
              "17        Tiki Gelana       Track    65.0     106\n",
              "18    Valeria Straneo       Track    66.0      97\n",
              "19    Viktoria Komova  Gymnastics    61.0      76\n",
              "20          Amy Cragg         NaN    64.0      99\n",
              "21       Simone Biles  Gymnastics    57.0     104\n",
              "22     Madison Kocian  Gymnastics    62.0     101\n",
              "23  Elena Delle Donne  Basketball    77.0     188\n",
              "24   Seimone Augustus  Basketball    72.0     166\n",
              "25     Desiree Linden       Track    61.0      97\n",
              "26   Shalane Flanagan       Track    65.0     106\n",
              "27   Laurie Hernandez  Gymnastics    60.0     106"
            ]
          },
          "metadata": {
            "tags": []
          },
          "execution_count": 51
        }
      ]
    },
    {
      "cell_type": "markdown",
      "metadata": {
        "id": "WAbNjaGmDzPn"
      },
      "source": [
        "We see that Brittainey Raven's height is now the floating point value NaN meaning Not a Number. This NaN value is used even in columns that do not contain floating point values. For example, in row 20 above, Amy Cragg has NaN in the Sport column. Wes McKinney, the developer of Pandas calls NaN a *sentinel* value that is easily detected and indicates a missing value.\n",
        "\n",
        "#### Adding a missing value by hand\n",
        "Suppose we didn't know the number of cylinders of a Ford F150:\n",
        "\n",
        "make | mpg | cylinders | HP | 0-60 |\n",
        "---- | :---: | :---: | :---: | :---: \n",
        "Fiat | 38 | 4 | 157   | 6.9 \n",
        "Ford F150 | 19 | - | 386 | 6.3 \n",
        "Mazda 3 | 37 | 4 | 155 |  7.5 \n",
        "Ford Escape | 27 | 4 | 245 | 7.1 \n",
        "Kia Soul | 31 | 4 | 164 | 8.5 \n",
        "\n",
        "In that case we can create a dataframe like:\n"
      ]
    },
    {
      "cell_type": "code",
      "metadata": {
        "id": "wWkeB7kPDzPn",
        "colab": {
          "base_uri": "https://localhost:8080/",
          "height": 204
        },
        "outputId": "f7750c58-a49b-4ba0-b0f9-87b74d4df176"
      },
      "source": [
        "cars3 = {'make': Series(['Fiat 500', 'Ford F-150', 'Mazda 3', 'Ford Escape', 'Kia Soul']),\n",
        "        'mpg': Series([38, 19, 37, 27, 31]),\n",
        "        'cylinders': Series([4,np.nan, 4, 4, 4]),\n",
        "        'HP': [157, 386, 155, 245, 164],\n",
        "        '0-60': Series([6.9, 6.3, 7.5, 7.1, 8.5])}\n",
        "        \n",
        "carz = DataFrame(cars3)\n",
        "carz"
      ],
      "execution_count": 41,
      "outputs": [
        {
          "output_type": "execute_result",
          "data": {
            "text/html": [
              "<div>\n",
              "<style scoped>\n",
              "    .dataframe tbody tr th:only-of-type {\n",
              "        vertical-align: middle;\n",
              "    }\n",
              "\n",
              "    .dataframe tbody tr th {\n",
              "        vertical-align: top;\n",
              "    }\n",
              "\n",
              "    .dataframe thead th {\n",
              "        text-align: right;\n",
              "    }\n",
              "</style>\n",
              "<table border=\"1\" class=\"dataframe\">\n",
              "  <thead>\n",
              "    <tr style=\"text-align: right;\">\n",
              "      <th></th>\n",
              "      <th>make</th>\n",
              "      <th>mpg</th>\n",
              "      <th>cylinders</th>\n",
              "      <th>HP</th>\n",
              "      <th>0-60</th>\n",
              "    </tr>\n",
              "  </thead>\n",
              "  <tbody>\n",
              "    <tr>\n",
              "      <th>0</th>\n",
              "      <td>Fiat 500</td>\n",
              "      <td>38</td>\n",
              "      <td>4.0</td>\n",
              "      <td>157</td>\n",
              "      <td>6.9</td>\n",
              "    </tr>\n",
              "    <tr>\n",
              "      <th>1</th>\n",
              "      <td>Ford F-150</td>\n",
              "      <td>19</td>\n",
              "      <td>NaN</td>\n",
              "      <td>386</td>\n",
              "      <td>6.3</td>\n",
              "    </tr>\n",
              "    <tr>\n",
              "      <th>2</th>\n",
              "      <td>Mazda 3</td>\n",
              "      <td>37</td>\n",
              "      <td>4.0</td>\n",
              "      <td>155</td>\n",
              "      <td>7.5</td>\n",
              "    </tr>\n",
              "    <tr>\n",
              "      <th>3</th>\n",
              "      <td>Ford Escape</td>\n",
              "      <td>27</td>\n",
              "      <td>4.0</td>\n",
              "      <td>245</td>\n",
              "      <td>7.1</td>\n",
              "    </tr>\n",
              "    <tr>\n",
              "      <th>4</th>\n",
              "      <td>Kia Soul</td>\n",
              "      <td>31</td>\n",
              "      <td>4.0</td>\n",
              "      <td>164</td>\n",
              "      <td>8.5</td>\n",
              "    </tr>\n",
              "  </tbody>\n",
              "</table>\n",
              "</div>"
            ],
            "text/plain": [
              "          make  mpg  cylinders   HP  0-60\n",
              "0     Fiat 500   38        4.0  157   6.9\n",
              "1   Ford F-150   19        NaN  386   6.3\n",
              "2      Mazda 3   37        4.0  155   7.5\n",
              "3  Ford Escape   27        4.0  245   7.1\n",
              "4     Kia Soul   31        4.0  164   8.5"
            ]
          },
          "metadata": {
            "tags": []
          },
          "execution_count": 41
        }
      ]
    },
    {
      "cell_type": "markdown",
      "metadata": {
        "id": "0Z7iU4N3DzPn"
      },
      "source": [
        "where `np.nan` is Numpy's NaN.  We can also use Python's `None`:\n"
      ]
    },
    {
      "cell_type": "code",
      "metadata": {
        "id": "qthEDi0UDzPo",
        "colab": {
          "base_uri": "https://localhost:8080/",
          "height": 204
        },
        "outputId": "18e48a41-899e-4807-a517-b95d59aff038"
      },
      "source": [
        "cars3 = {'make': Series(['Fiat 500', 'Ford F-150', 'Mazda 3', 'Ford Escape', 'Kia Soul']),\n",
        "        'mpg': Series([38, 19, 37, 27, 31]),\n",
        "        'cylinders': Series([4,None, 4, 4, 4]),\n",
        "        'HP': [157, 386, 155, 245, 164],\n",
        "        '0-60': Series([6.9, 6.3, 7.5, 7.1, 8.5])}\n",
        "        \n",
        "carz = DataFrame(cars3)\n",
        "carz"
      ],
      "execution_count": 42,
      "outputs": [
        {
          "output_type": "execute_result",
          "data": {
            "text/html": [
              "<div>\n",
              "<style scoped>\n",
              "    .dataframe tbody tr th:only-of-type {\n",
              "        vertical-align: middle;\n",
              "    }\n",
              "\n",
              "    .dataframe tbody tr th {\n",
              "        vertical-align: top;\n",
              "    }\n",
              "\n",
              "    .dataframe thead th {\n",
              "        text-align: right;\n",
              "    }\n",
              "</style>\n",
              "<table border=\"1\" class=\"dataframe\">\n",
              "  <thead>\n",
              "    <tr style=\"text-align: right;\">\n",
              "      <th></th>\n",
              "      <th>make</th>\n",
              "      <th>mpg</th>\n",
              "      <th>cylinders</th>\n",
              "      <th>HP</th>\n",
              "      <th>0-60</th>\n",
              "    </tr>\n",
              "  </thead>\n",
              "  <tbody>\n",
              "    <tr>\n",
              "      <th>0</th>\n",
              "      <td>Fiat 500</td>\n",
              "      <td>38</td>\n",
              "      <td>4.0</td>\n",
              "      <td>157</td>\n",
              "      <td>6.9</td>\n",
              "    </tr>\n",
              "    <tr>\n",
              "      <th>1</th>\n",
              "      <td>Ford F-150</td>\n",
              "      <td>19</td>\n",
              "      <td>NaN</td>\n",
              "      <td>386</td>\n",
              "      <td>6.3</td>\n",
              "    </tr>\n",
              "    <tr>\n",
              "      <th>2</th>\n",
              "      <td>Mazda 3</td>\n",
              "      <td>37</td>\n",
              "      <td>4.0</td>\n",
              "      <td>155</td>\n",
              "      <td>7.5</td>\n",
              "    </tr>\n",
              "    <tr>\n",
              "      <th>3</th>\n",
              "      <td>Ford Escape</td>\n",
              "      <td>27</td>\n",
              "      <td>4.0</td>\n",
              "      <td>245</td>\n",
              "      <td>7.1</td>\n",
              "    </tr>\n",
              "    <tr>\n",
              "      <th>4</th>\n",
              "      <td>Kia Soul</td>\n",
              "      <td>31</td>\n",
              "      <td>4.0</td>\n",
              "      <td>164</td>\n",
              "      <td>8.5</td>\n",
              "    </tr>\n",
              "  </tbody>\n",
              "</table>\n",
              "</div>"
            ],
            "text/plain": [
              "          make  mpg  cylinders   HP  0-60\n",
              "0     Fiat 500   38        4.0  157   6.9\n",
              "1   Ford F-150   19        NaN  386   6.3\n",
              "2      Mazda 3   37        4.0  155   7.5\n",
              "3  Ford Escape   27        4.0  245   7.1\n",
              "4     Kia Soul   31        4.0  164   8.5"
            ]
          },
          "metadata": {
            "tags": []
          },
          "execution_count": 42
        }
      ]
    },
    {
      "cell_type": "markdown",
      "metadata": {
        "id": "Sx6WyLnODzPo"
      },
      "source": [
        "In addition to reading CSV files, there are many other ways of reading in data including from SQL databases, mongoDB, and webpages. See the Pandas documentation for details.\n",
        "\n",
        "<h3 style=\"color:red\">Q2. Pima Indians Diabetes Dataset</h3>\n",
        "It is time to look at a new dataset, the Pima Indians Diabetes Data Set developed by the\n",
        "United States National Institute of Diabetes and Digestive and Kidney Diseases.\n",
        "\n",
        "The majority of the Pima people live on a reservation in Arizona.\n",
        "\n",
        "![](https://upload.wikimedia.org/wikipedia/commons/6/65/Pinal_County_Arizona_Incorporated_and_Unincorporated_areas_GRIC_highlighted.svg)\n",
        "\n",
        "Astonishingly, over 30% of Pima people develop diabetes. In contrast, the diabetes rate in\n",
        "the United States is around 12% and in China it is 4.2%. The country with the lowest rate of diabetes is Benin at 1.5%.\n",
        "\n",
        "Each instance in the dataset represents information about a Pima woman over the age of 21\n",
        "and belonged to one of two classes: a person who developed diabetes within five years, or a\n",
        "person that did not. There are eight attributes in addition to the column representing whether or not they developed diabetes:\n",
        "\n",
        "\n",
        "1.  The number of times the woman was pregnant\n",
        "2.  Plasma glucose concentration a 2 hours in an oral glucose tolerance test \n",
        "3.  Diastolic blood pressure (mm Hg)\n",
        "4.  Triceps skin fold thickness (mm) \n",
        "5.  2-Hour serum insulin (mu U/ml) \n",
        "6.  Body mass index (weight in kg/(height in m)^2) \n",
        "7.  Diabetes pedigree function \n",
        "8.  Age\n",
        "9.  Whether they got diabetes or not (0 = no, 1 = yes)\n",
        "\n",
        "\n",
        "<span style=\"color:red\">Please create a dataframe from the csv file at </span>\n",
        "\n",
        "    https://raw.githubusercontent.com/zacharski/ml-class/master/data/pima-indians-diabetes.csv\n",
        "    \n",
        "<span style=\"color:red\">This file does not have a header row</span>"
      ]
    },
    {
      "cell_type": "code",
      "metadata": {
        "id": "RwNediq8DzPp"
      },
      "source": [
        "prima = pd.read_csv('https://raw.githubusercontent.com/zacharski/ml-class/master/data/pima-indians-diabetes.csv', names=['pregnant', 'plasma', 'dbp', 'skin fold thickness', 'serum insulin', 'bmi', 'dpf', 'age', 'diabetes'])\n",
        "   "
      ],
      "execution_count": 77,
      "outputs": []
    },
    {
      "cell_type": "code",
      "metadata": {
        "id": "JkRRaPIDDzPp",
        "colab": {
          "base_uri": "https://localhost:8080/",
          "height": 419
        },
        "outputId": "19657e60-8a59-4135-ed66-d3c9f7984f46"
      },
      "source": [
        "prima"
      ],
      "execution_count": 78,
      "outputs": [
        {
          "output_type": "execute_result",
          "data": {
            "text/html": [
              "<div>\n",
              "<style scoped>\n",
              "    .dataframe tbody tr th:only-of-type {\n",
              "        vertical-align: middle;\n",
              "    }\n",
              "\n",
              "    .dataframe tbody tr th {\n",
              "        vertical-align: top;\n",
              "    }\n",
              "\n",
              "    .dataframe thead th {\n",
              "        text-align: right;\n",
              "    }\n",
              "</style>\n",
              "<table border=\"1\" class=\"dataframe\">\n",
              "  <thead>\n",
              "    <tr style=\"text-align: right;\">\n",
              "      <th></th>\n",
              "      <th>pregnant</th>\n",
              "      <th>plasma</th>\n",
              "      <th>dbp</th>\n",
              "      <th>skin fold thickness</th>\n",
              "      <th>serum insulin</th>\n",
              "      <th>bmi</th>\n",
              "      <th>dpf</th>\n",
              "      <th>age</th>\n",
              "      <th>diabetes</th>\n",
              "    </tr>\n",
              "  </thead>\n",
              "  <tbody>\n",
              "    <tr>\n",
              "      <th>0</th>\n",
              "      <td>6</td>\n",
              "      <td>148</td>\n",
              "      <td>72</td>\n",
              "      <td>35</td>\n",
              "      <td>0</td>\n",
              "      <td>33.6</td>\n",
              "      <td>0.627</td>\n",
              "      <td>50</td>\n",
              "      <td>1</td>\n",
              "    </tr>\n",
              "    <tr>\n",
              "      <th>1</th>\n",
              "      <td>1</td>\n",
              "      <td>85</td>\n",
              "      <td>66</td>\n",
              "      <td>29</td>\n",
              "      <td>0</td>\n",
              "      <td>26.6</td>\n",
              "      <td>0.351</td>\n",
              "      <td>31</td>\n",
              "      <td>0</td>\n",
              "    </tr>\n",
              "    <tr>\n",
              "      <th>2</th>\n",
              "      <td>8</td>\n",
              "      <td>183</td>\n",
              "      <td>64</td>\n",
              "      <td>0</td>\n",
              "      <td>0</td>\n",
              "      <td>23.3</td>\n",
              "      <td>0.672</td>\n",
              "      <td>32</td>\n",
              "      <td>1</td>\n",
              "    </tr>\n",
              "    <tr>\n",
              "      <th>3</th>\n",
              "      <td>1</td>\n",
              "      <td>89</td>\n",
              "      <td>66</td>\n",
              "      <td>23</td>\n",
              "      <td>94</td>\n",
              "      <td>28.1</td>\n",
              "      <td>0.167</td>\n",
              "      <td>21</td>\n",
              "      <td>0</td>\n",
              "    </tr>\n",
              "    <tr>\n",
              "      <th>4</th>\n",
              "      <td>0</td>\n",
              "      <td>137</td>\n",
              "      <td>40</td>\n",
              "      <td>35</td>\n",
              "      <td>168</td>\n",
              "      <td>43.1</td>\n",
              "      <td>2.288</td>\n",
              "      <td>33</td>\n",
              "      <td>1</td>\n",
              "    </tr>\n",
              "    <tr>\n",
              "      <th>...</th>\n",
              "      <td>...</td>\n",
              "      <td>...</td>\n",
              "      <td>...</td>\n",
              "      <td>...</td>\n",
              "      <td>...</td>\n",
              "      <td>...</td>\n",
              "      <td>...</td>\n",
              "      <td>...</td>\n",
              "      <td>...</td>\n",
              "    </tr>\n",
              "    <tr>\n",
              "      <th>763</th>\n",
              "      <td>10</td>\n",
              "      <td>101</td>\n",
              "      <td>76</td>\n",
              "      <td>48</td>\n",
              "      <td>180</td>\n",
              "      <td>32.9</td>\n",
              "      <td>0.171</td>\n",
              "      <td>63</td>\n",
              "      <td>0</td>\n",
              "    </tr>\n",
              "    <tr>\n",
              "      <th>764</th>\n",
              "      <td>2</td>\n",
              "      <td>122</td>\n",
              "      <td>70</td>\n",
              "      <td>27</td>\n",
              "      <td>0</td>\n",
              "      <td>36.8</td>\n",
              "      <td>0.340</td>\n",
              "      <td>27</td>\n",
              "      <td>0</td>\n",
              "    </tr>\n",
              "    <tr>\n",
              "      <th>765</th>\n",
              "      <td>5</td>\n",
              "      <td>121</td>\n",
              "      <td>72</td>\n",
              "      <td>23</td>\n",
              "      <td>112</td>\n",
              "      <td>26.2</td>\n",
              "      <td>0.245</td>\n",
              "      <td>30</td>\n",
              "      <td>0</td>\n",
              "    </tr>\n",
              "    <tr>\n",
              "      <th>766</th>\n",
              "      <td>1</td>\n",
              "      <td>126</td>\n",
              "      <td>60</td>\n",
              "      <td>0</td>\n",
              "      <td>0</td>\n",
              "      <td>30.1</td>\n",
              "      <td>0.349</td>\n",
              "      <td>47</td>\n",
              "      <td>1</td>\n",
              "    </tr>\n",
              "    <tr>\n",
              "      <th>767</th>\n",
              "      <td>1</td>\n",
              "      <td>93</td>\n",
              "      <td>70</td>\n",
              "      <td>31</td>\n",
              "      <td>0</td>\n",
              "      <td>30.4</td>\n",
              "      <td>0.315</td>\n",
              "      <td>23</td>\n",
              "      <td>0</td>\n",
              "    </tr>\n",
              "  </tbody>\n",
              "</table>\n",
              "<p>768 rows × 9 columns</p>\n",
              "</div>"
            ],
            "text/plain": [
              "     pregnant  plasma  dbp  skin fold thickness  ...   bmi    dpf  age  diabetes\n",
              "0           6     148   72                   35  ...  33.6  0.627   50         1\n",
              "1           1      85   66                   29  ...  26.6  0.351   31         0\n",
              "2           8     183   64                    0  ...  23.3  0.672   32         1\n",
              "3           1      89   66                   23  ...  28.1  0.167   21         0\n",
              "4           0     137   40                   35  ...  43.1  2.288   33         1\n",
              "..        ...     ...  ...                  ...  ...   ...    ...  ...       ...\n",
              "763        10     101   76                   48  ...  32.9  0.171   63         0\n",
              "764         2     122   70                   27  ...  36.8  0.340   27         0\n",
              "765         5     121   72                   23  ...  26.2  0.245   30         0\n",
              "766         1     126   60                    0  ...  30.1  0.349   47         1\n",
              "767         1      93   70                   31  ...  30.4  0.315   23         0\n",
              "\n",
              "[768 rows x 9 columns]"
            ]
          },
          "metadata": {
            "tags": []
          },
          "execution_count": 78
        }
      ]
    },
    {
      "cell_type": "markdown",
      "metadata": {
        "id": "-2ctzvFZDzPp"
      },
      "source": [
        "## Accessing data in a DataFrame\n",
        "We can get a column of a DataFrame by using the column name:"
      ]
    },
    {
      "cell_type": "code",
      "metadata": {
        "id": "8dG9y_i7DzPq",
        "colab": {
          "base_uri": "https://localhost:8080/"
        },
        "outputId": "67914872-7f59-4d2e-ada4-83daacb18632"
      },
      "source": [
        "athletes['Weight']"
      ],
      "execution_count": 58,
      "outputs": [
        {
          "output_type": "execute_result",
          "data": {
            "text/plain": [
              "0      66\n",
              "1     162\n",
              "2     204\n",
              "3      90\n",
              "4      99\n",
              "5     106\n",
              "6     175\n",
              "7     123\n",
              "8      68\n",
              "9     200\n",
              "10    163\n",
              "11     95\n",
              "12     77\n",
              "13    108\n",
              "14    155\n",
              "15    155\n",
              "16    108\n",
              "17    106\n",
              "18     97\n",
              "19     76\n",
              "20     99\n",
              "21    104\n",
              "22    101\n",
              "23    188\n",
              "24    166\n",
              "25     97\n",
              "26    106\n",
              "27    106\n",
              "Name: Weight, dtype: int64"
            ]
          },
          "metadata": {
            "tags": []
          },
          "execution_count": 58
        }
      ]
    },
    {
      "cell_type": "markdown",
      "metadata": {
        "id": "yfg8grUZDzPq"
      },
      "source": [
        "and we can get multiple columns by passing a list of column names"
      ]
    },
    {
      "cell_type": "code",
      "metadata": {
        "id": "Ce8AA5pQDzPq",
        "colab": {
          "base_uri": "https://localhost:8080/",
          "height": 917
        },
        "outputId": "b7ed8527-cf4a-4eb2-e6af-5ee686ef9188"
      },
      "source": [
        "athletes[['Weight', 'Height']]"
      ],
      "execution_count": 62,
      "outputs": [
        {
          "output_type": "execute_result",
          "data": {
            "text/html": [
              "<div>\n",
              "<style scoped>\n",
              "    .dataframe tbody tr th:only-of-type {\n",
              "        vertical-align: middle;\n",
              "    }\n",
              "\n",
              "    .dataframe tbody tr th {\n",
              "        vertical-align: top;\n",
              "    }\n",
              "\n",
              "    .dataframe thead th {\n",
              "        text-align: right;\n",
              "    }\n",
              "</style>\n",
              "<table border=\"1\" class=\"dataframe\">\n",
              "  <thead>\n",
              "    <tr style=\"text-align: right;\">\n",
              "      <th></th>\n",
              "      <th>Weight</th>\n",
              "      <th>Height</th>\n",
              "    </tr>\n",
              "  </thead>\n",
              "  <tbody>\n",
              "    <tr>\n",
              "      <th>0</th>\n",
              "      <td>66</td>\n",
              "      <td>54</td>\n",
              "    </tr>\n",
              "    <tr>\n",
              "      <th>1</th>\n",
              "      <td>162</td>\n",
              "      <td>72</td>\n",
              "    </tr>\n",
              "    <tr>\n",
              "      <th>2</th>\n",
              "      <td>204</td>\n",
              "      <td>78</td>\n",
              "    </tr>\n",
              "    <tr>\n",
              "      <th>3</th>\n",
              "      <td>90</td>\n",
              "      <td>49</td>\n",
              "    </tr>\n",
              "    <tr>\n",
              "      <th>4</th>\n",
              "      <td>99</td>\n",
              "      <td>65</td>\n",
              "    </tr>\n",
              "    <tr>\n",
              "      <th>5</th>\n",
              "      <td>106</td>\n",
              "      <td>63</td>\n",
              "    </tr>\n",
              "    <tr>\n",
              "      <th>6</th>\n",
              "      <td>175</td>\n",
              "      <td>75</td>\n",
              "    </tr>\n",
              "    <tr>\n",
              "      <th>7</th>\n",
              "      <td>123</td>\n",
              "      <td>67</td>\n",
              "    </tr>\n",
              "    <tr>\n",
              "      <th>8</th>\n",
              "      <td>68</td>\n",
              "      <td>54</td>\n",
              "    </tr>\n",
              "    <tr>\n",
              "      <th>9</th>\n",
              "      <td>200</td>\n",
              "      <td>76</td>\n",
              "    </tr>\n",
              "    <tr>\n",
              "      <th>10</th>\n",
              "      <td>163</td>\n",
              "      <td>68</td>\n",
              "    </tr>\n",
              "    <tr>\n",
              "      <th>11</th>\n",
              "      <td>95</td>\n",
              "      <td>61</td>\n",
              "    </tr>\n",
              "    <tr>\n",
              "      <th>12</th>\n",
              "      <td>77</td>\n",
              "      <td>58</td>\n",
              "    </tr>\n",
              "    <tr>\n",
              "      <th>13</th>\n",
              "      <td>108</td>\n",
              "      <td>70</td>\n",
              "    </tr>\n",
              "    <tr>\n",
              "      <th>14</th>\n",
              "      <td>155</td>\n",
              "      <td>70</td>\n",
              "    </tr>\n",
              "    <tr>\n",
              "      <th>15</th>\n",
              "      <td>155</td>\n",
              "      <td>70</td>\n",
              "    </tr>\n",
              "    <tr>\n",
              "      <th>16</th>\n",
              "      <td>108</td>\n",
              "      <td>63</td>\n",
              "    </tr>\n",
              "    <tr>\n",
              "      <th>17</th>\n",
              "      <td>106</td>\n",
              "      <td>65</td>\n",
              "    </tr>\n",
              "    <tr>\n",
              "      <th>18</th>\n",
              "      <td>97</td>\n",
              "      <td>66</td>\n",
              "    </tr>\n",
              "    <tr>\n",
              "      <th>19</th>\n",
              "      <td>76</td>\n",
              "      <td>61</td>\n",
              "    </tr>\n",
              "    <tr>\n",
              "      <th>20</th>\n",
              "      <td>99</td>\n",
              "      <td>64</td>\n",
              "    </tr>\n",
              "    <tr>\n",
              "      <th>21</th>\n",
              "      <td>104</td>\n",
              "      <td>57</td>\n",
              "    </tr>\n",
              "    <tr>\n",
              "      <th>22</th>\n",
              "      <td>101</td>\n",
              "      <td>62</td>\n",
              "    </tr>\n",
              "    <tr>\n",
              "      <th>23</th>\n",
              "      <td>188</td>\n",
              "      <td>77</td>\n",
              "    </tr>\n",
              "    <tr>\n",
              "      <th>24</th>\n",
              "      <td>166</td>\n",
              "      <td>72</td>\n",
              "    </tr>\n",
              "    <tr>\n",
              "      <th>25</th>\n",
              "      <td>97</td>\n",
              "      <td>61</td>\n",
              "    </tr>\n",
              "    <tr>\n",
              "      <th>26</th>\n",
              "      <td>106</td>\n",
              "      <td>65</td>\n",
              "    </tr>\n",
              "    <tr>\n",
              "      <th>27</th>\n",
              "      <td>106</td>\n",
              "      <td>60</td>\n",
              "    </tr>\n",
              "  </tbody>\n",
              "</table>\n",
              "</div>"
            ],
            "text/plain": [
              "    Weight  Height\n",
              "0       66      54\n",
              "1      162      72\n",
              "2      204      78\n",
              "3       90      49\n",
              "4       99      65\n",
              "5      106      63\n",
              "6      175      75\n",
              "7      123      67\n",
              "8       68      54\n",
              "9      200      76\n",
              "10     163      68\n",
              "11      95      61\n",
              "12      77      58\n",
              "13     108      70\n",
              "14     155      70\n",
              "15     155      70\n",
              "16     108      63\n",
              "17     106      65\n",
              "18      97      66\n",
              "19      76      61\n",
              "20      99      64\n",
              "21     104      57\n",
              "22     101      62\n",
              "23     188      77\n",
              "24     166      72\n",
              "25      97      61\n",
              "26     106      65\n",
              "27     106      60"
            ]
          },
          "metadata": {
            "tags": []
          },
          "execution_count": 62
        }
      ]
    },
    {
      "cell_type": "markdown",
      "metadata": {
        "id": "SUCX4IvXDzPq"
      },
      "source": [
        "<h3 style=\"color:red\">Q3. Pima Indians Diabetes Dataframe</h3>\n",
        "\n",
        "<span style=\"color:red\">Suppose we want to create a new dataframe `pima2` from the original one but with only the columns</span>\n",
        "\n",
        "\n",
        "\n",
        "1.  Plasma glucose concentration a 2 hours in an oral glucose tolerance test \n",
        "2.  2-Hour serum insulin (mu U/ml) \n",
        "3.  Body mass index (weight in kg/(height in m)^2) \n",
        "4.  Diabetes pedigree function \n",
        "5.  Age\n",
        "6.  Whether they got diabetes or not (0 = no, 1 = yes)\n",
        "\n",
        "\n",
        "<span style=\"color:red\">How would you do so?</span>\n"
      ]
    },
    {
      "cell_type": "code",
      "metadata": {
        "collapsed": true,
        "id": "GbnIuu6gDzPq",
        "colab": {
          "base_uri": "https://localhost:8080/",
          "height": 419
        },
        "outputId": "574ca321-dd40-46d3-d655-7211907f2d5c"
      },
      "source": [
        "df6 = DataFrame(df5[['plasma', 'serum insulin', 'bmi', 'dpf', 'age', 'diabetes']])\r\n",
        "df6"
      ],
      "execution_count": 60,
      "outputs": [
        {
          "output_type": "execute_result",
          "data": {
            "text/html": [
              "<div>\n",
              "<style scoped>\n",
              "    .dataframe tbody tr th:only-of-type {\n",
              "        vertical-align: middle;\n",
              "    }\n",
              "\n",
              "    .dataframe tbody tr th {\n",
              "        vertical-align: top;\n",
              "    }\n",
              "\n",
              "    .dataframe thead th {\n",
              "        text-align: right;\n",
              "    }\n",
              "</style>\n",
              "<table border=\"1\" class=\"dataframe\">\n",
              "  <thead>\n",
              "    <tr style=\"text-align: right;\">\n",
              "      <th></th>\n",
              "      <th>plasma</th>\n",
              "      <th>serum insulin</th>\n",
              "      <th>bmi</th>\n",
              "      <th>dpf</th>\n",
              "      <th>age</th>\n",
              "      <th>diabetes</th>\n",
              "    </tr>\n",
              "  </thead>\n",
              "  <tbody>\n",
              "    <tr>\n",
              "      <th>0</th>\n",
              "      <td>148</td>\n",
              "      <td>0</td>\n",
              "      <td>33.6</td>\n",
              "      <td>0.627</td>\n",
              "      <td>50</td>\n",
              "      <td>1</td>\n",
              "    </tr>\n",
              "    <tr>\n",
              "      <th>1</th>\n",
              "      <td>85</td>\n",
              "      <td>0</td>\n",
              "      <td>26.6</td>\n",
              "      <td>0.351</td>\n",
              "      <td>31</td>\n",
              "      <td>0</td>\n",
              "    </tr>\n",
              "    <tr>\n",
              "      <th>2</th>\n",
              "      <td>183</td>\n",
              "      <td>0</td>\n",
              "      <td>23.3</td>\n",
              "      <td>0.672</td>\n",
              "      <td>32</td>\n",
              "      <td>1</td>\n",
              "    </tr>\n",
              "    <tr>\n",
              "      <th>3</th>\n",
              "      <td>89</td>\n",
              "      <td>94</td>\n",
              "      <td>28.1</td>\n",
              "      <td>0.167</td>\n",
              "      <td>21</td>\n",
              "      <td>0</td>\n",
              "    </tr>\n",
              "    <tr>\n",
              "      <th>4</th>\n",
              "      <td>137</td>\n",
              "      <td>168</td>\n",
              "      <td>43.1</td>\n",
              "      <td>2.288</td>\n",
              "      <td>33</td>\n",
              "      <td>1</td>\n",
              "    </tr>\n",
              "    <tr>\n",
              "      <th>...</th>\n",
              "      <td>...</td>\n",
              "      <td>...</td>\n",
              "      <td>...</td>\n",
              "      <td>...</td>\n",
              "      <td>...</td>\n",
              "      <td>...</td>\n",
              "    </tr>\n",
              "    <tr>\n",
              "      <th>763</th>\n",
              "      <td>101</td>\n",
              "      <td>180</td>\n",
              "      <td>32.9</td>\n",
              "      <td>0.171</td>\n",
              "      <td>63</td>\n",
              "      <td>0</td>\n",
              "    </tr>\n",
              "    <tr>\n",
              "      <th>764</th>\n",
              "      <td>122</td>\n",
              "      <td>0</td>\n",
              "      <td>36.8</td>\n",
              "      <td>0.340</td>\n",
              "      <td>27</td>\n",
              "      <td>0</td>\n",
              "    </tr>\n",
              "    <tr>\n",
              "      <th>765</th>\n",
              "      <td>121</td>\n",
              "      <td>112</td>\n",
              "      <td>26.2</td>\n",
              "      <td>0.245</td>\n",
              "      <td>30</td>\n",
              "      <td>0</td>\n",
              "    </tr>\n",
              "    <tr>\n",
              "      <th>766</th>\n",
              "      <td>126</td>\n",
              "      <td>0</td>\n",
              "      <td>30.1</td>\n",
              "      <td>0.349</td>\n",
              "      <td>47</td>\n",
              "      <td>1</td>\n",
              "    </tr>\n",
              "    <tr>\n",
              "      <th>767</th>\n",
              "      <td>93</td>\n",
              "      <td>0</td>\n",
              "      <td>30.4</td>\n",
              "      <td>0.315</td>\n",
              "      <td>23</td>\n",
              "      <td>0</td>\n",
              "    </tr>\n",
              "  </tbody>\n",
              "</table>\n",
              "<p>768 rows × 6 columns</p>\n",
              "</div>"
            ],
            "text/plain": [
              "     plasma  serum insulin   bmi    dpf  age  diabetes\n",
              "0       148              0  33.6  0.627   50         1\n",
              "1        85              0  26.6  0.351   31         0\n",
              "2       183              0  23.3  0.672   32         1\n",
              "3        89             94  28.1  0.167   21         0\n",
              "4       137            168  43.1  2.288   33         1\n",
              "..      ...            ...   ...    ...  ...       ...\n",
              "763     101            180  32.9  0.171   63         0\n",
              "764     122              0  36.8  0.340   27         0\n",
              "765     121            112  26.2  0.245   30         0\n",
              "766     126              0  30.1  0.349   47         1\n",
              "767      93              0  30.4  0.315   23         0\n",
              "\n",
              "[768 rows x 6 columns]"
            ]
          },
          "metadata": {
            "tags": []
          },
          "execution_count": 60
        }
      ]
    },
    {
      "cell_type": "markdown",
      "metadata": {
        "id": "l8rp7Vb7DzPq"
      },
      "source": [
        "### Returning rows\n",
        "\n",
        "To get a row we can use the `loc` function"
      ]
    },
    {
      "cell_type": "code",
      "metadata": {
        "id": "FNF6BuS0DzPr",
        "outputId": "cc371f5c-ab22-4cec-98ac-53154ada6aa4"
      },
      "source": [
        "athletes.loc[0]"
      ],
      "execution_count": null,
      "outputs": [
        {
          "output_type": "execute_result",
          "data": {
            "text/plain": [
              "Name      Asuka Teramoto\n",
              "Sport         Gymnastics\n",
              "Height                54\n",
              "Weight                66\n",
              "Name: 0, dtype: object"
            ]
          },
          "metadata": {
            "tags": []
          },
          "execution_count": 23
        }
      ]
    },
    {
      "cell_type": "markdown",
      "metadata": {
        "id": "48oP-WZcDzPr"
      },
      "source": [
        "We can also get rows that match a specific criterion. For example:"
      ]
    },
    {
      "cell_type": "code",
      "metadata": {
        "id": "HAv_2lE9DzPr",
        "colab": {
          "base_uri": "https://localhost:8080/",
          "height": 328
        },
        "outputId": "31020195-85a3-4b5c-aae7-ec5947efc15b"
      },
      "source": [
        "basketballPlayers = athletes.loc[athletes['Sport'] == 'Basketball']\n",
        "basketballPlayers"
      ],
      "execution_count": 63,
      "outputs": [
        {
          "output_type": "execute_result",
          "data": {
            "text/html": [
              "<div>\n",
              "<style scoped>\n",
              "    .dataframe tbody tr th:only-of-type {\n",
              "        vertical-align: middle;\n",
              "    }\n",
              "\n",
              "    .dataframe tbody tr th {\n",
              "        vertical-align: top;\n",
              "    }\n",
              "\n",
              "    .dataframe thead th {\n",
              "        text-align: right;\n",
              "    }\n",
              "</style>\n",
              "<table border=\"1\" class=\"dataframe\">\n",
              "  <thead>\n",
              "    <tr style=\"text-align: right;\">\n",
              "      <th></th>\n",
              "      <th>Name</th>\n",
              "      <th>Sport</th>\n",
              "      <th>Height</th>\n",
              "      <th>Weight</th>\n",
              "    </tr>\n",
              "  </thead>\n",
              "  <tbody>\n",
              "    <tr>\n",
              "      <th>1</th>\n",
              "      <td>Brittainey Raven</td>\n",
              "      <td>Basketball</td>\n",
              "      <td>72</td>\n",
              "      <td>162</td>\n",
              "    </tr>\n",
              "    <tr>\n",
              "      <th>2</th>\n",
              "      <td>Chen Nan</td>\n",
              "      <td>Basketball</td>\n",
              "      <td>78</td>\n",
              "      <td>204</td>\n",
              "    </tr>\n",
              "    <tr>\n",
              "      <th>6</th>\n",
              "      <td>Jennifer Lacy</td>\n",
              "      <td>Basketball</td>\n",
              "      <td>75</td>\n",
              "      <td>175</td>\n",
              "    </tr>\n",
              "    <tr>\n",
              "      <th>9</th>\n",
              "      <td>Nakia Sanford</td>\n",
              "      <td>Basketball</td>\n",
              "      <td>76</td>\n",
              "      <td>200</td>\n",
              "    </tr>\n",
              "    <tr>\n",
              "      <th>10</th>\n",
              "      <td>Nikki Blue</td>\n",
              "      <td>Basketball</td>\n",
              "      <td>68</td>\n",
              "      <td>163</td>\n",
              "    </tr>\n",
              "    <tr>\n",
              "      <th>14</th>\n",
              "      <td>Shanna Crossley</td>\n",
              "      <td>Basketball</td>\n",
              "      <td>70</td>\n",
              "      <td>155</td>\n",
              "    </tr>\n",
              "    <tr>\n",
              "      <th>15</th>\n",
              "      <td>Shavonte Zellous</td>\n",
              "      <td>Basketball</td>\n",
              "      <td>70</td>\n",
              "      <td>155</td>\n",
              "    </tr>\n",
              "    <tr>\n",
              "      <th>23</th>\n",
              "      <td>Elena Delle Donne</td>\n",
              "      <td>Basketball</td>\n",
              "      <td>77</td>\n",
              "      <td>188</td>\n",
              "    </tr>\n",
              "    <tr>\n",
              "      <th>24</th>\n",
              "      <td>Seimone Augustus</td>\n",
              "      <td>Basketball</td>\n",
              "      <td>72</td>\n",
              "      <td>166</td>\n",
              "    </tr>\n",
              "  </tbody>\n",
              "</table>\n",
              "</div>"
            ],
            "text/plain": [
              "                 Name       Sport  Height  Weight\n",
              "1    Brittainey Raven  Basketball      72     162\n",
              "2            Chen Nan  Basketball      78     204\n",
              "6       Jennifer Lacy  Basketball      75     175\n",
              "9       Nakia Sanford  Basketball      76     200\n",
              "10         Nikki Blue  Basketball      68     163\n",
              "14    Shanna Crossley  Basketball      70     155\n",
              "15   Shavonte Zellous  Basketball      70     155\n",
              "23  Elena Delle Donne  Basketball      77     188\n",
              "24   Seimone Augustus  Basketball      72     166"
            ]
          },
          "metadata": {
            "tags": []
          },
          "execution_count": 63
        }
      ]
    },
    {
      "cell_type": "code",
      "metadata": {
        "id": "N9TXUn03DzPr",
        "colab": {
          "base_uri": "https://localhost:8080/",
          "height": 173
        },
        "outputId": "e870aa3c-f19b-4812-c93c-558e46e93879"
      },
      "source": [
        "tallBasketballPlayers = athletes.loc[(athletes['Sport'] == 'Basketball') & (athletes['Height'] > 72)]\n",
        "tallBasketballPlayers"
      ],
      "execution_count": 64,
      "outputs": [
        {
          "output_type": "execute_result",
          "data": {
            "text/html": [
              "<div>\n",
              "<style scoped>\n",
              "    .dataframe tbody tr th:only-of-type {\n",
              "        vertical-align: middle;\n",
              "    }\n",
              "\n",
              "    .dataframe tbody tr th {\n",
              "        vertical-align: top;\n",
              "    }\n",
              "\n",
              "    .dataframe thead th {\n",
              "        text-align: right;\n",
              "    }\n",
              "</style>\n",
              "<table border=\"1\" class=\"dataframe\">\n",
              "  <thead>\n",
              "    <tr style=\"text-align: right;\">\n",
              "      <th></th>\n",
              "      <th>Name</th>\n",
              "      <th>Sport</th>\n",
              "      <th>Height</th>\n",
              "      <th>Weight</th>\n",
              "    </tr>\n",
              "  </thead>\n",
              "  <tbody>\n",
              "    <tr>\n",
              "      <th>2</th>\n",
              "      <td>Chen Nan</td>\n",
              "      <td>Basketball</td>\n",
              "      <td>78</td>\n",
              "      <td>204</td>\n",
              "    </tr>\n",
              "    <tr>\n",
              "      <th>6</th>\n",
              "      <td>Jennifer Lacy</td>\n",
              "      <td>Basketball</td>\n",
              "      <td>75</td>\n",
              "      <td>175</td>\n",
              "    </tr>\n",
              "    <tr>\n",
              "      <th>9</th>\n",
              "      <td>Nakia Sanford</td>\n",
              "      <td>Basketball</td>\n",
              "      <td>76</td>\n",
              "      <td>200</td>\n",
              "    </tr>\n",
              "    <tr>\n",
              "      <th>23</th>\n",
              "      <td>Elena Delle Donne</td>\n",
              "      <td>Basketball</td>\n",
              "      <td>77</td>\n",
              "      <td>188</td>\n",
              "    </tr>\n",
              "  </tbody>\n",
              "</table>\n",
              "</div>"
            ],
            "text/plain": [
              "                 Name       Sport  Height  Weight\n",
              "2            Chen Nan  Basketball      78     204\n",
              "6       Jennifer Lacy  Basketball      75     175\n",
              "9       Nakia Sanford  Basketball      76     200\n",
              "23  Elena Delle Donne  Basketball      77     188"
            ]
          },
          "metadata": {
            "tags": []
          },
          "execution_count": 64
        }
      ]
    },
    {
      "cell_type": "markdown",
      "metadata": {
        "id": "8haBwkCIDzPr"
      },
      "source": [
        "<span style=\"color:red\">How would we create a new DataFrame that has all the athletes who weight under 100 pounds?</span>"
      ]
    },
    {
      "cell_type": "code",
      "metadata": {
        "id": "nENL_kJ6DzPr",
        "colab": {
          "base_uri": "https://localhost:8080/",
          "height": 359
        },
        "outputId": "531876c7-ef34-4cae-8eea-7c4787723102"
      },
      "source": [
        "underWeight = DataFrame(athletes.loc[(athletes['Weight'] < 100)])\r\n",
        "underWeight"
      ],
      "execution_count": 66,
      "outputs": [
        {
          "output_type": "execute_result",
          "data": {
            "text/html": [
              "<div>\n",
              "<style scoped>\n",
              "    .dataframe tbody tr th:only-of-type {\n",
              "        vertical-align: middle;\n",
              "    }\n",
              "\n",
              "    .dataframe tbody tr th {\n",
              "        vertical-align: top;\n",
              "    }\n",
              "\n",
              "    .dataframe thead th {\n",
              "        text-align: right;\n",
              "    }\n",
              "</style>\n",
              "<table border=\"1\" class=\"dataframe\">\n",
              "  <thead>\n",
              "    <tr style=\"text-align: right;\">\n",
              "      <th></th>\n",
              "      <th>Name</th>\n",
              "      <th>Sport</th>\n",
              "      <th>Height</th>\n",
              "      <th>Weight</th>\n",
              "    </tr>\n",
              "  </thead>\n",
              "  <tbody>\n",
              "    <tr>\n",
              "      <th>0</th>\n",
              "      <td>Asuka Teramoto</td>\n",
              "      <td>Gymnastics</td>\n",
              "      <td>54</td>\n",
              "      <td>66</td>\n",
              "    </tr>\n",
              "    <tr>\n",
              "      <th>3</th>\n",
              "      <td>Gabby Douglas</td>\n",
              "      <td>Gymnastics</td>\n",
              "      <td>49</td>\n",
              "      <td>90</td>\n",
              "    </tr>\n",
              "    <tr>\n",
              "      <th>4</th>\n",
              "      <td>Helalia Johannes</td>\n",
              "      <td>Track</td>\n",
              "      <td>65</td>\n",
              "      <td>99</td>\n",
              "    </tr>\n",
              "    <tr>\n",
              "      <th>8</th>\n",
              "      <td>Linlin Deng</td>\n",
              "      <td>Gymnastics</td>\n",
              "      <td>54</td>\n",
              "      <td>68</td>\n",
              "    </tr>\n",
              "    <tr>\n",
              "      <th>11</th>\n",
              "      <td>Qiushuang Huang</td>\n",
              "      <td>Gymnastics</td>\n",
              "      <td>61</td>\n",
              "      <td>95</td>\n",
              "    </tr>\n",
              "    <tr>\n",
              "      <th>12</th>\n",
              "      <td>Rebecca Tunney</td>\n",
              "      <td>Gymnastics</td>\n",
              "      <td>58</td>\n",
              "      <td>77</td>\n",
              "    </tr>\n",
              "    <tr>\n",
              "      <th>18</th>\n",
              "      <td>Valeria Straneo</td>\n",
              "      <td>Track</td>\n",
              "      <td>66</td>\n",
              "      <td>97</td>\n",
              "    </tr>\n",
              "    <tr>\n",
              "      <th>19</th>\n",
              "      <td>Viktoria Komova</td>\n",
              "      <td>Gymnastics</td>\n",
              "      <td>61</td>\n",
              "      <td>76</td>\n",
              "    </tr>\n",
              "    <tr>\n",
              "      <th>20</th>\n",
              "      <td>Amy Cragg</td>\n",
              "      <td>Track</td>\n",
              "      <td>64</td>\n",
              "      <td>99</td>\n",
              "    </tr>\n",
              "    <tr>\n",
              "      <th>25</th>\n",
              "      <td>Desiree Linden</td>\n",
              "      <td>Track</td>\n",
              "      <td>61</td>\n",
              "      <td>97</td>\n",
              "    </tr>\n",
              "  </tbody>\n",
              "</table>\n",
              "</div>"
            ],
            "text/plain": [
              "                Name       Sport  Height  Weight\n",
              "0     Asuka Teramoto  Gymnastics      54      66\n",
              "3      Gabby Douglas  Gymnastics      49      90\n",
              "4   Helalia Johannes       Track      65      99\n",
              "8        Linlin Deng  Gymnastics      54      68\n",
              "11   Qiushuang Huang  Gymnastics      61      95\n",
              "12    Rebecca Tunney  Gymnastics      58      77\n",
              "18   Valeria Straneo       Track      66      97\n",
              "19   Viktoria Komova  Gymnastics      61      76\n",
              "20         Amy Cragg       Track      64      99\n",
              "25    Desiree Linden       Track      61      97"
            ]
          },
          "metadata": {
            "tags": []
          },
          "execution_count": 66
        }
      ]
    },
    {
      "cell_type": "markdown",
      "metadata": {
        "id": "4YwZTYuKDzPs"
      },
      "source": [
        "We can add columns to a DataFrame.\n",
        "For example the formula for Body Mass Index is\n",
        "\n",
        "$$BMI = \\frac{weightInPounds}{heightInInches^2} \\times 703 $$"
      ]
    },
    {
      "cell_type": "code",
      "metadata": {
        "id": "iXqR0E2VDzPs"
      },
      "source": [
        "athletes['bmi'] = 703 *athletes['Weight'] / (athletes['Height']**2) "
      ],
      "execution_count": 67,
      "outputs": []
    },
    {
      "cell_type": "code",
      "metadata": {
        "id": "52s-esInDzPs",
        "colab": {
          "base_uri": "https://localhost:8080/",
          "height": 917
        },
        "outputId": "c9fa54f8-de58-4ff8-f9b5-fbb229dfe08d"
      },
      "source": [
        "athletes"
      ],
      "execution_count": 68,
      "outputs": [
        {
          "output_type": "execute_result",
          "data": {
            "text/html": [
              "<div>\n",
              "<style scoped>\n",
              "    .dataframe tbody tr th:only-of-type {\n",
              "        vertical-align: middle;\n",
              "    }\n",
              "\n",
              "    .dataframe tbody tr th {\n",
              "        vertical-align: top;\n",
              "    }\n",
              "\n",
              "    .dataframe thead th {\n",
              "        text-align: right;\n",
              "    }\n",
              "</style>\n",
              "<table border=\"1\" class=\"dataframe\">\n",
              "  <thead>\n",
              "    <tr style=\"text-align: right;\">\n",
              "      <th></th>\n",
              "      <th>Name</th>\n",
              "      <th>Sport</th>\n",
              "      <th>Height</th>\n",
              "      <th>Weight</th>\n",
              "      <th>bmi</th>\n",
              "    </tr>\n",
              "  </thead>\n",
              "  <tbody>\n",
              "    <tr>\n",
              "      <th>0</th>\n",
              "      <td>Asuka Teramoto</td>\n",
              "      <td>Gymnastics</td>\n",
              "      <td>54</td>\n",
              "      <td>66</td>\n",
              "      <td>15.911523</td>\n",
              "    </tr>\n",
              "    <tr>\n",
              "      <th>1</th>\n",
              "      <td>Brittainey Raven</td>\n",
              "      <td>Basketball</td>\n",
              "      <td>72</td>\n",
              "      <td>162</td>\n",
              "      <td>21.968750</td>\n",
              "    </tr>\n",
              "    <tr>\n",
              "      <th>2</th>\n",
              "      <td>Chen Nan</td>\n",
              "      <td>Basketball</td>\n",
              "      <td>78</td>\n",
              "      <td>204</td>\n",
              "      <td>23.571992</td>\n",
              "    </tr>\n",
              "    <tr>\n",
              "      <th>3</th>\n",
              "      <td>Gabby Douglas</td>\n",
              "      <td>Gymnastics</td>\n",
              "      <td>49</td>\n",
              "      <td>90</td>\n",
              "      <td>26.351520</td>\n",
              "    </tr>\n",
              "    <tr>\n",
              "      <th>4</th>\n",
              "      <td>Helalia Johannes</td>\n",
              "      <td>Track</td>\n",
              "      <td>65</td>\n",
              "      <td>99</td>\n",
              "      <td>16.472663</td>\n",
              "    </tr>\n",
              "    <tr>\n",
              "      <th>5</th>\n",
              "      <td>Irina Miketenko</td>\n",
              "      <td>Track</td>\n",
              "      <td>63</td>\n",
              "      <td>106</td>\n",
              "      <td>18.775006</td>\n",
              "    </tr>\n",
              "    <tr>\n",
              "      <th>6</th>\n",
              "      <td>Jennifer Lacy</td>\n",
              "      <td>Basketball</td>\n",
              "      <td>75</td>\n",
              "      <td>175</td>\n",
              "      <td>21.871111</td>\n",
              "    </tr>\n",
              "    <tr>\n",
              "      <th>7</th>\n",
              "      <td>Kara Goucher</td>\n",
              "      <td>Track</td>\n",
              "      <td>67</td>\n",
              "      <td>123</td>\n",
              "      <td>19.262419</td>\n",
              "    </tr>\n",
              "    <tr>\n",
              "      <th>8</th>\n",
              "      <td>Linlin Deng</td>\n",
              "      <td>Gymnastics</td>\n",
              "      <td>54</td>\n",
              "      <td>68</td>\n",
              "      <td>16.393690</td>\n",
              "    </tr>\n",
              "    <tr>\n",
              "      <th>9</th>\n",
              "      <td>Nakia Sanford</td>\n",
              "      <td>Basketball</td>\n",
              "      <td>76</td>\n",
              "      <td>200</td>\n",
              "      <td>24.342105</td>\n",
              "    </tr>\n",
              "    <tr>\n",
              "      <th>10</th>\n",
              "      <td>Nikki Blue</td>\n",
              "      <td>Basketball</td>\n",
              "      <td>68</td>\n",
              "      <td>163</td>\n",
              "      <td>24.781358</td>\n",
              "    </tr>\n",
              "    <tr>\n",
              "      <th>11</th>\n",
              "      <td>Qiushuang Huang</td>\n",
              "      <td>Gymnastics</td>\n",
              "      <td>61</td>\n",
              "      <td>95</td>\n",
              "      <td>17.948132</td>\n",
              "    </tr>\n",
              "    <tr>\n",
              "      <th>12</th>\n",
              "      <td>Rebecca Tunney</td>\n",
              "      <td>Gymnastics</td>\n",
              "      <td>58</td>\n",
              "      <td>77</td>\n",
              "      <td>16.091260</td>\n",
              "    </tr>\n",
              "    <tr>\n",
              "      <th>13</th>\n",
              "      <td>Rene Kalmer</td>\n",
              "      <td>Track</td>\n",
              "      <td>70</td>\n",
              "      <td>108</td>\n",
              "      <td>15.494694</td>\n",
              "    </tr>\n",
              "    <tr>\n",
              "      <th>14</th>\n",
              "      <td>Shanna Crossley</td>\n",
              "      <td>Basketball</td>\n",
              "      <td>70</td>\n",
              "      <td>155</td>\n",
              "      <td>22.237755</td>\n",
              "    </tr>\n",
              "    <tr>\n",
              "      <th>15</th>\n",
              "      <td>Shavonte Zellous</td>\n",
              "      <td>Basketball</td>\n",
              "      <td>70</td>\n",
              "      <td>155</td>\n",
              "      <td>22.237755</td>\n",
              "    </tr>\n",
              "    <tr>\n",
              "      <th>16</th>\n",
              "      <td>Tatyana Petrova</td>\n",
              "      <td>Track</td>\n",
              "      <td>63</td>\n",
              "      <td>108</td>\n",
              "      <td>19.129252</td>\n",
              "    </tr>\n",
              "    <tr>\n",
              "      <th>17</th>\n",
              "      <td>Tiki Gelana</td>\n",
              "      <td>Track</td>\n",
              "      <td>65</td>\n",
              "      <td>106</td>\n",
              "      <td>17.637396</td>\n",
              "    </tr>\n",
              "    <tr>\n",
              "      <th>18</th>\n",
              "      <td>Valeria Straneo</td>\n",
              "      <td>Track</td>\n",
              "      <td>66</td>\n",
              "      <td>97</td>\n",
              "      <td>15.654500</td>\n",
              "    </tr>\n",
              "    <tr>\n",
              "      <th>19</th>\n",
              "      <td>Viktoria Komova</td>\n",
              "      <td>Gymnastics</td>\n",
              "      <td>61</td>\n",
              "      <td>76</td>\n",
              "      <td>14.358506</td>\n",
              "    </tr>\n",
              "    <tr>\n",
              "      <th>20</th>\n",
              "      <td>Amy Cragg</td>\n",
              "      <td>Track</td>\n",
              "      <td>64</td>\n",
              "      <td>99</td>\n",
              "      <td>16.991455</td>\n",
              "    </tr>\n",
              "    <tr>\n",
              "      <th>21</th>\n",
              "      <td>Simone Biles</td>\n",
              "      <td>Gymnastics</td>\n",
              "      <td>57</td>\n",
              "      <td>104</td>\n",
              "      <td>22.502924</td>\n",
              "    </tr>\n",
              "    <tr>\n",
              "      <th>22</th>\n",
              "      <td>Madison Kocian</td>\n",
              "      <td>Gymnastics</td>\n",
              "      <td>62</td>\n",
              "      <td>101</td>\n",
              "      <td>18.471124</td>\n",
              "    </tr>\n",
              "    <tr>\n",
              "      <th>23</th>\n",
              "      <td>Elena Delle Donne</td>\n",
              "      <td>Basketball</td>\n",
              "      <td>77</td>\n",
              "      <td>188</td>\n",
              "      <td>22.291111</td>\n",
              "    </tr>\n",
              "    <tr>\n",
              "      <th>24</th>\n",
              "      <td>Seimone Augustus</td>\n",
              "      <td>Basketball</td>\n",
              "      <td>72</td>\n",
              "      <td>166</td>\n",
              "      <td>22.511188</td>\n",
              "    </tr>\n",
              "    <tr>\n",
              "      <th>25</th>\n",
              "      <td>Desiree Linden</td>\n",
              "      <td>Track</td>\n",
              "      <td>61</td>\n",
              "      <td>97</td>\n",
              "      <td>18.325988</td>\n",
              "    </tr>\n",
              "    <tr>\n",
              "      <th>26</th>\n",
              "      <td>Shalane Flanagan</td>\n",
              "      <td>Track</td>\n",
              "      <td>65</td>\n",
              "      <td>106</td>\n",
              "      <td>17.637396</td>\n",
              "    </tr>\n",
              "    <tr>\n",
              "      <th>27</th>\n",
              "      <td>Laurie Hernandez</td>\n",
              "      <td>Gymnastics</td>\n",
              "      <td>60</td>\n",
              "      <td>106</td>\n",
              "      <td>20.699444</td>\n",
              "    </tr>\n",
              "  </tbody>\n",
              "</table>\n",
              "</div>"
            ],
            "text/plain": [
              "                 Name       Sport  Height  Weight        bmi\n",
              "0      Asuka Teramoto  Gymnastics      54      66  15.911523\n",
              "1    Brittainey Raven  Basketball      72     162  21.968750\n",
              "2            Chen Nan  Basketball      78     204  23.571992\n",
              "3       Gabby Douglas  Gymnastics      49      90  26.351520\n",
              "4    Helalia Johannes       Track      65      99  16.472663\n",
              "5     Irina Miketenko       Track      63     106  18.775006\n",
              "6       Jennifer Lacy  Basketball      75     175  21.871111\n",
              "7        Kara Goucher       Track      67     123  19.262419\n",
              "8         Linlin Deng  Gymnastics      54      68  16.393690\n",
              "9       Nakia Sanford  Basketball      76     200  24.342105\n",
              "10         Nikki Blue  Basketball      68     163  24.781358\n",
              "11    Qiushuang Huang  Gymnastics      61      95  17.948132\n",
              "12     Rebecca Tunney  Gymnastics      58      77  16.091260\n",
              "13        Rene Kalmer       Track      70     108  15.494694\n",
              "14    Shanna Crossley  Basketball      70     155  22.237755\n",
              "15   Shavonte Zellous  Basketball      70     155  22.237755\n",
              "16    Tatyana Petrova       Track      63     108  19.129252\n",
              "17        Tiki Gelana       Track      65     106  17.637396\n",
              "18    Valeria Straneo       Track      66      97  15.654500\n",
              "19    Viktoria Komova  Gymnastics      61      76  14.358506\n",
              "20          Amy Cragg       Track      64      99  16.991455\n",
              "21       Simone Biles  Gymnastics      57     104  22.502924\n",
              "22     Madison Kocian  Gymnastics      62     101  18.471124\n",
              "23  Elena Delle Donne  Basketball      77     188  22.291111\n",
              "24   Seimone Augustus  Basketball      72     166  22.511188\n",
              "25     Desiree Linden       Track      61      97  18.325988\n",
              "26   Shalane Flanagan       Track      65     106  17.637396\n",
              "27   Laurie Hernandez  Gymnastics      60     106  20.699444"
            ]
          },
          "metadata": {
            "tags": []
          },
          "execution_count": 68
        }
      ]
    },
    {
      "cell_type": "markdown",
      "metadata": {
        "id": "uaoSrInaDzPs"
      },
      "source": [
        "## Descriptive Statistics on DataFrames\n",
        "One handy function is `describe`"
      ]
    },
    {
      "cell_type": "code",
      "metadata": {
        "id": "swF2xO05DzPs",
        "colab": {
          "base_uri": "https://localhost:8080/",
          "height": 297
        },
        "outputId": "fa45e494-e72a-4f2c-cff8-97362b322f2d"
      },
      "source": [
        "athletes.describe()"
      ],
      "execution_count": 69,
      "outputs": [
        {
          "output_type": "execute_result",
          "data": {
            "text/html": [
              "<div>\n",
              "<style scoped>\n",
              "    .dataframe tbody tr th:only-of-type {\n",
              "        vertical-align: middle;\n",
              "    }\n",
              "\n",
              "    .dataframe tbody tr th {\n",
              "        vertical-align: top;\n",
              "    }\n",
              "\n",
              "    .dataframe thead th {\n",
              "        text-align: right;\n",
              "    }\n",
              "</style>\n",
              "<table border=\"1\" class=\"dataframe\">\n",
              "  <thead>\n",
              "    <tr style=\"text-align: right;\">\n",
              "      <th></th>\n",
              "      <th>Height</th>\n",
              "      <th>Weight</th>\n",
              "      <th>bmi</th>\n",
              "    </tr>\n",
              "  </thead>\n",
              "  <tbody>\n",
              "    <tr>\n",
              "      <th>count</th>\n",
              "      <td>28.000000</td>\n",
              "      <td>28.000000</td>\n",
              "      <td>28.000000</td>\n",
              "    </tr>\n",
              "    <tr>\n",
              "      <th>mean</th>\n",
              "      <td>65.107143</td>\n",
              "      <td>121.428571</td>\n",
              "      <td>19.640072</td>\n",
              "    </tr>\n",
              "    <tr>\n",
              "      <th>std</th>\n",
              "      <td>7.258912</td>\n",
              "      <td>40.274455</td>\n",
              "      <td>3.264325</td>\n",
              "    </tr>\n",
              "    <tr>\n",
              "      <th>min</th>\n",
              "      <td>49.000000</td>\n",
              "      <td>66.000000</td>\n",
              "      <td>14.358506</td>\n",
              "    </tr>\n",
              "    <tr>\n",
              "      <th>25%</th>\n",
              "      <td>61.000000</td>\n",
              "      <td>97.000000</td>\n",
              "      <td>16.861757</td>\n",
              "    </tr>\n",
              "    <tr>\n",
              "      <th>50%</th>\n",
              "      <td>65.000000</td>\n",
              "      <td>106.000000</td>\n",
              "      <td>18.952129</td>\n",
              "    </tr>\n",
              "    <tr>\n",
              "      <th>75%</th>\n",
              "      <td>70.000000</td>\n",
              "      <td>156.750000</td>\n",
              "      <td>22.251094</td>\n",
              "    </tr>\n",
              "    <tr>\n",
              "      <th>max</th>\n",
              "      <td>78.000000</td>\n",
              "      <td>204.000000</td>\n",
              "      <td>26.351520</td>\n",
              "    </tr>\n",
              "  </tbody>\n",
              "</table>\n",
              "</div>"
            ],
            "text/plain": [
              "          Height      Weight        bmi\n",
              "count  28.000000   28.000000  28.000000\n",
              "mean   65.107143  121.428571  19.640072\n",
              "std     7.258912   40.274455   3.264325\n",
              "min    49.000000   66.000000  14.358506\n",
              "25%    61.000000   97.000000  16.861757\n",
              "50%    65.000000  106.000000  18.952129\n",
              "75%    70.000000  156.750000  22.251094\n",
              "max    78.000000  204.000000  26.351520"
            ]
          },
          "metadata": {
            "tags": []
          },
          "execution_count": 69
        }
      ]
    },
    {
      "cell_type": "markdown",
      "metadata": {
        "id": "MHhuvaD7DzPs"
      },
      "source": [
        "Alternatively, I could ask for a specific statistic:\n"
      ]
    },
    {
      "cell_type": "code",
      "metadata": {
        "id": "_47OvQX-DzPt",
        "colab": {
          "base_uri": "https://localhost:8080/"
        },
        "outputId": "1f7186ed-25e7-4aee-de00-4caa839c71c9"
      },
      "source": [
        "athletes['Weight'].mean()"
      ],
      "execution_count": 70,
      "outputs": [
        {
          "output_type": "execute_result",
          "data": {
            "text/plain": [
              "121.42857142857143"
            ]
          },
          "metadata": {
            "tags": []
          },
          "execution_count": 70
        }
      ]
    },
    {
      "cell_type": "code",
      "metadata": {
        "id": "kYq9Fi-MDzPt",
        "colab": {
          "base_uri": "https://localhost:8080/"
        },
        "outputId": "fc3c87ce-d7c4-44e8-9081-a984debf493c"
      },
      "source": [
        "athletes.loc[athletes['Sport'] == 'Gymnastics' ]['Weight'].mean()"
      ],
      "execution_count": 71,
      "outputs": [
        {
          "output_type": "execute_result",
          "data": {
            "text/plain": [
              "87.0"
            ]
          },
          "metadata": {
            "tags": []
          },
          "execution_count": 71
        }
      ]
    },
    {
      "cell_type": "code",
      "metadata": {
        "id": "tf8UJDCxDzPt",
        "colab": {
          "base_uri": "https://localhost:8080/"
        },
        "outputId": "c1cc76a5-ca32-4eb9-92d9-4df2c7cbaacd"
      },
      "source": [
        "athletes.loc[athletes['Sport'] == 'Basketball' ]['Weight'].mean()"
      ],
      "execution_count": 72,
      "outputs": [
        {
          "output_type": "execute_result",
          "data": {
            "text/plain": [
              "174.22222222222223"
            ]
          },
          "metadata": {
            "tags": []
          },
          "execution_count": 72
        }
      ]
    },
    {
      "cell_type": "markdown",
      "metadata": {
        "id": "wWHQuBm0DzPt"
      },
      "source": [
        "<h3 style=\"color:red\">Q4. Pima Indians</h3>\n",
        "<span style=\"color:red\">I would like to fill out this little table:</span>\n",
        "\n",
        "  x | Avg. BMI | Avg. Diabetes Pedigree | Avg. times pregnant | Avg. Plasma glucose |\n",
        "---   | :---: | :---: | :---: | :---: |\n",
        "Has Diabetes |   | |  |\n",
        "Doesn't have Diabetes |   | |  |\n",
        "\n",
        "<span style=\"color:red\">Can you get this information (where 'Avg' refers to the mean)? So, for example, the first cell is the average Body Mass Index of people who have diabetes.</span> You don't need to write code to generate a table, I just want to see the values that would be put in such a table.\n"
      ]
    },
    {
      "cell_type": "code",
      "metadata": {
        "collapsed": true,
        "id": "41nOIURBDzPt",
        "colab": {
          "base_uri": "https://localhost:8080/"
        },
        "outputId": "535194a9-a4f7-42e8-9f6a-e9c301c9efa5"
      },
      "source": [
        "print(prima.loc[prima['diabetes'] == 1] ['bmi'].mean())\r\n",
        "print(prima.loc[prima['diabetes'] == 0] ['bmi'].mean())\r\n",
        "print(prima.loc[prima['diabetes'] == 1] ['dpf'].mean())\r\n",
        "print(prima.loc[prima['diabetes'] == 0] ['dpf'].mean())\r\n",
        "print(prima.loc[prima['diabetes'] == 1] ['pregnant'].mean())\r\n",
        "print(prima.loc[prima['diabetes'] == 0] ['pregnant'].mean())\r\n",
        "print(prima.loc[prima['diabetes'] == 1] ['plasma'].mean())\r\n",
        "print(prima.loc[prima['diabetes'] == 0] ['plasma'].mean())"
      ],
      "execution_count": 84,
      "outputs": [
        {
          "output_type": "stream",
          "text": [
            "35.14253731343278\n",
            "30.30419999999996\n",
            "0.5505\n",
            "0.42973400000000017\n",
            "4.865671641791045\n",
            "3.298\n",
            "141.25746268656715\n",
            "109.98\n"
          ],
          "name": "stdout"
        }
      ]
    },
    {
      "cell_type": "markdown",
      "metadata": {
        "id": "Q8BK_R4SDzPu"
      },
      "source": [
        "### Music Ratings\n",
        "\n",
        "Suppose I have customers of my vinyl record shop rate different artists\n",
        "\n",
        "|Customer | Taylor Swift | Miranda Lambert | Carrie Underwood | Nicki Minaj | Ariana Grande |\n",
        "|:-----------|:------:|:------:|:---------:|:------:|:--------:|\n",
        "|Jake|5|-|5|2|2|\n",
        "|Clara|2|-|-|4|5|\n",
        "|Kelsey|5|5|5|2|-|\n",
        "|Angelica|2|3|-|5|5|\n",
        "|Jordyn|2|1|-|5|-|\n",
        "\n",
        "<h3 style=\"color:red\">Q4. Ratings</h3>\n",
        "<span style=\"color:red\">Create a dataframe called `ratings` from the CSV file</span>\n",
        "\n",
        "    https://raw.githubusercontent.com/zacharski/ml-class/master/data/ratings.csv"
      ]
    },
    {
      "cell_type": "code",
      "metadata": {
        "id": "qF-z4DuoDzPu",
        "colab": {
          "base_uri": "https://localhost:8080/",
          "height": 204
        },
        "outputId": "06c0ed54-bf65-410d-e441-8e07f3f43f96"
      },
      "source": [
        "# your code here\n",
        "ratings = pd.read_csv('https://raw.githubusercontent.com/zacharski/ml-class/master/data/ratings.csv')\n",
        "ratings"
      ],
      "execution_count": 86,
      "outputs": [
        {
          "output_type": "execute_result",
          "data": {
            "text/html": [
              "<div>\n",
              "<style scoped>\n",
              "    .dataframe tbody tr th:only-of-type {\n",
              "        vertical-align: middle;\n",
              "    }\n",
              "\n",
              "    .dataframe tbody tr th {\n",
              "        vertical-align: top;\n",
              "    }\n",
              "\n",
              "    .dataframe thead th {\n",
              "        text-align: right;\n",
              "    }\n",
              "</style>\n",
              "<table border=\"1\" class=\"dataframe\">\n",
              "  <thead>\n",
              "    <tr style=\"text-align: right;\">\n",
              "      <th></th>\n",
              "      <th>Customer</th>\n",
              "      <th>Taylor Swift</th>\n",
              "      <th>Miranda Lambert</th>\n",
              "      <th>Carrie Underwood</th>\n",
              "      <th>Nicki Minaj</th>\n",
              "      <th>Ariana Grande</th>\n",
              "    </tr>\n",
              "  </thead>\n",
              "  <tbody>\n",
              "    <tr>\n",
              "      <th>0</th>\n",
              "      <td>Jake</td>\n",
              "      <td>5</td>\n",
              "      <td>NaN</td>\n",
              "      <td>5.0</td>\n",
              "      <td>2</td>\n",
              "      <td>2.0</td>\n",
              "    </tr>\n",
              "    <tr>\n",
              "      <th>1</th>\n",
              "      <td>Clara</td>\n",
              "      <td>2</td>\n",
              "      <td>NaN</td>\n",
              "      <td>NaN</td>\n",
              "      <td>4</td>\n",
              "      <td>5.0</td>\n",
              "    </tr>\n",
              "    <tr>\n",
              "      <th>2</th>\n",
              "      <td>Kelsey</td>\n",
              "      <td>5</td>\n",
              "      <td>5.0</td>\n",
              "      <td>5.0</td>\n",
              "      <td>2</td>\n",
              "      <td>NaN</td>\n",
              "    </tr>\n",
              "    <tr>\n",
              "      <th>3</th>\n",
              "      <td>Angelica</td>\n",
              "      <td>2</td>\n",
              "      <td>3.0</td>\n",
              "      <td>NaN</td>\n",
              "      <td>5</td>\n",
              "      <td>5.0</td>\n",
              "    </tr>\n",
              "    <tr>\n",
              "      <th>4</th>\n",
              "      <td>Jordyn</td>\n",
              "      <td>2</td>\n",
              "      <td>1.0</td>\n",
              "      <td>NaN</td>\n",
              "      <td>5</td>\n",
              "      <td>NaN</td>\n",
              "    </tr>\n",
              "  </tbody>\n",
              "</table>\n",
              "</div>"
            ],
            "text/plain": [
              "   Customer  Taylor Swift  ...  Nicki Minaj  Ariana Grande\n",
              "0      Jake             5  ...            2            2.0\n",
              "1     Clara             2  ...            4            5.0\n",
              "2    Kelsey             5  ...            2            NaN\n",
              "3  Angelica             2  ...            5            5.0\n",
              "4    Jordyn             2  ...            5            NaN\n",
              "\n",
              "[5 rows x 6 columns]"
            ]
          },
          "metadata": {
            "tags": []
          },
          "execution_count": 86
        }
      ]
    },
    {
      "cell_type": "markdown",
      "metadata": {
        "id": "fUNRQHTKDzPu"
      },
      "source": [
        "We can get the mean rating of each artist by:\n"
      ]
    },
    {
      "cell_type": "code",
      "metadata": {
        "id": "i-cfFLHXDzPu",
        "colab": {
          "base_uri": "https://localhost:8080/"
        },
        "outputId": "13657318-0d34-45c4-d16d-a84bb0243e49"
      },
      "source": [
        "ratings.mean()"
      ],
      "execution_count": 87,
      "outputs": [
        {
          "output_type": "execute_result",
          "data": {
            "text/plain": [
              "Taylor Swift        3.2\n",
              "Miranda Lambert     3.0\n",
              "Carrie Underwood    5.0\n",
              "Nicki Minaj         3.6\n",
              "Ariana Grande       4.0\n",
              "dtype: float64"
            ]
          },
          "metadata": {
            "tags": []
          },
          "execution_count": 87
        }
      ]
    },
    {
      "cell_type": "markdown",
      "metadata": {
        "id": "oXZSf3WrDzPu"
      },
      "source": [
        "Many descriptive statistics functions take an optional parameter `axis` that tells which axis to reduce over. If we want the mean ratings for each **customer** instead of each artist we can do:"
      ]
    },
    {
      "cell_type": "code",
      "metadata": {
        "id": "AfaJGTMJDzPu",
        "colab": {
          "base_uri": "https://localhost:8080/"
        },
        "outputId": "9a2b74a7-598f-40c6-c4aa-d60ae8de7dc6"
      },
      "source": [
        "ratings.mean(axis=1)"
      ],
      "execution_count": 88,
      "outputs": [
        {
          "output_type": "execute_result",
          "data": {
            "text/plain": [
              "0    3.500000\n",
              "1    3.666667\n",
              "2    4.250000\n",
              "3    3.750000\n",
              "4    2.666667\n",
              "dtype: float64"
            ]
          },
          "metadata": {
            "tags": []
          },
          "execution_count": 88
        }
      ]
    },
    {
      "cell_type": "markdown",
      "metadata": {
        "id": "CfrbUfjbDzPv"
      },
      "source": [
        "Well, that was sort of unhelpful. We know that person 2 has a mean of 4.25, but it would be nice to use names as the indices for the rows instead of numbers. So right now we have the rows labeled 0, 1, 2, 3 ... but we would like them labeled *Jake, Clara, Kelsey*   We can do so by creating a new dataframe:"
      ]
    },
    {
      "cell_type": "code",
      "metadata": {
        "id": "I-WieQxLDzPv",
        "colab": {
          "base_uri": "https://localhost:8080/"
        },
        "outputId": "12058e9b-6377-40ca-fd94-cb5492e924b6"
      },
      "source": [
        "ratings2 = ratings.set_index('Customer')\n",
        "ratings2.mean(axis=1)"
      ],
      "execution_count": 89,
      "outputs": [
        {
          "output_type": "execute_result",
          "data": {
            "text/plain": [
              "Customer\n",
              "Jake        3.500000\n",
              "Clara       3.666667\n",
              "Kelsey      4.250000\n",
              "Angelica    3.750000\n",
              "Jordyn      2.666667\n",
              "dtype: float64"
            ]
          },
          "metadata": {
            "tags": []
          },
          "execution_count": 89
        }
      ]
    },
    {
      "cell_type": "markdown",
      "metadata": {
        "id": "HKBbsHwnDzPv"
      },
      "source": [
        "*Note that while this looks like it erroneously creates an additional row called Customer, that is just the way the table is displayed*\n",
        "\n",
        "Sweet! So `axis=1` means reduce by rows and `axis=0` means reduce by columns:"
      ]
    },
    {
      "cell_type": "code",
      "metadata": {
        "id": "_VsgUHoIDzPv",
        "colab": {
          "base_uri": "https://localhost:8080/"
        },
        "outputId": "f17e1f73-07cd-45d3-d1a2-22b86b56f9b5"
      },
      "source": [
        "ratings2.mean(axis=0)"
      ],
      "execution_count": 90,
      "outputs": [
        {
          "output_type": "execute_result",
          "data": {
            "text/plain": [
              "Taylor Swift        3.2\n",
              "Miranda Lambert     3.0\n",
              "Carrie Underwood    5.0\n",
              "Nicki Minaj         3.6\n",
              "Ariana Grande       4.0\n",
              "dtype: float64"
            ]
          },
          "metadata": {
            "tags": []
          },
          "execution_count": 90
        }
      ]
    },
    {
      "cell_type": "markdown",
      "metadata": {
        "id": "tDqSluJ5DzPw"
      },
      "source": [
        "## list of descriptive statistics\n",
        "(from the book *Python for Data Analysis*)\n",
        "\n",
        "Method | Description\n",
        ":-- | :--\n",
        "`count` | Number of non-NaN values\n",
        "`describe` | A set of common summary statistics\n",
        "`min, max` | compute minimum and maximum values\n",
        "`argmin, argmax` | compute index locations of minimum and maximum values\n",
        "`sum` | Sum the values\n",
        "`mean` | Mean of values\n",
        "`median` | Median of values\n",
        "`std` | Sample standard deviation\n",
        "\n",
        "So, for example, the lowest rating for each artist:\n"
      ]
    },
    {
      "cell_type": "code",
      "metadata": {
        "id": "cHNERt8BDzPw",
        "colab": {
          "base_uri": "https://localhost:8080/"
        },
        "outputId": "acac7032-5ec8-4bec-cd5f-1d1d3ff8c663"
      },
      "source": [
        "ratings2.min()"
      ],
      "execution_count": 91,
      "outputs": [
        {
          "output_type": "execute_result",
          "data": {
            "text/plain": [
              "Taylor Swift        2.0\n",
              "Miranda Lambert     1.0\n",
              "Carrie Underwood    5.0\n",
              "Nicki Minaj         2.0\n",
              "Ariana Grande       2.0\n",
              "dtype: float64"
            ]
          },
          "metadata": {
            "tags": []
          },
          "execution_count": 91
        }
      ]
    },
    {
      "cell_type": "markdown",
      "metadata": {
        "id": "McuSCh68DzPw"
      },
      "source": [
        "<h3 style=\"color:red\">Q5. Ratings 2</h3>\n",
        "<span style=\"color:red\">What are the median ratings for each customer?</span>"
      ]
    },
    {
      "cell_type": "code",
      "metadata": {
        "collapsed": true,
        "id": "0bYWXlobDzPw",
        "colab": {
          "base_uri": "https://localhost:8080/"
        },
        "outputId": "40a821ca-ad9f-44ac-a268-be306375a3b4"
      },
      "source": [
        "ratings2.median(axis=1)"
      ],
      "execution_count": 92,
      "outputs": [
        {
          "output_type": "execute_result",
          "data": {
            "text/plain": [
              "Customer\n",
              "Jake        3.5\n",
              "Clara       4.0\n",
              "Kelsey      5.0\n",
              "Angelica    4.0\n",
              "Jordyn      2.0\n",
              "dtype: float64"
            ]
          },
          "metadata": {
            "tags": []
          },
          "execution_count": 92
        }
      ]
    },
    {
      "cell_type": "markdown",
      "metadata": {
        "id": "v8wYNLbhDzPw"
      },
      "source": [
        "## sorting\n",
        "To sort by the index we can use the `sort_index` method"
      ]
    },
    {
      "cell_type": "code",
      "metadata": {
        "id": "jiKFOvX7DzPw",
        "colab": {
          "base_uri": "https://localhost:8080/",
          "height": 948
        },
        "outputId": "03810a9a-ed72-4521-f1e4-2d3b381f42e5"
      },
      "source": [
        "athlete = pd.read_csv('https://raw.githubusercontent.com/zacharski/ml-class/master/data/athletesNoHeader.csv', names=['Name', 'Sport', 'Height', 'Weight'])\n",
        "a = athlete.set_index('Name')\n",
        "a.sort_index()"
      ],
      "execution_count": 93,
      "outputs": [
        {
          "output_type": "execute_result",
          "data": {
            "text/html": [
              "<div>\n",
              "<style scoped>\n",
              "    .dataframe tbody tr th:only-of-type {\n",
              "        vertical-align: middle;\n",
              "    }\n",
              "\n",
              "    .dataframe tbody tr th {\n",
              "        vertical-align: top;\n",
              "    }\n",
              "\n",
              "    .dataframe thead th {\n",
              "        text-align: right;\n",
              "    }\n",
              "</style>\n",
              "<table border=\"1\" class=\"dataframe\">\n",
              "  <thead>\n",
              "    <tr style=\"text-align: right;\">\n",
              "      <th></th>\n",
              "      <th>Sport</th>\n",
              "      <th>Height</th>\n",
              "      <th>Weight</th>\n",
              "    </tr>\n",
              "    <tr>\n",
              "      <th>Name</th>\n",
              "      <th></th>\n",
              "      <th></th>\n",
              "      <th></th>\n",
              "    </tr>\n",
              "  </thead>\n",
              "  <tbody>\n",
              "    <tr>\n",
              "      <th>Amy Cragg</th>\n",
              "      <td>Track</td>\n",
              "      <td>64</td>\n",
              "      <td>99</td>\n",
              "    </tr>\n",
              "    <tr>\n",
              "      <th>Asuka Teramoto</th>\n",
              "      <td>Gymnastics</td>\n",
              "      <td>54</td>\n",
              "      <td>66</td>\n",
              "    </tr>\n",
              "    <tr>\n",
              "      <th>Brittainey Raven</th>\n",
              "      <td>Basketball</td>\n",
              "      <td>72</td>\n",
              "      <td>162</td>\n",
              "    </tr>\n",
              "    <tr>\n",
              "      <th>Chen Nan</th>\n",
              "      <td>Basketball</td>\n",
              "      <td>78</td>\n",
              "      <td>204</td>\n",
              "    </tr>\n",
              "    <tr>\n",
              "      <th>Desiree Linden</th>\n",
              "      <td>Track</td>\n",
              "      <td>61</td>\n",
              "      <td>97</td>\n",
              "    </tr>\n",
              "    <tr>\n",
              "      <th>Elena Delle Donne</th>\n",
              "      <td>Basketball</td>\n",
              "      <td>77</td>\n",
              "      <td>188</td>\n",
              "    </tr>\n",
              "    <tr>\n",
              "      <th>Gabby Douglas</th>\n",
              "      <td>Gymnastics</td>\n",
              "      <td>49</td>\n",
              "      <td>90</td>\n",
              "    </tr>\n",
              "    <tr>\n",
              "      <th>Helalia Johannes</th>\n",
              "      <td>Track</td>\n",
              "      <td>65</td>\n",
              "      <td>99</td>\n",
              "    </tr>\n",
              "    <tr>\n",
              "      <th>Irina Miketenko</th>\n",
              "      <td>Track</td>\n",
              "      <td>63</td>\n",
              "      <td>106</td>\n",
              "    </tr>\n",
              "    <tr>\n",
              "      <th>Jennifer Lacy</th>\n",
              "      <td>Basketball</td>\n",
              "      <td>75</td>\n",
              "      <td>175</td>\n",
              "    </tr>\n",
              "    <tr>\n",
              "      <th>Kara Goucher</th>\n",
              "      <td>Track</td>\n",
              "      <td>67</td>\n",
              "      <td>123</td>\n",
              "    </tr>\n",
              "    <tr>\n",
              "      <th>Laurie Hernandez</th>\n",
              "      <td>Gymnastics</td>\n",
              "      <td>60</td>\n",
              "      <td>106</td>\n",
              "    </tr>\n",
              "    <tr>\n",
              "      <th>Linlin Deng</th>\n",
              "      <td>Gymnastics</td>\n",
              "      <td>54</td>\n",
              "      <td>68</td>\n",
              "    </tr>\n",
              "    <tr>\n",
              "      <th>Madison Kocian</th>\n",
              "      <td>Gymnastics</td>\n",
              "      <td>62</td>\n",
              "      <td>101</td>\n",
              "    </tr>\n",
              "    <tr>\n",
              "      <th>Nakia Sanford</th>\n",
              "      <td>Basketball</td>\n",
              "      <td>76</td>\n",
              "      <td>200</td>\n",
              "    </tr>\n",
              "    <tr>\n",
              "      <th>Nikki Blue</th>\n",
              "      <td>Basketball</td>\n",
              "      <td>68</td>\n",
              "      <td>163</td>\n",
              "    </tr>\n",
              "    <tr>\n",
              "      <th>Qiushuang Huang</th>\n",
              "      <td>Gymnastics</td>\n",
              "      <td>61</td>\n",
              "      <td>95</td>\n",
              "    </tr>\n",
              "    <tr>\n",
              "      <th>Rebecca Tunney</th>\n",
              "      <td>Gymnastics</td>\n",
              "      <td>58</td>\n",
              "      <td>77</td>\n",
              "    </tr>\n",
              "    <tr>\n",
              "      <th>Rene Kalmer</th>\n",
              "      <td>Track</td>\n",
              "      <td>70</td>\n",
              "      <td>108</td>\n",
              "    </tr>\n",
              "    <tr>\n",
              "      <th>Seimone Augustus</th>\n",
              "      <td>Basketball</td>\n",
              "      <td>72</td>\n",
              "      <td>166</td>\n",
              "    </tr>\n",
              "    <tr>\n",
              "      <th>Shalane Flanagan</th>\n",
              "      <td>Track</td>\n",
              "      <td>65</td>\n",
              "      <td>106</td>\n",
              "    </tr>\n",
              "    <tr>\n",
              "      <th>Shanna Crossley</th>\n",
              "      <td>Basketball</td>\n",
              "      <td>70</td>\n",
              "      <td>155</td>\n",
              "    </tr>\n",
              "    <tr>\n",
              "      <th>Shavonte Zellous</th>\n",
              "      <td>Basketball</td>\n",
              "      <td>70</td>\n",
              "      <td>155</td>\n",
              "    </tr>\n",
              "    <tr>\n",
              "      <th>Simone Biles</th>\n",
              "      <td>Gymnastics</td>\n",
              "      <td>57</td>\n",
              "      <td>104</td>\n",
              "    </tr>\n",
              "    <tr>\n",
              "      <th>Tatyana Petrova</th>\n",
              "      <td>Track</td>\n",
              "      <td>63</td>\n",
              "      <td>108</td>\n",
              "    </tr>\n",
              "    <tr>\n",
              "      <th>Tiki Gelana</th>\n",
              "      <td>Track</td>\n",
              "      <td>65</td>\n",
              "      <td>106</td>\n",
              "    </tr>\n",
              "    <tr>\n",
              "      <th>Valeria Straneo</th>\n",
              "      <td>Track</td>\n",
              "      <td>66</td>\n",
              "      <td>97</td>\n",
              "    </tr>\n",
              "    <tr>\n",
              "      <th>Viktoria Komova</th>\n",
              "      <td>Gymnastics</td>\n",
              "      <td>61</td>\n",
              "      <td>76</td>\n",
              "    </tr>\n",
              "  </tbody>\n",
              "</table>\n",
              "</div>"
            ],
            "text/plain": [
              "                        Sport  Height  Weight\n",
              "Name                                         \n",
              "Amy Cragg               Track      64      99\n",
              "Asuka Teramoto     Gymnastics      54      66\n",
              "Brittainey Raven   Basketball      72     162\n",
              "Chen Nan           Basketball      78     204\n",
              "Desiree Linden          Track      61      97\n",
              "Elena Delle Donne  Basketball      77     188\n",
              "Gabby Douglas      Gymnastics      49      90\n",
              "Helalia Johannes        Track      65      99\n",
              "Irina Miketenko         Track      63     106\n",
              "Jennifer Lacy      Basketball      75     175\n",
              "Kara Goucher            Track      67     123\n",
              "Laurie Hernandez   Gymnastics      60     106\n",
              "Linlin Deng        Gymnastics      54      68\n",
              "Madison Kocian     Gymnastics      62     101\n",
              "Nakia Sanford      Basketball      76     200\n",
              "Nikki Blue         Basketball      68     163\n",
              "Qiushuang Huang    Gymnastics      61      95\n",
              "Rebecca Tunney     Gymnastics      58      77\n",
              "Rene Kalmer             Track      70     108\n",
              "Seimone Augustus   Basketball      72     166\n",
              "Shalane Flanagan        Track      65     106\n",
              "Shanna Crossley    Basketball      70     155\n",
              "Shavonte Zellous   Basketball      70     155\n",
              "Simone Biles       Gymnastics      57     104\n",
              "Tatyana Petrova         Track      63     108\n",
              "Tiki Gelana             Track      65     106\n",
              "Valeria Straneo         Track      66      97\n",
              "Viktoria Komova    Gymnastics      61      76"
            ]
          },
          "metadata": {
            "tags": []
          },
          "execution_count": 93
        }
      ]
    },
    {
      "cell_type": "markdown",
      "metadata": {
        "id": "rdYXlPmSDzPx"
      },
      "source": [
        "We can sort in reverse by"
      ]
    },
    {
      "cell_type": "code",
      "metadata": {
        "id": "JcOCGc07DzPx",
        "colab": {
          "base_uri": "https://localhost:8080/",
          "height": 948
        },
        "outputId": "69ebac0c-4fe1-42c5-a2f1-97afeb6fbba8"
      },
      "source": [
        "a.sort_index(ascending=False)"
      ],
      "execution_count": 94,
      "outputs": [
        {
          "output_type": "execute_result",
          "data": {
            "text/html": [
              "<div>\n",
              "<style scoped>\n",
              "    .dataframe tbody tr th:only-of-type {\n",
              "        vertical-align: middle;\n",
              "    }\n",
              "\n",
              "    .dataframe tbody tr th {\n",
              "        vertical-align: top;\n",
              "    }\n",
              "\n",
              "    .dataframe thead th {\n",
              "        text-align: right;\n",
              "    }\n",
              "</style>\n",
              "<table border=\"1\" class=\"dataframe\">\n",
              "  <thead>\n",
              "    <tr style=\"text-align: right;\">\n",
              "      <th></th>\n",
              "      <th>Sport</th>\n",
              "      <th>Height</th>\n",
              "      <th>Weight</th>\n",
              "    </tr>\n",
              "    <tr>\n",
              "      <th>Name</th>\n",
              "      <th></th>\n",
              "      <th></th>\n",
              "      <th></th>\n",
              "    </tr>\n",
              "  </thead>\n",
              "  <tbody>\n",
              "    <tr>\n",
              "      <th>Viktoria Komova</th>\n",
              "      <td>Gymnastics</td>\n",
              "      <td>61</td>\n",
              "      <td>76</td>\n",
              "    </tr>\n",
              "    <tr>\n",
              "      <th>Valeria Straneo</th>\n",
              "      <td>Track</td>\n",
              "      <td>66</td>\n",
              "      <td>97</td>\n",
              "    </tr>\n",
              "    <tr>\n",
              "      <th>Tiki Gelana</th>\n",
              "      <td>Track</td>\n",
              "      <td>65</td>\n",
              "      <td>106</td>\n",
              "    </tr>\n",
              "    <tr>\n",
              "      <th>Tatyana Petrova</th>\n",
              "      <td>Track</td>\n",
              "      <td>63</td>\n",
              "      <td>108</td>\n",
              "    </tr>\n",
              "    <tr>\n",
              "      <th>Simone Biles</th>\n",
              "      <td>Gymnastics</td>\n",
              "      <td>57</td>\n",
              "      <td>104</td>\n",
              "    </tr>\n",
              "    <tr>\n",
              "      <th>Shavonte Zellous</th>\n",
              "      <td>Basketball</td>\n",
              "      <td>70</td>\n",
              "      <td>155</td>\n",
              "    </tr>\n",
              "    <tr>\n",
              "      <th>Shanna Crossley</th>\n",
              "      <td>Basketball</td>\n",
              "      <td>70</td>\n",
              "      <td>155</td>\n",
              "    </tr>\n",
              "    <tr>\n",
              "      <th>Shalane Flanagan</th>\n",
              "      <td>Track</td>\n",
              "      <td>65</td>\n",
              "      <td>106</td>\n",
              "    </tr>\n",
              "    <tr>\n",
              "      <th>Seimone Augustus</th>\n",
              "      <td>Basketball</td>\n",
              "      <td>72</td>\n",
              "      <td>166</td>\n",
              "    </tr>\n",
              "    <tr>\n",
              "      <th>Rene Kalmer</th>\n",
              "      <td>Track</td>\n",
              "      <td>70</td>\n",
              "      <td>108</td>\n",
              "    </tr>\n",
              "    <tr>\n",
              "      <th>Rebecca Tunney</th>\n",
              "      <td>Gymnastics</td>\n",
              "      <td>58</td>\n",
              "      <td>77</td>\n",
              "    </tr>\n",
              "    <tr>\n",
              "      <th>Qiushuang Huang</th>\n",
              "      <td>Gymnastics</td>\n",
              "      <td>61</td>\n",
              "      <td>95</td>\n",
              "    </tr>\n",
              "    <tr>\n",
              "      <th>Nikki Blue</th>\n",
              "      <td>Basketball</td>\n",
              "      <td>68</td>\n",
              "      <td>163</td>\n",
              "    </tr>\n",
              "    <tr>\n",
              "      <th>Nakia Sanford</th>\n",
              "      <td>Basketball</td>\n",
              "      <td>76</td>\n",
              "      <td>200</td>\n",
              "    </tr>\n",
              "    <tr>\n",
              "      <th>Madison Kocian</th>\n",
              "      <td>Gymnastics</td>\n",
              "      <td>62</td>\n",
              "      <td>101</td>\n",
              "    </tr>\n",
              "    <tr>\n",
              "      <th>Linlin Deng</th>\n",
              "      <td>Gymnastics</td>\n",
              "      <td>54</td>\n",
              "      <td>68</td>\n",
              "    </tr>\n",
              "    <tr>\n",
              "      <th>Laurie Hernandez</th>\n",
              "      <td>Gymnastics</td>\n",
              "      <td>60</td>\n",
              "      <td>106</td>\n",
              "    </tr>\n",
              "    <tr>\n",
              "      <th>Kara Goucher</th>\n",
              "      <td>Track</td>\n",
              "      <td>67</td>\n",
              "      <td>123</td>\n",
              "    </tr>\n",
              "    <tr>\n",
              "      <th>Jennifer Lacy</th>\n",
              "      <td>Basketball</td>\n",
              "      <td>75</td>\n",
              "      <td>175</td>\n",
              "    </tr>\n",
              "    <tr>\n",
              "      <th>Irina Miketenko</th>\n",
              "      <td>Track</td>\n",
              "      <td>63</td>\n",
              "      <td>106</td>\n",
              "    </tr>\n",
              "    <tr>\n",
              "      <th>Helalia Johannes</th>\n",
              "      <td>Track</td>\n",
              "      <td>65</td>\n",
              "      <td>99</td>\n",
              "    </tr>\n",
              "    <tr>\n",
              "      <th>Gabby Douglas</th>\n",
              "      <td>Gymnastics</td>\n",
              "      <td>49</td>\n",
              "      <td>90</td>\n",
              "    </tr>\n",
              "    <tr>\n",
              "      <th>Elena Delle Donne</th>\n",
              "      <td>Basketball</td>\n",
              "      <td>77</td>\n",
              "      <td>188</td>\n",
              "    </tr>\n",
              "    <tr>\n",
              "      <th>Desiree Linden</th>\n",
              "      <td>Track</td>\n",
              "      <td>61</td>\n",
              "      <td>97</td>\n",
              "    </tr>\n",
              "    <tr>\n",
              "      <th>Chen Nan</th>\n",
              "      <td>Basketball</td>\n",
              "      <td>78</td>\n",
              "      <td>204</td>\n",
              "    </tr>\n",
              "    <tr>\n",
              "      <th>Brittainey Raven</th>\n",
              "      <td>Basketball</td>\n",
              "      <td>72</td>\n",
              "      <td>162</td>\n",
              "    </tr>\n",
              "    <tr>\n",
              "      <th>Asuka Teramoto</th>\n",
              "      <td>Gymnastics</td>\n",
              "      <td>54</td>\n",
              "      <td>66</td>\n",
              "    </tr>\n",
              "    <tr>\n",
              "      <th>Amy Cragg</th>\n",
              "      <td>Track</td>\n",
              "      <td>64</td>\n",
              "      <td>99</td>\n",
              "    </tr>\n",
              "  </tbody>\n",
              "</table>\n",
              "</div>"
            ],
            "text/plain": [
              "                        Sport  Height  Weight\n",
              "Name                                         \n",
              "Viktoria Komova    Gymnastics      61      76\n",
              "Valeria Straneo         Track      66      97\n",
              "Tiki Gelana             Track      65     106\n",
              "Tatyana Petrova         Track      63     108\n",
              "Simone Biles       Gymnastics      57     104\n",
              "Shavonte Zellous   Basketball      70     155\n",
              "Shanna Crossley    Basketball      70     155\n",
              "Shalane Flanagan        Track      65     106\n",
              "Seimone Augustus   Basketball      72     166\n",
              "Rene Kalmer             Track      70     108\n",
              "Rebecca Tunney     Gymnastics      58      77\n",
              "Qiushuang Huang    Gymnastics      61      95\n",
              "Nikki Blue         Basketball      68     163\n",
              "Nakia Sanford      Basketball      76     200\n",
              "Madison Kocian     Gymnastics      62     101\n",
              "Linlin Deng        Gymnastics      54      68\n",
              "Laurie Hernandez   Gymnastics      60     106\n",
              "Kara Goucher            Track      67     123\n",
              "Jennifer Lacy      Basketball      75     175\n",
              "Irina Miketenko         Track      63     106\n",
              "Helalia Johannes        Track      65      99\n",
              "Gabby Douglas      Gymnastics      49      90\n",
              "Elena Delle Donne  Basketball      77     188\n",
              "Desiree Linden          Track      61      97\n",
              "Chen Nan           Basketball      78     204\n",
              "Brittainey Raven   Basketball      72     162\n",
              "Asuka Teramoto     Gymnastics      54      66\n",
              "Amy Cragg               Track      64      99"
            ]
          },
          "metadata": {
            "tags": []
          },
          "execution_count": 94
        }
      ]
    },
    {
      "cell_type": "markdown",
      "metadata": {
        "id": "GPo1KYm2DzPx"
      },
      "source": [
        "We can use the `sort_values` method with the `by` argument to sort by a particular column:"
      ]
    },
    {
      "cell_type": "code",
      "metadata": {
        "id": "3K4c4oBwDzPx",
        "colab": {
          "base_uri": "https://localhost:8080/",
          "height": 948
        },
        "outputId": "aff12af0-de2c-4eb3-bfd5-1945ccd18c23"
      },
      "source": [
        "a.sort_values(by='Sport')"
      ],
      "execution_count": 95,
      "outputs": [
        {
          "output_type": "execute_result",
          "data": {
            "text/html": [
              "<div>\n",
              "<style scoped>\n",
              "    .dataframe tbody tr th:only-of-type {\n",
              "        vertical-align: middle;\n",
              "    }\n",
              "\n",
              "    .dataframe tbody tr th {\n",
              "        vertical-align: top;\n",
              "    }\n",
              "\n",
              "    .dataframe thead th {\n",
              "        text-align: right;\n",
              "    }\n",
              "</style>\n",
              "<table border=\"1\" class=\"dataframe\">\n",
              "  <thead>\n",
              "    <tr style=\"text-align: right;\">\n",
              "      <th></th>\n",
              "      <th>Sport</th>\n",
              "      <th>Height</th>\n",
              "      <th>Weight</th>\n",
              "    </tr>\n",
              "    <tr>\n",
              "      <th>Name</th>\n",
              "      <th></th>\n",
              "      <th></th>\n",
              "      <th></th>\n",
              "    </tr>\n",
              "  </thead>\n",
              "  <tbody>\n",
              "    <tr>\n",
              "      <th>Brittainey Raven</th>\n",
              "      <td>Basketball</td>\n",
              "      <td>72</td>\n",
              "      <td>162</td>\n",
              "    </tr>\n",
              "    <tr>\n",
              "      <th>Chen Nan</th>\n",
              "      <td>Basketball</td>\n",
              "      <td>78</td>\n",
              "      <td>204</td>\n",
              "    </tr>\n",
              "    <tr>\n",
              "      <th>Seimone Augustus</th>\n",
              "      <td>Basketball</td>\n",
              "      <td>72</td>\n",
              "      <td>166</td>\n",
              "    </tr>\n",
              "    <tr>\n",
              "      <th>Elena Delle Donne</th>\n",
              "      <td>Basketball</td>\n",
              "      <td>77</td>\n",
              "      <td>188</td>\n",
              "    </tr>\n",
              "    <tr>\n",
              "      <th>Jennifer Lacy</th>\n",
              "      <td>Basketball</td>\n",
              "      <td>75</td>\n",
              "      <td>175</td>\n",
              "    </tr>\n",
              "    <tr>\n",
              "      <th>Nakia Sanford</th>\n",
              "      <td>Basketball</td>\n",
              "      <td>76</td>\n",
              "      <td>200</td>\n",
              "    </tr>\n",
              "    <tr>\n",
              "      <th>Nikki Blue</th>\n",
              "      <td>Basketball</td>\n",
              "      <td>68</td>\n",
              "      <td>163</td>\n",
              "    </tr>\n",
              "    <tr>\n",
              "      <th>Shavonte Zellous</th>\n",
              "      <td>Basketball</td>\n",
              "      <td>70</td>\n",
              "      <td>155</td>\n",
              "    </tr>\n",
              "    <tr>\n",
              "      <th>Shanna Crossley</th>\n",
              "      <td>Basketball</td>\n",
              "      <td>70</td>\n",
              "      <td>155</td>\n",
              "    </tr>\n",
              "    <tr>\n",
              "      <th>Asuka Teramoto</th>\n",
              "      <td>Gymnastics</td>\n",
              "      <td>54</td>\n",
              "      <td>66</td>\n",
              "    </tr>\n",
              "    <tr>\n",
              "      <th>Madison Kocian</th>\n",
              "      <td>Gymnastics</td>\n",
              "      <td>62</td>\n",
              "      <td>101</td>\n",
              "    </tr>\n",
              "    <tr>\n",
              "      <th>Simone Biles</th>\n",
              "      <td>Gymnastics</td>\n",
              "      <td>57</td>\n",
              "      <td>104</td>\n",
              "    </tr>\n",
              "    <tr>\n",
              "      <th>Viktoria Komova</th>\n",
              "      <td>Gymnastics</td>\n",
              "      <td>61</td>\n",
              "      <td>76</td>\n",
              "    </tr>\n",
              "    <tr>\n",
              "      <th>Laurie Hernandez</th>\n",
              "      <td>Gymnastics</td>\n",
              "      <td>60</td>\n",
              "      <td>106</td>\n",
              "    </tr>\n",
              "    <tr>\n",
              "      <th>Rebecca Tunney</th>\n",
              "      <td>Gymnastics</td>\n",
              "      <td>58</td>\n",
              "      <td>77</td>\n",
              "    </tr>\n",
              "    <tr>\n",
              "      <th>Qiushuang Huang</th>\n",
              "      <td>Gymnastics</td>\n",
              "      <td>61</td>\n",
              "      <td>95</td>\n",
              "    </tr>\n",
              "    <tr>\n",
              "      <th>Linlin Deng</th>\n",
              "      <td>Gymnastics</td>\n",
              "      <td>54</td>\n",
              "      <td>68</td>\n",
              "    </tr>\n",
              "    <tr>\n",
              "      <th>Gabby Douglas</th>\n",
              "      <td>Gymnastics</td>\n",
              "      <td>49</td>\n",
              "      <td>90</td>\n",
              "    </tr>\n",
              "    <tr>\n",
              "      <th>Tatyana Petrova</th>\n",
              "      <td>Track</td>\n",
              "      <td>63</td>\n",
              "      <td>108</td>\n",
              "    </tr>\n",
              "    <tr>\n",
              "      <th>Tiki Gelana</th>\n",
              "      <td>Track</td>\n",
              "      <td>65</td>\n",
              "      <td>106</td>\n",
              "    </tr>\n",
              "    <tr>\n",
              "      <th>Valeria Straneo</th>\n",
              "      <td>Track</td>\n",
              "      <td>66</td>\n",
              "      <td>97</td>\n",
              "    </tr>\n",
              "    <tr>\n",
              "      <th>Amy Cragg</th>\n",
              "      <td>Track</td>\n",
              "      <td>64</td>\n",
              "      <td>99</td>\n",
              "    </tr>\n",
              "    <tr>\n",
              "      <th>Kara Goucher</th>\n",
              "      <td>Track</td>\n",
              "      <td>67</td>\n",
              "      <td>123</td>\n",
              "    </tr>\n",
              "    <tr>\n",
              "      <th>Irina Miketenko</th>\n",
              "      <td>Track</td>\n",
              "      <td>63</td>\n",
              "      <td>106</td>\n",
              "    </tr>\n",
              "    <tr>\n",
              "      <th>Helalia Johannes</th>\n",
              "      <td>Track</td>\n",
              "      <td>65</td>\n",
              "      <td>99</td>\n",
              "    </tr>\n",
              "    <tr>\n",
              "      <th>Desiree Linden</th>\n",
              "      <td>Track</td>\n",
              "      <td>61</td>\n",
              "      <td>97</td>\n",
              "    </tr>\n",
              "    <tr>\n",
              "      <th>Shalane Flanagan</th>\n",
              "      <td>Track</td>\n",
              "      <td>65</td>\n",
              "      <td>106</td>\n",
              "    </tr>\n",
              "    <tr>\n",
              "      <th>Rene Kalmer</th>\n",
              "      <td>Track</td>\n",
              "      <td>70</td>\n",
              "      <td>108</td>\n",
              "    </tr>\n",
              "  </tbody>\n",
              "</table>\n",
              "</div>"
            ],
            "text/plain": [
              "                        Sport  Height  Weight\n",
              "Name                                         \n",
              "Brittainey Raven   Basketball      72     162\n",
              "Chen Nan           Basketball      78     204\n",
              "Seimone Augustus   Basketball      72     166\n",
              "Elena Delle Donne  Basketball      77     188\n",
              "Jennifer Lacy      Basketball      75     175\n",
              "Nakia Sanford      Basketball      76     200\n",
              "Nikki Blue         Basketball      68     163\n",
              "Shavonte Zellous   Basketball      70     155\n",
              "Shanna Crossley    Basketball      70     155\n",
              "Asuka Teramoto     Gymnastics      54      66\n",
              "Madison Kocian     Gymnastics      62     101\n",
              "Simone Biles       Gymnastics      57     104\n",
              "Viktoria Komova    Gymnastics      61      76\n",
              "Laurie Hernandez   Gymnastics      60     106\n",
              "Rebecca Tunney     Gymnastics      58      77\n",
              "Qiushuang Huang    Gymnastics      61      95\n",
              "Linlin Deng        Gymnastics      54      68\n",
              "Gabby Douglas      Gymnastics      49      90\n",
              "Tatyana Petrova         Track      63     108\n",
              "Tiki Gelana             Track      65     106\n",
              "Valeria Straneo         Track      66      97\n",
              "Amy Cragg               Track      64      99\n",
              "Kara Goucher            Track      67     123\n",
              "Irina Miketenko         Track      63     106\n",
              "Helalia Johannes        Track      65      99\n",
              "Desiree Linden          Track      61      97\n",
              "Shalane Flanagan        Track      65     106\n",
              "Rene Kalmer             Track      70     108"
            ]
          },
          "metadata": {
            "tags": []
          },
          "execution_count": 95
        }
      ]
    },
    {
      "cell_type": "code",
      "metadata": {
        "id": "aB5uOBkGDzPy",
        "colab": {
          "base_uri": "https://localhost:8080/",
          "height": 948
        },
        "outputId": "0e6379f7-505f-4d5c-a777-2944ed33279e"
      },
      "source": [
        "a.sort_values(by=['Height', 'Weight'])"
      ],
      "execution_count": 96,
      "outputs": [
        {
          "output_type": "execute_result",
          "data": {
            "text/html": [
              "<div>\n",
              "<style scoped>\n",
              "    .dataframe tbody tr th:only-of-type {\n",
              "        vertical-align: middle;\n",
              "    }\n",
              "\n",
              "    .dataframe tbody tr th {\n",
              "        vertical-align: top;\n",
              "    }\n",
              "\n",
              "    .dataframe thead th {\n",
              "        text-align: right;\n",
              "    }\n",
              "</style>\n",
              "<table border=\"1\" class=\"dataframe\">\n",
              "  <thead>\n",
              "    <tr style=\"text-align: right;\">\n",
              "      <th></th>\n",
              "      <th>Sport</th>\n",
              "      <th>Height</th>\n",
              "      <th>Weight</th>\n",
              "    </tr>\n",
              "    <tr>\n",
              "      <th>Name</th>\n",
              "      <th></th>\n",
              "      <th></th>\n",
              "      <th></th>\n",
              "    </tr>\n",
              "  </thead>\n",
              "  <tbody>\n",
              "    <tr>\n",
              "      <th>Gabby Douglas</th>\n",
              "      <td>Gymnastics</td>\n",
              "      <td>49</td>\n",
              "      <td>90</td>\n",
              "    </tr>\n",
              "    <tr>\n",
              "      <th>Asuka Teramoto</th>\n",
              "      <td>Gymnastics</td>\n",
              "      <td>54</td>\n",
              "      <td>66</td>\n",
              "    </tr>\n",
              "    <tr>\n",
              "      <th>Linlin Deng</th>\n",
              "      <td>Gymnastics</td>\n",
              "      <td>54</td>\n",
              "      <td>68</td>\n",
              "    </tr>\n",
              "    <tr>\n",
              "      <th>Simone Biles</th>\n",
              "      <td>Gymnastics</td>\n",
              "      <td>57</td>\n",
              "      <td>104</td>\n",
              "    </tr>\n",
              "    <tr>\n",
              "      <th>Rebecca Tunney</th>\n",
              "      <td>Gymnastics</td>\n",
              "      <td>58</td>\n",
              "      <td>77</td>\n",
              "    </tr>\n",
              "    <tr>\n",
              "      <th>Laurie Hernandez</th>\n",
              "      <td>Gymnastics</td>\n",
              "      <td>60</td>\n",
              "      <td>106</td>\n",
              "    </tr>\n",
              "    <tr>\n",
              "      <th>Viktoria Komova</th>\n",
              "      <td>Gymnastics</td>\n",
              "      <td>61</td>\n",
              "      <td>76</td>\n",
              "    </tr>\n",
              "    <tr>\n",
              "      <th>Qiushuang Huang</th>\n",
              "      <td>Gymnastics</td>\n",
              "      <td>61</td>\n",
              "      <td>95</td>\n",
              "    </tr>\n",
              "    <tr>\n",
              "      <th>Desiree Linden</th>\n",
              "      <td>Track</td>\n",
              "      <td>61</td>\n",
              "      <td>97</td>\n",
              "    </tr>\n",
              "    <tr>\n",
              "      <th>Madison Kocian</th>\n",
              "      <td>Gymnastics</td>\n",
              "      <td>62</td>\n",
              "      <td>101</td>\n",
              "    </tr>\n",
              "    <tr>\n",
              "      <th>Irina Miketenko</th>\n",
              "      <td>Track</td>\n",
              "      <td>63</td>\n",
              "      <td>106</td>\n",
              "    </tr>\n",
              "    <tr>\n",
              "      <th>Tatyana Petrova</th>\n",
              "      <td>Track</td>\n",
              "      <td>63</td>\n",
              "      <td>108</td>\n",
              "    </tr>\n",
              "    <tr>\n",
              "      <th>Amy Cragg</th>\n",
              "      <td>Track</td>\n",
              "      <td>64</td>\n",
              "      <td>99</td>\n",
              "    </tr>\n",
              "    <tr>\n",
              "      <th>Helalia Johannes</th>\n",
              "      <td>Track</td>\n",
              "      <td>65</td>\n",
              "      <td>99</td>\n",
              "    </tr>\n",
              "    <tr>\n",
              "      <th>Tiki Gelana</th>\n",
              "      <td>Track</td>\n",
              "      <td>65</td>\n",
              "      <td>106</td>\n",
              "    </tr>\n",
              "    <tr>\n",
              "      <th>Shalane Flanagan</th>\n",
              "      <td>Track</td>\n",
              "      <td>65</td>\n",
              "      <td>106</td>\n",
              "    </tr>\n",
              "    <tr>\n",
              "      <th>Valeria Straneo</th>\n",
              "      <td>Track</td>\n",
              "      <td>66</td>\n",
              "      <td>97</td>\n",
              "    </tr>\n",
              "    <tr>\n",
              "      <th>Kara Goucher</th>\n",
              "      <td>Track</td>\n",
              "      <td>67</td>\n",
              "      <td>123</td>\n",
              "    </tr>\n",
              "    <tr>\n",
              "      <th>Nikki Blue</th>\n",
              "      <td>Basketball</td>\n",
              "      <td>68</td>\n",
              "      <td>163</td>\n",
              "    </tr>\n",
              "    <tr>\n",
              "      <th>Rene Kalmer</th>\n",
              "      <td>Track</td>\n",
              "      <td>70</td>\n",
              "      <td>108</td>\n",
              "    </tr>\n",
              "    <tr>\n",
              "      <th>Shanna Crossley</th>\n",
              "      <td>Basketball</td>\n",
              "      <td>70</td>\n",
              "      <td>155</td>\n",
              "    </tr>\n",
              "    <tr>\n",
              "      <th>Shavonte Zellous</th>\n",
              "      <td>Basketball</td>\n",
              "      <td>70</td>\n",
              "      <td>155</td>\n",
              "    </tr>\n",
              "    <tr>\n",
              "      <th>Brittainey Raven</th>\n",
              "      <td>Basketball</td>\n",
              "      <td>72</td>\n",
              "      <td>162</td>\n",
              "    </tr>\n",
              "    <tr>\n",
              "      <th>Seimone Augustus</th>\n",
              "      <td>Basketball</td>\n",
              "      <td>72</td>\n",
              "      <td>166</td>\n",
              "    </tr>\n",
              "    <tr>\n",
              "      <th>Jennifer Lacy</th>\n",
              "      <td>Basketball</td>\n",
              "      <td>75</td>\n",
              "      <td>175</td>\n",
              "    </tr>\n",
              "    <tr>\n",
              "      <th>Nakia Sanford</th>\n",
              "      <td>Basketball</td>\n",
              "      <td>76</td>\n",
              "      <td>200</td>\n",
              "    </tr>\n",
              "    <tr>\n",
              "      <th>Elena Delle Donne</th>\n",
              "      <td>Basketball</td>\n",
              "      <td>77</td>\n",
              "      <td>188</td>\n",
              "    </tr>\n",
              "    <tr>\n",
              "      <th>Chen Nan</th>\n",
              "      <td>Basketball</td>\n",
              "      <td>78</td>\n",
              "      <td>204</td>\n",
              "    </tr>\n",
              "  </tbody>\n",
              "</table>\n",
              "</div>"
            ],
            "text/plain": [
              "                        Sport  Height  Weight\n",
              "Name                                         \n",
              "Gabby Douglas      Gymnastics      49      90\n",
              "Asuka Teramoto     Gymnastics      54      66\n",
              "Linlin Deng        Gymnastics      54      68\n",
              "Simone Biles       Gymnastics      57     104\n",
              "Rebecca Tunney     Gymnastics      58      77\n",
              "Laurie Hernandez   Gymnastics      60     106\n",
              "Viktoria Komova    Gymnastics      61      76\n",
              "Qiushuang Huang    Gymnastics      61      95\n",
              "Desiree Linden          Track      61      97\n",
              "Madison Kocian     Gymnastics      62     101\n",
              "Irina Miketenko         Track      63     106\n",
              "Tatyana Petrova         Track      63     108\n",
              "Amy Cragg               Track      64      99\n",
              "Helalia Johannes        Track      65      99\n",
              "Tiki Gelana             Track      65     106\n",
              "Shalane Flanagan        Track      65     106\n",
              "Valeria Straneo         Track      66      97\n",
              "Kara Goucher            Track      67     123\n",
              "Nikki Blue         Basketball      68     163\n",
              "Rene Kalmer             Track      70     108\n",
              "Shanna Crossley    Basketball      70     155\n",
              "Shavonte Zellous   Basketball      70     155\n",
              "Brittainey Raven   Basketball      72     162\n",
              "Seimone Augustus   Basketball      72     166\n",
              "Jennifer Lacy      Basketball      75     175\n",
              "Nakia Sanford      Basketball      76     200\n",
              "Elena Delle Donne  Basketball      77     188\n",
              "Chen Nan           Basketball      78     204"
            ]
          },
          "metadata": {
            "tags": []
          },
          "execution_count": 96
        }
      ]
    },
    {
      "cell_type": "markdown",
      "metadata": {
        "id": "3fKWML_EDzPy"
      },
      "source": [
        "In that last example, we first sorted by height and then by weight.\n",
        "\n",
        "# The nearest neighbor Music example in Pandas\n",
        "\n",
        "Let's go back to our Numpy task that dealt with the following music data:\n",
        "\n",
        "\n",
        "\n",
        "| Guest  | Janelle Monae  | Major Lazer  | Tim McGraw  |  Maren Morris | Hailee Steinfeld| \n",
        "|---|---|---|---|---|---|\n",
        "|  Ann | 4  |  5 | 2  |  1 | 3 |\n",
        "| Ben  |  3 |  1 |  5 | 4  | 2|\n",
        "| Jordyn  | 5  |  5 | 2  | 2  | 3|\n",
        "|  Sam | 4 | 1 | 4 | 4 | 1|\n",
        "| Hyunseo | 1 | 1 | 5 | 4 | 1 |\n",
        "| Lauren | 3 | 1 | 5 |  5 | 5 |\n",
        "|  Ahmed | 4  |  5 | 3  |  3 | 1 |\n",
        "\n",
        "\n",
        "I want to find out who is the most similar to Mikaela and who is most similar to Brandon, who rated the artists:\n",
        "\n",
        "\n",
        "| Guest  | Janelle Monae  | Major Lazer  | Tim McGraw  |  Maren Morris | Hailee Steinfeld| \n",
        "|---|---|---|---|---|---|\n",
        "|  Mikaela | 3  |  2 | 4  |  5 |4 |\n",
        "|  Brandon | 4  |  5 | 1  |  2 |3 |\n",
        "\n",
        "My first step is to read in the data and convert the guest name column as the index:"
      ]
    },
    {
      "cell_type": "code",
      "metadata": {
        "scrolled": true,
        "id": "Dan8yVRxDzPy",
        "colab": {
          "base_uri": "https://localhost:8080/",
          "height": 297
        },
        "outputId": "95bcd912-ed99-4ccd-9747-513a72cbe04d"
      },
      "source": [
        "f = pd.read_csv('https://raw.githubusercontent.com/zacharski/ml-class/master/data/ratings2.csv')\n",
        "fr = f.set_index('Guest')\n",
        "fr"
      ],
      "execution_count": 97,
      "outputs": [
        {
          "output_type": "execute_result",
          "data": {
            "text/html": [
              "<div>\n",
              "<style scoped>\n",
              "    .dataframe tbody tr th:only-of-type {\n",
              "        vertical-align: middle;\n",
              "    }\n",
              "\n",
              "    .dataframe tbody tr th {\n",
              "        vertical-align: top;\n",
              "    }\n",
              "\n",
              "    .dataframe thead th {\n",
              "        text-align: right;\n",
              "    }\n",
              "</style>\n",
              "<table border=\"1\" class=\"dataframe\">\n",
              "  <thead>\n",
              "    <tr style=\"text-align: right;\">\n",
              "      <th></th>\n",
              "      <th>Janelle Monae</th>\n",
              "      <th>Major Lazer</th>\n",
              "      <th>Tim McGraw</th>\n",
              "      <th>Maren Morris</th>\n",
              "      <th>Hailee Steinfeld</th>\n",
              "    </tr>\n",
              "    <tr>\n",
              "      <th>Guest</th>\n",
              "      <th></th>\n",
              "      <th></th>\n",
              "      <th></th>\n",
              "      <th></th>\n",
              "      <th></th>\n",
              "    </tr>\n",
              "  </thead>\n",
              "  <tbody>\n",
              "    <tr>\n",
              "      <th>Ann</th>\n",
              "      <td>4</td>\n",
              "      <td>5</td>\n",
              "      <td>2</td>\n",
              "      <td>1</td>\n",
              "      <td>3</td>\n",
              "    </tr>\n",
              "    <tr>\n",
              "      <th>Ben</th>\n",
              "      <td>3</td>\n",
              "      <td>1</td>\n",
              "      <td>5</td>\n",
              "      <td>4</td>\n",
              "      <td>2</td>\n",
              "    </tr>\n",
              "    <tr>\n",
              "      <th>Jordyn</th>\n",
              "      <td>5</td>\n",
              "      <td>5</td>\n",
              "      <td>1</td>\n",
              "      <td>1</td>\n",
              "      <td>3</td>\n",
              "    </tr>\n",
              "    <tr>\n",
              "      <th>Sam</th>\n",
              "      <td>4</td>\n",
              "      <td>1</td>\n",
              "      <td>4</td>\n",
              "      <td>4</td>\n",
              "      <td>1</td>\n",
              "    </tr>\n",
              "    <tr>\n",
              "      <th>Hyunseo</th>\n",
              "      <td>1</td>\n",
              "      <td>1</td>\n",
              "      <td>5</td>\n",
              "      <td>4</td>\n",
              "      <td>1</td>\n",
              "    </tr>\n",
              "    <tr>\n",
              "      <th>Lauren</th>\n",
              "      <td>3</td>\n",
              "      <td>1</td>\n",
              "      <td>5</td>\n",
              "      <td>5</td>\n",
              "      <td>5</td>\n",
              "    </tr>\n",
              "    <tr>\n",
              "      <th>Ahmed</th>\n",
              "      <td>4</td>\n",
              "      <td>5</td>\n",
              "      <td>3</td>\n",
              "      <td>3</td>\n",
              "      <td>1</td>\n",
              "    </tr>\n",
              "  </tbody>\n",
              "</table>\n",
              "</div>"
            ],
            "text/plain": [
              "         Janelle Monae  Major Lazer  Tim McGraw  Maren Morris  Hailee Steinfeld\n",
              "Guest                                                                          \n",
              "Ann                  4            5           2             1                 3\n",
              "Ben                  3            1           5             4                 2\n",
              "Jordyn               5            5           1             1                 3\n",
              "Sam                  4            1           4             4                 1\n",
              "Hyunseo              1            1           5             4                 1\n",
              "Lauren               3            1           5             5                 5\n",
              "Ahmed                4            5           3             3                 1"
            ]
          },
          "metadata": {
            "tags": []
          },
          "execution_count": 97
        }
      ]
    },
    {
      "cell_type": "markdown",
      "metadata": {
        "id": "Y0wum7GCDzPy"
      },
      "source": [
        "Now let's load in Mikaela and Brandon in a different DataFrame"
      ]
    },
    {
      "cell_type": "code",
      "metadata": {
        "id": "F2H-GVxxDzPy",
        "colab": {
          "base_uri": "https://localhost:8080/",
          "height": 142
        },
        "outputId": "dfc659b5-4bf6-4561-cbe0-40300ea5501f"
      },
      "source": [
        "mb = pd.read_csv('https://raw.githubusercontent.com/zacharski/ml-class/master/data/ratings3.csv')\n",
        "mb.set_index('Guest', inplace=True)\n",
        "mb"
      ],
      "execution_count": 98,
      "outputs": [
        {
          "output_type": "execute_result",
          "data": {
            "text/html": [
              "<div>\n",
              "<style scoped>\n",
              "    .dataframe tbody tr th:only-of-type {\n",
              "        vertical-align: middle;\n",
              "    }\n",
              "\n",
              "    .dataframe tbody tr th {\n",
              "        vertical-align: top;\n",
              "    }\n",
              "\n",
              "    .dataframe thead th {\n",
              "        text-align: right;\n",
              "    }\n",
              "</style>\n",
              "<table border=\"1\" class=\"dataframe\">\n",
              "  <thead>\n",
              "    <tr style=\"text-align: right;\">\n",
              "      <th></th>\n",
              "      <th>Janelle Monae</th>\n",
              "      <th>Major Lazer</th>\n",
              "      <th>Tim McGraw</th>\n",
              "      <th>Maren Morris</th>\n",
              "      <th>Hailee Steinfeld</th>\n",
              "    </tr>\n",
              "    <tr>\n",
              "      <th>Guest</th>\n",
              "      <th></th>\n",
              "      <th></th>\n",
              "      <th></th>\n",
              "      <th></th>\n",
              "      <th></th>\n",
              "    </tr>\n",
              "  </thead>\n",
              "  <tbody>\n",
              "    <tr>\n",
              "      <th>Mikaela</th>\n",
              "      <td>3</td>\n",
              "      <td>2</td>\n",
              "      <td>4</td>\n",
              "      <td>5</td>\n",
              "      <td>4</td>\n",
              "    </tr>\n",
              "    <tr>\n",
              "      <th>Brandon</th>\n",
              "      <td>4</td>\n",
              "      <td>5</td>\n",
              "      <td>1</td>\n",
              "      <td>2</td>\n",
              "      <td>3</td>\n",
              "    </tr>\n",
              "  </tbody>\n",
              "</table>\n",
              "</div>"
            ],
            "text/plain": [
              "         Janelle Monae  Major Lazer  Tim McGraw  Maren Morris  Hailee Steinfeld\n",
              "Guest                                                                          \n",
              "Mikaela              3            2           4             5                 4\n",
              "Brandon              4            5           1             2                 3"
            ]
          },
          "metadata": {
            "tags": []
          },
          "execution_count": 98
        }
      ]
    },
    {
      "cell_type": "markdown",
      "metadata": {
        "id": "AmziVtQbDzPy"
      },
      "source": [
        "Let's work through the example step-by-step.\n",
        "\n",
        "First, can you set a variable named `mikaela` to equal the Mikaela row of `mb`?\n",
        "So something that starts with\n",
        "\n",
        "    mikaela = mb???????????"
      ]
    },
    {
      "cell_type": "code",
      "metadata": {
        "id": "5w8oawl0DzPz",
        "colab": {
          "base_uri": "https://localhost:8080/"
        },
        "outputId": "b3a38e95-2c9b-478e-82c1-49885aed23f0"
      },
      "source": [
        "mikaela = mb.loc['Mikaela']\r\n",
        "mikaela"
      ],
      "execution_count": 103,
      "outputs": [
        {
          "output_type": "execute_result",
          "data": {
            "text/plain": [
              "Janelle Monae       3\n",
              "Major Lazer         2\n",
              "Tim McGraw          4\n",
              "Maren Morris        5\n",
              "Hailee Steinfeld    4\n",
              "Name: Mikaela, dtype: int64"
            ]
          },
          "metadata": {
            "tags": []
          },
          "execution_count": 103
        }
      ]
    },
    {
      "cell_type": "markdown",
      "metadata": {
        "id": "y9Rr8kGvDzPz"
      },
      "source": [
        "First, let's subtract Mikaela's ratings from the other people's:"
      ]
    },
    {
      "cell_type": "code",
      "metadata": {
        "id": "diRW9hrmDzPz",
        "colab": {
          "base_uri": "https://localhost:8080/",
          "height": 297
        },
        "outputId": "4bff5588-2373-4af7-eebf-10b5f5f357b8"
      },
      "source": [
        "fr2 =fr.sub(mikaela)\n",
        "fr2"
      ],
      "execution_count": 104,
      "outputs": [
        {
          "output_type": "execute_result",
          "data": {
            "text/html": [
              "<div>\n",
              "<style scoped>\n",
              "    .dataframe tbody tr th:only-of-type {\n",
              "        vertical-align: middle;\n",
              "    }\n",
              "\n",
              "    .dataframe tbody tr th {\n",
              "        vertical-align: top;\n",
              "    }\n",
              "\n",
              "    .dataframe thead th {\n",
              "        text-align: right;\n",
              "    }\n",
              "</style>\n",
              "<table border=\"1\" class=\"dataframe\">\n",
              "  <thead>\n",
              "    <tr style=\"text-align: right;\">\n",
              "      <th></th>\n",
              "      <th>Janelle Monae</th>\n",
              "      <th>Major Lazer</th>\n",
              "      <th>Tim McGraw</th>\n",
              "      <th>Maren Morris</th>\n",
              "      <th>Hailee Steinfeld</th>\n",
              "    </tr>\n",
              "    <tr>\n",
              "      <th>Guest</th>\n",
              "      <th></th>\n",
              "      <th></th>\n",
              "      <th></th>\n",
              "      <th></th>\n",
              "      <th></th>\n",
              "    </tr>\n",
              "  </thead>\n",
              "  <tbody>\n",
              "    <tr>\n",
              "      <th>Ann</th>\n",
              "      <td>1</td>\n",
              "      <td>3</td>\n",
              "      <td>-2</td>\n",
              "      <td>-4</td>\n",
              "      <td>-1</td>\n",
              "    </tr>\n",
              "    <tr>\n",
              "      <th>Ben</th>\n",
              "      <td>0</td>\n",
              "      <td>-1</td>\n",
              "      <td>1</td>\n",
              "      <td>-1</td>\n",
              "      <td>-2</td>\n",
              "    </tr>\n",
              "    <tr>\n",
              "      <th>Jordyn</th>\n",
              "      <td>2</td>\n",
              "      <td>3</td>\n",
              "      <td>-3</td>\n",
              "      <td>-4</td>\n",
              "      <td>-1</td>\n",
              "    </tr>\n",
              "    <tr>\n",
              "      <th>Sam</th>\n",
              "      <td>1</td>\n",
              "      <td>-1</td>\n",
              "      <td>0</td>\n",
              "      <td>-1</td>\n",
              "      <td>-3</td>\n",
              "    </tr>\n",
              "    <tr>\n",
              "      <th>Hyunseo</th>\n",
              "      <td>-2</td>\n",
              "      <td>-1</td>\n",
              "      <td>1</td>\n",
              "      <td>-1</td>\n",
              "      <td>-3</td>\n",
              "    </tr>\n",
              "    <tr>\n",
              "      <th>Lauren</th>\n",
              "      <td>0</td>\n",
              "      <td>-1</td>\n",
              "      <td>1</td>\n",
              "      <td>0</td>\n",
              "      <td>1</td>\n",
              "    </tr>\n",
              "    <tr>\n",
              "      <th>Ahmed</th>\n",
              "      <td>1</td>\n",
              "      <td>3</td>\n",
              "      <td>-1</td>\n",
              "      <td>-2</td>\n",
              "      <td>-3</td>\n",
              "    </tr>\n",
              "  </tbody>\n",
              "</table>\n",
              "</div>"
            ],
            "text/plain": [
              "         Janelle Monae  Major Lazer  Tim McGraw  Maren Morris  Hailee Steinfeld\n",
              "Guest                                                                          \n",
              "Ann                  1            3          -2            -4                -1\n",
              "Ben                  0           -1           1            -1                -2\n",
              "Jordyn               2            3          -3            -4                -1\n",
              "Sam                  1           -1           0            -1                -3\n",
              "Hyunseo             -2           -1           1            -1                -3\n",
              "Lauren               0           -1           1             0                 1\n",
              "Ahmed                1            3          -1            -2                -3"
            ]
          },
          "metadata": {
            "tags": []
          },
          "execution_count": 104
        }
      ]
    },
    {
      "cell_type": "markdown",
      "metadata": {
        "id": "d7Ujw_mMDzPz"
      },
      "source": [
        "\n",
        "\n",
        "Next, we will get the absolute values "
      ]
    },
    {
      "cell_type": "code",
      "metadata": {
        "id": "SNph9ctXDzPz",
        "colab": {
          "base_uri": "https://localhost:8080/",
          "height": 297
        },
        "outputId": "6dd34787-59ac-4fcc-b365-19e25079b45d"
      },
      "source": [
        "fr3 = fr2.apply(np.abs)\n",
        "fr3"
      ],
      "execution_count": 105,
      "outputs": [
        {
          "output_type": "execute_result",
          "data": {
            "text/html": [
              "<div>\n",
              "<style scoped>\n",
              "    .dataframe tbody tr th:only-of-type {\n",
              "        vertical-align: middle;\n",
              "    }\n",
              "\n",
              "    .dataframe tbody tr th {\n",
              "        vertical-align: top;\n",
              "    }\n",
              "\n",
              "    .dataframe thead th {\n",
              "        text-align: right;\n",
              "    }\n",
              "</style>\n",
              "<table border=\"1\" class=\"dataframe\">\n",
              "  <thead>\n",
              "    <tr style=\"text-align: right;\">\n",
              "      <th></th>\n",
              "      <th>Janelle Monae</th>\n",
              "      <th>Major Lazer</th>\n",
              "      <th>Tim McGraw</th>\n",
              "      <th>Maren Morris</th>\n",
              "      <th>Hailee Steinfeld</th>\n",
              "    </tr>\n",
              "    <tr>\n",
              "      <th>Guest</th>\n",
              "      <th></th>\n",
              "      <th></th>\n",
              "      <th></th>\n",
              "      <th></th>\n",
              "      <th></th>\n",
              "    </tr>\n",
              "  </thead>\n",
              "  <tbody>\n",
              "    <tr>\n",
              "      <th>Ann</th>\n",
              "      <td>1</td>\n",
              "      <td>3</td>\n",
              "      <td>2</td>\n",
              "      <td>4</td>\n",
              "      <td>1</td>\n",
              "    </tr>\n",
              "    <tr>\n",
              "      <th>Ben</th>\n",
              "      <td>0</td>\n",
              "      <td>1</td>\n",
              "      <td>1</td>\n",
              "      <td>1</td>\n",
              "      <td>2</td>\n",
              "    </tr>\n",
              "    <tr>\n",
              "      <th>Jordyn</th>\n",
              "      <td>2</td>\n",
              "      <td>3</td>\n",
              "      <td>3</td>\n",
              "      <td>4</td>\n",
              "      <td>1</td>\n",
              "    </tr>\n",
              "    <tr>\n",
              "      <th>Sam</th>\n",
              "      <td>1</td>\n",
              "      <td>1</td>\n",
              "      <td>0</td>\n",
              "      <td>1</td>\n",
              "      <td>3</td>\n",
              "    </tr>\n",
              "    <tr>\n",
              "      <th>Hyunseo</th>\n",
              "      <td>2</td>\n",
              "      <td>1</td>\n",
              "      <td>1</td>\n",
              "      <td>1</td>\n",
              "      <td>3</td>\n",
              "    </tr>\n",
              "    <tr>\n",
              "      <th>Lauren</th>\n",
              "      <td>0</td>\n",
              "      <td>1</td>\n",
              "      <td>1</td>\n",
              "      <td>0</td>\n",
              "      <td>1</td>\n",
              "    </tr>\n",
              "    <tr>\n",
              "      <th>Ahmed</th>\n",
              "      <td>1</td>\n",
              "      <td>3</td>\n",
              "      <td>1</td>\n",
              "      <td>2</td>\n",
              "      <td>3</td>\n",
              "    </tr>\n",
              "  </tbody>\n",
              "</table>\n",
              "</div>"
            ],
            "text/plain": [
              "         Janelle Monae  Major Lazer  Tim McGraw  Maren Morris  Hailee Steinfeld\n",
              "Guest                                                                          \n",
              "Ann                  1            3           2             4                 1\n",
              "Ben                  0            1           1             1                 2\n",
              "Jordyn               2            3           3             4                 1\n",
              "Sam                  1            1           0             1                 3\n",
              "Hyunseo              2            1           1             1                 3\n",
              "Lauren               0            1           1             0                 1\n",
              "Ahmed                1            3           1             2                 3"
            ]
          },
          "metadata": {
            "tags": []
          },
          "execution_count": 105
        }
      ]
    },
    {
      "cell_type": "markdown",
      "metadata": {
        "id": "qy6wjloVDzPz"
      },
      "source": [
        "and sum the values in each row to compute the distances"
      ]
    },
    {
      "cell_type": "code",
      "metadata": {
        "id": "vLAfzEC5DzP0",
        "colab": {
          "base_uri": "https://localhost:8080/"
        },
        "outputId": "d850dc48-2b54-4664-f287-c498ccd32354"
      },
      "source": [
        "fr4 = fr3.sum(axis = 1)\n",
        "fr4"
      ],
      "execution_count": 155,
      "outputs": [
        {
          "output_type": "execute_result",
          "data": {
            "text/plain": [
              "Guest\n",
              "Ann        11\n",
              "Ben         5\n",
              "Jordyn     13\n",
              "Sam         6\n",
              "Hyunseo     8\n",
              "Lauren      3\n",
              "Ahmed      10\n",
              "dtype: int64"
            ]
          },
          "metadata": {
            "tags": []
          },
          "execution_count": 155
        }
      ]
    },
    {
      "cell_type": "markdown",
      "metadata": {
        "id": "P9f6gDrIDzP0"
      },
      "source": [
        "Finally, let's sort by the distance and get the three closest guests:"
      ]
    },
    {
      "cell_type": "code",
      "metadata": {
        "id": "THu5uYkfDzP0",
        "colab": {
          "base_uri": "https://localhost:8080/"
        },
        "outputId": "de839dd0-e4cd-4dff-9e2d-2502fcd03aba"
      },
      "source": [
        "fr4.sort_values().head(3)\r\n"
      ],
      "execution_count": 166,
      "outputs": [
        {
          "output_type": "execute_result",
          "data": {
            "text/plain": [
              "Guest\n",
              "Lauren    3\n",
              "Ben       5\n",
              "Sam       6\n",
              "dtype: int64"
            ]
          },
          "metadata": {
            "tags": []
          },
          "execution_count": 166
        }
      ]
    },
    {
      "cell_type": "markdown",
      "metadata": {
        "id": "EG905AE7DzP0"
      },
      "source": [
        "So Lauren is the person most similar to Mikaela, followed by Ben and Sam.\n",
        "\n",
        "<h3 style=\"color:red\">Q6. Find Closest</h3>\n",
        "\n",
        "<span style=\"color:red\">Can you write a function nearestNeighbor that takes 2 arguments: a customers dataframe,  and an array representing one customers ratings and returns the name and distance of the closest  customer (using Euclidean Distance)?</span>\n",
        "\n"
      ]
    },
    {
      "cell_type": "code",
      "metadata": {
        "id": "a7a3lcIaDzP0",
        "colab": {
          "base_uri": "https://localhost:8080/"
        },
        "outputId": "c7a54840-2183-430d-ef67-610d55008cce"
      },
      "source": [
        "ahmed = [4, 5, 3, 3, 1]\n",
        "def nearestNeighbor(ratings, customer):\n",
        "    # Your code here\n",
        "    distance = ratings.sub(customer)\n",
        "    squared = distance**2\n",
        "    sumOf = squared.sum(axis =1)\n",
        "    root = sumOf.apply(np.sqrt)\n",
        "    result = root.sort_values().head(1)\n",
        "    return result\n",
        "    \n",
        "    \n",
        "print(nearestNeighbor(fr, mikaela))\n",
        "# TO DO\n",
        "# brandon = ...\n",
        "print(nearestNeighbor(fr, mb.loc['Brandon']))"
      ],
      "execution_count": 167,
      "outputs": [
        {
          "output_type": "stream",
          "text": [
            "Guest\n",
            "Lauren    1.732051\n",
            "dtype: float64\n",
            "Guest\n",
            "Ann    1.414214\n",
            "dtype: float64\n"
          ],
          "name": "stdout"
        }
      ]
    },
    {
      "cell_type": "markdown",
      "metadata": {
        "collapsed": true,
        "id": "uMmcuaxODzP1"
      },
      "source": [
        "<h3 style=\"color:red\">Q7. Find Closest using Euclidean Distance</h3>\n",
        "\n",
        "<span style=\"color:red\">Can you write a new function nearestNeighbor that takes 3 arguments</span>\n",
        "\n",
        "* ratings - an DataFrame representing all our customer ratings\n",
        "* customer - a DataFrame representing one customer's rating\n",
        "* metric - the value is either the string 'manhattan' or 'euclidean' representing which metric to use to compute the distance.\n",
        "    a customers dataframe,  and an array representing one customers ratings\n",
        "    \n",
        "It returns the name and distance of the closest  customer (using Euclidean Distance)?\n"
      ]
    },
    {
      "cell_type": "code",
      "metadata": {
        "id": "lZccY0YKDzP1",
        "colab": {
          "base_uri": "https://localhost:8080/"
        },
        "outputId": "4116aa2b-7978-4263-a296-15f9f4ab65f3"
      },
      "source": [
        "def nearestNeighbor(ratings, customer, metric):\n",
        "    # Your code here\n",
        "    if metric == 'euclidean':\n",
        "      distance = ratings.sub(customer)\n",
        "      squared = distance**2\n",
        "      sumOf = squared.sum(axis =1)\n",
        "      root = sumOf.apply(np.sqrt)\n",
        "      result = root.sort_values().head(1)\n",
        "    elif metric == 'manhattan':\n",
        "      distance = ratings.sub(customer)\n",
        "      positive = distance.apply(np.abs)\n",
        "      sumOf = positive.sum(axis = 1)\n",
        "      result = sumOf.sort_values().head(1)\n",
        "    return result\n",
        "\n",
        "print(nearestNeighbor(fr, mikaela, metric='euclidean'))\n",
        "print(nearestNeighbor(fr,mikaela,metric='manhattan'))\n",
        "print(nearestNeighbor(fr, mb.loc['Brandon'], metric='euclidean'))"
      ],
      "execution_count": 173,
      "outputs": [
        {
          "output_type": "stream",
          "text": [
            "Guest\n",
            "Lauren    1.732051\n",
            "dtype: float64\n",
            "Guest\n",
            "Lauren    3\n",
            "dtype: int64\n",
            "Guest\n",
            "Ann    1.414214\n",
            "dtype: float64\n"
          ],
          "name": "stdout"
        }
      ]
    }
  ]
}