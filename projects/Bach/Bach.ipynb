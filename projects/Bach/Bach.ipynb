{
  "nbformat": 4,
  "nbformat_minor": 0,
  "metadata": {
    "colab": {
      "name": "Bach.ipynb",
      "provenance": [],
      "collapsed_sections": [],
      "authorship_tag": "ABX9TyNc88U8xSKjiCde9eaTl6CL",
      "include_colab_link": true
    },
    "kernelspec": {
      "name": "python3",
      "display_name": "Python 3"
    },
    "language_info": {
      "name": "python"
    }
  },
  "cells": [
    {
      "cell_type": "markdown",
      "metadata": {
        "id": "view-in-github",
        "colab_type": "text"
      },
      "source": [
        "<a href=\"https://colab.research.google.com/github/TavionK/CPSC-419/blob/main/projects/Bach/Bach.ipynb\" target=\"_parent\"><img src=\"https://colab.research.google.com/assets/colab-badge.svg\" alt=\"Open In Colab\"/></a>"
      ]
    },
    {
      "cell_type": "code",
      "metadata": {
        "colab": {
          "base_uri": "https://localhost:8080/"
        },
        "id": "u9Is1TE7-_SB",
        "outputId": "6f742701-3343-4b5e-fe93-9e2c28b28f78"
      },
      "source": [
        "#get the data\n",
        "import pandas as pd\n",
        "bach = pd.read_csv('https://raw.githubusercontent.com/TavionK/CPSC-419/main/projects/Bach/bach.csv')\n",
        "#fix the notes and bass columns\n",
        "bach['c'] = bach['C'].apply(lambda x: True if x == 'YES' else False)\n",
        "bach = bach.drop('C', axis=1)\n",
        "bach['c#'] = bach['C#'].apply(lambda x: True if x == 'YES' else False)\n",
        "bach = bach.drop('C#', axis=1)\n",
        "bach['d'] = bach['D'].apply(lambda x: True if x == 'YES' else False)\n",
        "bach = bach.drop('D', axis=1)\n",
        "bach['d#'] = bach['D#'].apply(lambda x: True if x == 'YES' else False)\n",
        "bach = bach.drop('D#', axis=1)\n",
        "bach['e'] = bach['E'].apply(lambda x: True if x == 'YES' else False)\n",
        "bach = bach.drop('E', axis=1)\n",
        "bach['f'] = bach['F'].apply(lambda x: True if x == 'YES' else False)\n",
        "bach = bach.drop('F', axis=1)\n",
        "bach['f#'] = bach['F#'].apply(lambda x: True if x == 'YES' else False)\n",
        "bach = bach.drop('F#', axis=1)\n",
        "bach['g'] = bach['G'].apply(lambda x: True if x == 'YES' else False)\n",
        "bach = bach.drop('G', axis=1)\n",
        "bach['g#'] = bach['G#'].apply(lambda x: True if x == 'YES' else False)\n",
        "bach = bach.drop('G#', axis=1)\n",
        "bach['a'] = bach['A'].apply(lambda x: True if x == 'YES' else False)\n",
        "bach = bach.drop('A', axis=1)\n",
        "bach['a#'] = bach['A#'].apply(lambda x: True if x == 'YES' else False)\n",
        "bach = bach.drop('A#', axis=1)\n",
        "bach['b'] = bach['B'].apply(lambda x: True if x == 'YES' else False)\n",
        "bach = bach.drop('B', axis=1)\n",
        "one_hot = pd.get_dummies(bach['bass'])\n",
        "bach = bach.drop('bass', axis=1)\n",
        "bach = bach.join(one_hot)\n",
        "print(bach)\n"
      ],
      "execution_count": 25,
      "outputs": [
        {
          "output_type": "stream",
          "text": [
            "     choral_ID  event_number  meter chord_label      c  ...  Eb  F  F#  G  G#\n",
            "0     000106b_             1      3         F_M   True  ...   0  1   0  0   0\n",
            "1     000106b_             2      5         C_M   True  ...   0  0   0  0   0\n",
            "2     000106b_             3      2         C_M   True  ...   0  0   0  0   0\n",
            "3     000106b_             4      3         F_M   True  ...   0  1   0  0   0\n",
            "4     000106b_             5      2         F_M   True  ...   0  1   0  0   0\n",
            "...        ...           ...    ...         ...    ...  ...  .. ..  .. ..  ..\n",
            "5660  015505b_           105      4         G_m  False  ...   0  0   0  1   0\n",
            "5661  015505b_           106      3         G_m  False  ...   0  0   0  1   0\n",
            "5662  015505b_           107      5         C_M   True  ...   0  0   0  0   0\n",
            "5663  015505b_           108      3         C_M   True  ...   0  0   0  0   0\n",
            "5664  015505b_           109      4         F_M  False  ...   0  1   0  0   0\n",
            "\n",
            "[5665 rows x 32 columns]\n"
          ],
          "name": "stdout"
        }
      ]
    },
    {
      "cell_type": "code",
      "metadata": {
        "colab": {
          "base_uri": "https://localhost:8080/"
        },
        "id": "5IGqHfIooaTL",
        "outputId": "29c7ebe3-f2ad-4680-84c9-3ff29e8fe591"
      },
      "source": [
        "bach.set_index('choral_ID', inplace=True)\n",
        "bFeatures = bach.drop('chord_label', axis=1)\n",
        "bLabels = bach['chord_label']\n",
        "from sklearn.model_selection import train_test_split\n",
        "bach_train_features, bach_test_features, bach_train_labels, bach_test_labels = train_test_split(bFeatures, bLabels, test_size = 0.2, random_state=42)\n",
        "print(bach)\n",
        "#create the clf's\n",
        "from sklearn import tree\n",
        "clf = tree.DecisionTreeClassifier(criterion='entropy')\n",
        "clf.fit(bach_train_features,bach_train_labels)"
      ],
      "execution_count": 26,
      "outputs": [
        {
          "output_type": "stream",
          "text": [
            "           event_number  meter chord_label      c     c#  ...  Eb  F  F#  G  G#\n",
            "choral_ID                                                 ...                  \n",
            "000106b_              1      3         F_M   True  False  ...   0  1   0  0   0\n",
            "000106b_              2      5         C_M   True  False  ...   0  0   0  0   0\n",
            "000106b_              3      2         C_M   True  False  ...   0  0   0  0   0\n",
            "000106b_              4      3         F_M   True  False  ...   0  1   0  0   0\n",
            "000106b_              5      2         F_M   True  False  ...   0  1   0  0   0\n",
            "...                 ...    ...         ...    ...    ...  ...  .. ..  .. ..  ..\n",
            "015505b_            105      4         G_m  False  False  ...   0  0   0  1   0\n",
            "015505b_            106      3         G_m  False  False  ...   0  0   0  1   0\n",
            "015505b_            107      5         C_M   True  False  ...   0  0   0  0   0\n",
            "015505b_            108      3         C_M   True  False  ...   0  0   0  0   0\n",
            "015505b_            109      4         F_M  False  False  ...   0  1   0  0   0\n",
            "\n",
            "[5665 rows x 31 columns]\n"
          ],
          "name": "stdout"
        },
        {
          "output_type": "execute_result",
          "data": {
            "text/plain": [
              "DecisionTreeClassifier(ccp_alpha=0.0, class_weight=None, criterion='entropy',\n",
              "                       max_depth=None, max_features=None, max_leaf_nodes=None,\n",
              "                       min_impurity_decrease=0.0, min_impurity_split=None,\n",
              "                       min_samples_leaf=1, min_samples_split=2,\n",
              "                       min_weight_fraction_leaf=0.0, presort='deprecated',\n",
              "                       random_state=None, splitter='best')"
            ]
          },
          "metadata": {
            "tags": []
          },
          "execution_count": 26
        }
      ]
    },
    {
      "cell_type": "code",
      "metadata": {
        "colab": {
          "base_uri": "https://localhost:8080/"
        },
        "id": "ll4lhm3Bw3fm",
        "outputId": "4d792600-f131-463a-8af5-f4aee2248509"
      },
      "source": [
        "from sklearn.model_selection import cross_val_score\n",
        "scores = cross_val_score(clf, bach_train_features, bach_train_labels, cv=10)\n",
        "print(scores)\n",
        "print(\"Mean is %5.3f\" % (scores.mean()))"
      ],
      "execution_count": 34,
      "outputs": [
        {
          "output_type": "stream",
          "text": [
            "/usr/local/lib/python3.7/dist-packages/sklearn/model_selection/_split.py:667: UserWarning: The least populated class in y has only 1 members, which is less than n_splits=10.\n",
            "  % (min_groups, self.n_splits)), UserWarning)\n"
          ],
          "name": "stderr"
        },
        {
          "output_type": "stream",
          "text": [
            "[0.67621145 0.68502203 0.68432671 0.66225166 0.68432671 0.72406181\n",
            " 0.70860927 0.64900662 0.67549669 0.70640177]\n",
            "Mean is 0.686\n"
          ],
          "name": "stdout"
        }
      ]
    },
    {
      "cell_type": "code",
      "metadata": {
        "colab": {
          "base_uri": "https://localhost:8080/"
        },
        "id": "AUNHT3zXyVDZ",
        "outputId": "ce2ad7b4-2634-4d68-fdcb-9531b2d21b15"
      },
      "source": [
        "#find the best depth\n",
        "from sklearn.model_selection import GridSearchCV\n",
        "hyperparam_grid = [\n",
        "    {'max_depth': [3, 4, 5, 6, 7, 8, 9, 10, 11, 12], \n",
        "     'min_samples_split': [2,3,4, 5]}\n",
        "  ]\n",
        "clf = tree.DecisionTreeClassifier(criterion='entropy')\n",
        "grid_search = GridSearchCV(clf, hyperparam_grid, cv=10)\n",
        "grid_search.fit(bach_train_features, bach_train_labels)\n",
        "grid_search.best_params_"
      ],
      "execution_count": 57,
      "outputs": [
        {
          "output_type": "stream",
          "text": [
            "/usr/local/lib/python3.7/dist-packages/sklearn/model_selection/_split.py:667: UserWarning: The least populated class in y has only 1 members, which is less than n_splits=10.\n",
            "  % (min_groups, self.n_splits)), UserWarning)\n"
          ],
          "name": "stderr"
        },
        {
          "output_type": "execute_result",
          "data": {
            "text/plain": [
              "{'max_depth': 10, 'min_samples_split': 5}"
            ]
          },
          "metadata": {
            "tags": []
          },
          "execution_count": 57
        }
      ]
    },
    {
      "cell_type": "code",
      "metadata": {
        "colab": {
          "base_uri": "https://localhost:8080/"
        },
        "id": "Kku-yc2zzLzZ",
        "outputId": "fa5107db-7882-420d-bf74-be0407a91afe"
      },
      "source": [
        "from sklearn.metrics import accuracy_score\n",
        "predictions = grid_search.best_estimator_.predict(bach_test_features)\n",
        "accuracy_score(bach_test_labels, predictions)"
      ],
      "execution_count": 59,
      "outputs": [
        {
          "output_type": "execute_result",
          "data": {
            "text/plain": [
              "0.7007943512797882"
            ]
          },
          "metadata": {
            "tags": []
          },
          "execution_count": 59
        }
      ]
    }
  ]
}